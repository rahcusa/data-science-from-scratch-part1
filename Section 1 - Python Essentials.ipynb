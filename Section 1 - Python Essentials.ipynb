{
 "cells": [
  {
   "cell_type": "markdown",
   "id": "dbd6a279",
   "metadata": {},
   "source": [
    "**1) Python data types**"
   ]
  },
  {
   "cell_type": "code",
   "execution_count": 1,
   "id": "de3ad51f",
   "metadata": {
    "scrolled": true
   },
   "outputs": [
    {
     "data": {
      "text/plain": [
       "7"
      ]
     },
     "execution_count": 1,
     "metadata": {},
     "output_type": "execute_result"
    }
   ],
   "source": [
    "# addition\n",
    "5 + 2"
   ]
  },
  {
   "cell_type": "code",
   "execution_count": 1,
   "id": "5d8a3f7f",
   "metadata": {},
   "outputs": [
    {
     "data": {
      "text/plain": [
       "1"
      ]
     },
     "execution_count": 1,
     "metadata": {},
     "output_type": "execute_result"
    }
   ],
   "source": [
    "# modulo\n",
    "5 % 2"
   ]
  },
  {
   "cell_type": "code",
   "execution_count": 2,
   "id": "0bbb6a15",
   "metadata": {},
   "outputs": [
    {
     "data": {
      "text/plain": [
       "25"
      ]
     },
     "execution_count": 2,
     "metadata": {},
     "output_type": "execute_result"
    }
   ],
   "source": [
    "# exponent\n",
    "5 ** 2"
   ]
  },
  {
   "cell_type": "code",
   "execution_count": 3,
   "id": "0d76c03a",
   "metadata": {},
   "outputs": [
    {
     "data": {
      "text/plain": [
       "11"
      ]
     },
     "execution_count": 3,
     "metadata": {},
     "output_type": "execute_result"
    }
   ],
   "source": [
    "# python follows arithmetic order of operations\n",
    "1 + 2 * 3 + 4"
   ]
  },
  {
   "cell_type": "markdown",
   "id": "930ff9f7",
   "metadata": {},
   "source": [
    "**1.2) Strings**"
   ]
  },
  {
   "cell_type": "code",
   "execution_count": 4,
   "id": "92b4fa32",
   "metadata": {},
   "outputs": [],
   "source": [
    "first = 'Amandeep'\n",
    "last = 'Suchar'"
   ]
  },
  {
   "cell_type": "code",
   "execution_count": 6,
   "id": "042ef41c",
   "metadata": {},
   "outputs": [
    {
     "name": "stdout",
     "output_type": "stream",
     "text": [
      "My name is Amandeep Suchar\n"
     ]
    }
   ],
   "source": [
    "print('My name is {} {}'.format(first, last))"
   ]
  },
  {
   "cell_type": "code",
   "execution_count": 7,
   "id": "d5cb98c4",
   "metadata": {},
   "outputs": [
    {
     "name": "stdout",
     "output_type": "stream",
     "text": [
      "My name is Amandeep Suchar\n"
     ]
    }
   ],
   "source": [
    "# format using placeholders\n",
    "print('My name is {a} {b}'.format(a=first, b=last))"
   ]
  },
  {
   "cell_type": "markdown",
   "id": "44617d8a",
   "metadata": {},
   "source": [
    "String slicing"
   ]
  },
  {
   "cell_type": "code",
   "execution_count": 8,
   "id": "15be6c4a",
   "metadata": {},
   "outputs": [
    {
     "data": {
      "text/plain": [
       "'S'"
      ]
     },
     "execution_count": 8,
     "metadata": {},
     "output_type": "execute_result"
    }
   ],
   "source": [
    "X = 'S'\n",
    "X[0]"
   ]
  },
  {
   "cell_type": "code",
   "execution_count": 9,
   "id": "63879ef4",
   "metadata": {},
   "outputs": [
    {
     "data": {
      "text/plain": [
       "'p'"
      ]
     },
     "execution_count": 9,
     "metadata": {},
     "output_type": "execute_result"
    }
   ],
   "source": [
    "str = 'Hi Im Amandeep'\n",
    "str[-1]"
   ]
  },
  {
   "cell_type": "code",
   "execution_count": 10,
   "id": "073adefa",
   "metadata": {},
   "outputs": [
    {
     "data": {
      "text/plain": [
       "' Im Amandeep'"
      ]
     },
     "execution_count": 10,
     "metadata": {},
     "output_type": "execute_result"
    }
   ],
   "source": [
    "# slice the greeting\n",
    "str[3:]"
   ]
  },
  {
   "cell_type": "code",
   "execution_count": 11,
   "id": "0323d538",
   "metadata": {},
   "outputs": [
    {
     "data": {
      "text/plain": [
       "'Hi'"
      ]
     },
     "execution_count": 11,
     "metadata": {},
     "output_type": "execute_result"
    }
   ],
   "source": [
    "# slice the introduction\n",
    "str[:2]"
   ]
  },
  {
   "cell_type": "code",
   "execution_count": 16,
   "id": "085efbb2",
   "metadata": {},
   "outputs": [
    {
     "data": {
      "text/plain": [
       "'Amandeep'"
      ]
     },
     "execution_count": 16,
     "metadata": {},
     "output_type": "execute_result"
    }
   ],
   "source": [
    "# slice the name\n",
    "str[6:14]"
   ]
  },
  {
   "cell_type": "markdown",
   "id": "bb76a89b",
   "metadata": {},
   "source": [
    "**1.3) Lists**"
   ]
  },
  {
   "cell_type": "code",
   "execution_count": 26,
   "id": "e198a579",
   "metadata": {},
   "outputs": [
    {
     "name": "stdout",
     "output_type": "stream",
     "text": [
      "[1, 2]\n"
     ]
    }
   ],
   "source": [
    "my_list = [1, 2]\n",
    "print(my_list)"
   ]
  },
  {
   "cell_type": "code",
   "execution_count": 27,
   "id": "8f31ac23",
   "metadata": {},
   "outputs": [
    {
     "name": "stdout",
     "output_type": "stream",
     "text": [
      "2\n"
     ]
    }
   ],
   "source": [
    "print(my_list[1])"
   ]
  },
  {
   "cell_type": "code",
   "execution_count": 28,
   "id": "859bd4fd",
   "metadata": {},
   "outputs": [
    {
     "name": "stdout",
     "output_type": "stream",
     "text": [
      "2\n"
     ]
    }
   ],
   "source": [
    "print(my_list.pop())"
   ]
  },
  {
   "cell_type": "code",
   "execution_count": 30,
   "id": "c7867bb9",
   "metadata": {},
   "outputs": [
    {
     "name": "stdout",
     "output_type": "stream",
     "text": [
      "['e', 'f']\n"
     ]
    }
   ],
   "source": [
    "# lists support the same slicing operations as strings\n",
    "str_list = ['d', 'e', 'f']\n",
    "print(str_list[1:])"
   ]
  },
  {
   "cell_type": "code",
   "execution_count": 31,
   "id": "2af9e264",
   "metadata": {},
   "outputs": [
    {
     "name": "stdout",
     "output_type": "stream",
     "text": [
      "a\n"
     ]
    }
   ],
   "source": [
    "nested = [1, 2, [3, 4, ['a', 'b']]]\n",
    "# grab 'a'\n",
    "print(nested[2][2][0])"
   ]
  },
  {
   "cell_type": "markdown",
   "id": "65459798",
   "metadata": {},
   "source": [
    "**1.4) Dictionaries**"
   ]
  },
  {
   "cell_type": "code",
   "execution_count": 33,
   "id": "6088b3e8",
   "metadata": {},
   "outputs": [
    {
     "name": "stdout",
     "output_type": "stream",
     "text": [
      "6\n"
     ]
    }
   ],
   "source": [
    "dict = {'a': [1, 2, 3], 'b': [4, 5, 6]}\n",
    "# print 6\n",
    "print(dict['b'][2])"
   ]
  },
  {
   "cell_type": "code",
   "execution_count": 34,
   "id": "6bd724c9",
   "metadata": {},
   "outputs": [
    {
     "name": "stdout",
     "output_type": "stream",
     "text": [
      "8\n"
     ]
    }
   ],
   "source": [
    "nested_dict = {'a': [1, 2, 3], 'b': [4, 5, 6], 'c': {'k1': [7, 8]}}\n",
    "# print 8\n",
    "print(nested_dict['c']['k1'][1])"
   ]
  },
  {
   "cell_type": "markdown",
   "id": "5e42ad0f",
   "metadata": {},
   "source": [
    "**1.5) Tuples**"
   ]
  },
  {
   "cell_type": "code",
   "execution_count": 35,
   "id": "edf8095e",
   "metadata": {
    "scrolled": true
   },
   "outputs": [
    {
     "name": "stdout",
     "output_type": "stream",
     "text": [
      "1\n"
     ]
    },
    {
     "ename": "TypeError",
     "evalue": "'tuple' object does not support item assignment",
     "output_type": "error",
     "traceback": [
      "\u001b[1;31m---------------------------------------------------------------------------\u001b[0m",
      "\u001b[1;31mTypeError\u001b[0m                                 Traceback (most recent call last)",
      "Cell \u001b[1;32mIn[35], line 4\u001b[0m\n\u001b[0;32m      2\u001b[0m tup \u001b[38;5;241m=\u001b[39m (\u001b[38;5;241m1\u001b[39m, \u001b[38;5;241m2\u001b[39m, \u001b[38;5;241m3\u001b[39m)\n\u001b[0;32m      3\u001b[0m \u001b[38;5;28mprint\u001b[39m(tup[\u001b[38;5;241m0\u001b[39m])\n\u001b[1;32m----> 4\u001b[0m tup[\u001b[38;5;241m0\u001b[39m] \u001b[38;5;241m=\u001b[39m \u001b[38;5;241m4\u001b[39m\n",
      "\u001b[1;31mTypeError\u001b[0m: 'tuple' object does not support item assignment"
     ]
    }
   ],
   "source": [
    "# tuples are immutable lists\n",
    "tup = (1, 2, 3)\n",
    "print(tup[0])\n",
    "tup[0] = 4"
   ]
  },
  {
   "cell_type": "markdown",
   "id": "bc6f0c9d",
   "metadata": {},
   "source": [
    "**1.6) Sets**"
   ]
  },
  {
   "cell_type": "code",
   "execution_count": 41,
   "id": "ebf8627c",
   "metadata": {},
   "outputs": [
    {
     "name": "stdout",
     "output_type": "stream",
     "text": [
      "{1, 2, 3, 4}\n",
      "{1, 2, 3, 4, 5}\n",
      "{1, 2, 4, 5}\n",
      "True\n"
     ]
    }
   ],
   "source": [
    "# sets are collections of items, an item can only appear once in a set\n",
    "set = {1, 2, 2, 3, 3, 3, 4, 4, 4, 4}\n",
    "print(set)\n",
    "# items can be added using .add()\n",
    "set.add(5)\n",
    "print(set)\n",
    "# items can be removed using .remove()\n",
    "set.remove(3)\n",
    "print(set)\n",
    "# can check if item is in a set\n",
    "print(1 in set)"
   ]
  },
  {
   "cell_type": "markdown",
   "id": "579325cf",
   "metadata": {},
   "source": [
    "(Skipping Sections 2, 3, 4)\n",
    "\n",
    "**5) Loops**"
   ]
  },
  {
   "cell_type": "code",
   "execution_count": 2,
   "id": "5f7dbaf6",
   "metadata": {},
   "outputs": [
    {
     "name": "stdout",
     "output_type": "stream",
     "text": [
      "1\n",
      "2\n",
      "3\n",
      "4\n",
      "5\n"
     ]
    }
   ],
   "source": [
    "my_list = [1, 2, 3, 4, 5]\n",
    "for item in my_list:\n",
    "    print(item)"
   ]
  },
  {
   "cell_type": "code",
   "execution_count": 7,
   "id": "1c38e770",
   "metadata": {},
   "outputs": [
    {
     "name": "stdout",
     "output_type": "stream",
     "text": [
      "[0, 1, 2]\n",
      "[1, 2, 3, 4]\n",
      "[1, 5, 9]\n"
     ]
    }
   ],
   "source": [
    "# rather than creating sequences, we can use a range()\n",
    "# range() is a generator of numerical values\n",
    "print(list(range(3))) # generates values up to (but not including) 3\n",
    "print(list(range(1, 5))) # generates values from 1 up to (but not including) 5\n",
    "print(list(range(1, 10, 4))) # generates values up to 10, incrementing by 4"
   ]
  },
  {
   "cell_type": "markdown",
   "id": "cb49f704",
   "metadata": {},
   "source": [
    "List comprehensions"
   ]
  },
  {
   "cell_type": "code",
   "execution_count": 8,
   "id": "0dfff466",
   "metadata": {},
   "outputs": [
    {
     "data": {
      "text/plain": [
       "[0, 2, 4]"
      ]
     },
     "execution_count": 8,
     "metadata": {},
     "output_type": "execute_result"
    }
   ],
   "source": [
    "# simply take a for statement and move it after what you want in the result\n",
    "[num * 2 for num in range(0, 3)]"
   ]
  },
  {
   "cell_type": "markdown",
   "id": "08289d1f",
   "metadata": {},
   "source": [
    "**8) Lambda expressions and 9) Map and filter"
   ]
  },
  {
   "cell_type": "code",
   "execution_count": 11,
   "id": "7940b073",
   "metadata": {},
   "outputs": [
    {
     "data": {
      "text/plain": [
       "[0, 2, 4, 6, 8]"
      ]
     },
     "execution_count": 11,
     "metadata": {},
     "output_type": "execute_result"
    }
   ],
   "source": [
    "# used lambda to create small anonymous functions\n",
    "# handy when using map and filter\n",
    "list(map(lambda num: num * 2, range(0, 5)))"
   ]
  },
  {
   "cell_type": "code",
   "execution_count": 13,
   "id": "a88d29fc",
   "metadata": {},
   "outputs": [
    {
     "data": {
      "text/plain": [
       "[0, 5, 10, 15, 20, 25, 30, 35, 40, 45]"
      ]
     },
     "execution_count": 13,
     "metadata": {},
     "output_type": "execute_result"
    }
   ],
   "source": [
    "# filter all multiples of 5\n",
    "list(filter(lambda num: num % 5 == 0, range(0, 50)))"
   ]
  }
 ],
 "metadata": {
  "kernelspec": {
   "display_name": "Python 3 (ipykernel)",
   "language": "python",
   "name": "python3"
  },
  "language_info": {
   "codemirror_mode": {
    "name": "ipython",
    "version": 3
   },
   "file_extension": ".py",
   "mimetype": "text/x-python",
   "name": "python",
   "nbconvert_exporter": "python",
   "pygments_lexer": "ipython3",
   "version": "3.10.8"
  }
 },
 "nbformat": 4,
 "nbformat_minor": 5
}
