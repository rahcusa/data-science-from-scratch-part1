{
 "cells": [
  {
   "cell_type": "markdown",
   "id": "25a31762",
   "metadata": {},
   "source": [
    "**Exercise 1 (Overview): Ecommerce Purchases**\n",
    "Dataset is available from course downloads.\n",
    "The dataset contains customer purchase info on-line or in-store. We will use it to answer some questions"
   ]
  },
  {
   "cell_type": "code",
   "execution_count": 3,
   "id": "4787941f",
   "metadata": {},
   "outputs": [
    {
     "data": {
      "text/plain": [
       "'C:\\\\Users\\\\asuch\\\\Documents\\\\Code\\\\course_data-science-from-scratch-part1'"
      ]
     },
     "execution_count": 3,
     "metadata": {},
     "output_type": "execute_result"
    }
   ],
   "source": [
    "import os\n",
    "cwd = os.getcwd()\n",
    "cwd"
   ]
  },
  {
   "cell_type": "markdown",
   "id": "57d3daba",
   "metadata": {},
   "source": [
    "Loop through the files in your working directory and display their names"
   ]
  },
  {
   "cell_type": "code",
   "execution_count": 4,
   "id": "871074d5",
   "metadata": {},
   "outputs": [
    {
     "name": "stdout",
     "output_type": "stream",
     "text": [
      ".gitignore\n",
      "environment.yml\n",
      "Section 1 - Python Essentials Exercises.ipynb\n",
      "Section 1 - Python Essentials.ipynb\n",
      "Section 2 - NumPy Exercises.ipynb\n",
      "Section 2 - NumPy.ipynb\n",
      "Section 3 - Exercises.ipynb\n",
      "Section 3 - Pandas for Data Analysis.ipynb\n",
      "Section 3 - part 2 & 3 - Hierarchal Indexing and Handling Missing data in Pandas.ipynb\n",
      "Section 3 - part 4 and 5 - Combining and merging and Groupby.ipynb\n",
      "Section 3 - part 6 - Useful methods.ipynb\n"
     ]
    }
   ],
   "source": [
    "files = [f for f in os.listdir('.') if os.path.isfile(f)]\n",
    "for f in files:\n",
    "    print(f)"
   ]
  },
  {
   "cell_type": "code",
   "execution_count": 5,
   "id": "1ae8cd2d",
   "metadata": {},
   "outputs": [],
   "source": [
    "import pandas as pd"
   ]
  },
  {
   "cell_type": "markdown",
   "id": "e61f3acc",
   "metadata": {},
   "source": [
    "1) Please load data from sample file 'Cust_Purch_FakeData.csv'"
   ]
  },
  {
   "cell_type": "code",
   "execution_count": 8,
   "id": "3844a794",
   "metadata": {},
   "outputs": [],
   "source": [
    "cust = pd.read_csv('.\\exercises data\\Cust_Purch_FakeData.csv')"
   ]
  },
  {
   "cell_type": "markdown",
   "id": "25101d47",
   "metadata": {},
   "source": [
    "2) display the first 5 rows of your data-set"
   ]
  },
  {
   "cell_type": "code",
   "execution_count": 9,
   "id": "d6af9574",
   "metadata": {},
   "outputs": [
    {
     "data": {
      "text/html": [
       "<div>\n",
       "<style scoped>\n",
       "    .dataframe tbody tr th:only-of-type {\n",
       "        vertical-align: middle;\n",
       "    }\n",
       "\n",
       "    .dataframe tbody tr th {\n",
       "        vertical-align: top;\n",
       "    }\n",
       "\n",
       "    .dataframe thead th {\n",
       "        text-align: right;\n",
       "    }\n",
       "</style>\n",
       "<table border=\"1\" class=\"dataframe\">\n",
       "  <thead>\n",
       "    <tr style=\"text-align: right;\">\n",
       "      <th></th>\n",
       "      <th>prefix</th>\n",
       "      <th>first</th>\n",
       "      <th>last</th>\n",
       "      <th>email</th>\n",
       "      <th>gender</th>\n",
       "      <th>age</th>\n",
       "      <th>company</th>\n",
       "      <th>profession</th>\n",
       "      <th>phone</th>\n",
       "      <th>postal</th>\n",
       "      <th>province</th>\n",
       "      <th>cc_no</th>\n",
       "      <th>cc_exp</th>\n",
       "      <th>cc_type</th>\n",
       "      <th>price(CAD)</th>\n",
       "      <th>fav_color</th>\n",
       "      <th>ip</th>\n",
       "      <th>weekday</th>\n",
       "      <th>ampm</th>\n",
       "      <th>date</th>\n",
       "    </tr>\n",
       "  </thead>\n",
       "  <tbody>\n",
       "    <tr>\n",
       "      <th>0</th>\n",
       "      <td>Dr.</td>\n",
       "      <td>Ray</td>\n",
       "      <td>Morton</td>\n",
       "      <td>sebvajom@kol.km</td>\n",
       "      <td>Male</td>\n",
       "      <td>38</td>\n",
       "      <td>Medtronic Inc.</td>\n",
       "      <td>Health Therapist</td>\n",
       "      <td>(987) 619-2695</td>\n",
       "      <td>B6V 3W3</td>\n",
       "      <td>MB</td>\n",
       "      <td>5020000000000230</td>\n",
       "      <td>05/2018</td>\n",
       "      <td>Solo</td>\n",
       "      <td>8.36</td>\n",
       "      <td>Blue</td>\n",
       "      <td>126.23.139.2</td>\n",
       "      <td>Sunday</td>\n",
       "      <td>pm</td>\n",
       "      <td>04/05/1930</td>\n",
       "    </tr>\n",
       "    <tr>\n",
       "      <th>1</th>\n",
       "      <td>Miss</td>\n",
       "      <td>Claudia</td>\n",
       "      <td>Rodriquez</td>\n",
       "      <td>acu@jatsot.ug</td>\n",
       "      <td>Female</td>\n",
       "      <td>51</td>\n",
       "      <td>Ames Department Stores, Inc.</td>\n",
       "      <td>Health Therapist</td>\n",
       "      <td>(356) 736-7352</td>\n",
       "      <td>G7M 5F3</td>\n",
       "      <td>SK</td>\n",
       "      <td>5020000000000230</td>\n",
       "      <td>07/2028</td>\n",
       "      <td>Visa</td>\n",
       "      <td>68.31</td>\n",
       "      <td>Black</td>\n",
       "      <td>106.198.76.211</td>\n",
       "      <td>Tuesday</td>\n",
       "      <td>am</td>\n",
       "      <td>12/20/1926</td>\n",
       "    </tr>\n",
       "    <tr>\n",
       "      <th>2</th>\n",
       "      <td>Miss</td>\n",
       "      <td>Harry</td>\n",
       "      <td>Meyer</td>\n",
       "      <td>zuz@lo.wf</td>\n",
       "      <td>Female</td>\n",
       "      <td>51</td>\n",
       "      <td>CSX Corp.</td>\n",
       "      <td>Political Scientist</td>\n",
       "      <td>(539) 246-1806</td>\n",
       "      <td>A0Z 6P9</td>\n",
       "      <td>NS</td>\n",
       "      <td>6300000000000000</td>\n",
       "      <td>02/2023</td>\n",
       "      <td>Switch</td>\n",
       "      <td>34.65</td>\n",
       "      <td>Black</td>\n",
       "      <td>186.150.187.29</td>\n",
       "      <td>Wednesday</td>\n",
       "      <td>pm</td>\n",
       "      <td>08/20/1931</td>\n",
       "    </tr>\n",
       "    <tr>\n",
       "      <th>3</th>\n",
       "      <td>Miss</td>\n",
       "      <td>Edith</td>\n",
       "      <td>Gilbert</td>\n",
       "      <td>hansohsi@jupec.md</td>\n",
       "      <td>Female</td>\n",
       "      <td>55</td>\n",
       "      <td>Murphy Oil Corporation</td>\n",
       "      <td>Transportation Manager</td>\n",
       "      <td>(984) 962-7494</td>\n",
       "      <td>P9I 9H3</td>\n",
       "      <td>YT</td>\n",
       "      <td>3530000000000000</td>\n",
       "      <td>02/2028</td>\n",
       "      <td>Maestro</td>\n",
       "      <td>64.59</td>\n",
       "      <td>White</td>\n",
       "      <td>80.140.57.161</td>\n",
       "      <td>Saturday</td>\n",
       "      <td>am</td>\n",
       "      <td>06/18/2001</td>\n",
       "    </tr>\n",
       "    <tr>\n",
       "      <th>4</th>\n",
       "      <td>Dr.</td>\n",
       "      <td>Lura</td>\n",
       "      <td>Murphy</td>\n",
       "      <td>webediti@je.st</td>\n",
       "      <td>Female</td>\n",
       "      <td>20</td>\n",
       "      <td>PETsMART Inc</td>\n",
       "      <td>Statistician</td>\n",
       "      <td>(902) 568-9748</td>\n",
       "      <td>S1A 6K0</td>\n",
       "      <td>ON</td>\n",
       "      <td>4030000000000000</td>\n",
       "      <td>10/2025</td>\n",
       "      <td>Diners Club International</td>\n",
       "      <td>20.83</td>\n",
       "      <td>Yellow</td>\n",
       "      <td>211.103.43.41</td>\n",
       "      <td>Friday</td>\n",
       "      <td>pm</td>\n",
       "      <td>06/14/2045</td>\n",
       "    </tr>\n",
       "  </tbody>\n",
       "</table>\n",
       "</div>"
      ],
      "text/plain": [
       "  prefix    first       last              email  gender  age  \\\n",
       "0    Dr.      Ray     Morton    sebvajom@kol.km    Male   38   \n",
       "1   Miss  Claudia  Rodriquez      acu@jatsot.ug  Female   51   \n",
       "2   Miss    Harry      Meyer          zuz@lo.wf  Female   51   \n",
       "3   Miss    Edith    Gilbert  hansohsi@jupec.md  Female   55   \n",
       "4    Dr.     Lura     Murphy     webediti@je.st  Female   20   \n",
       "\n",
       "                        company              profession           phone  \\\n",
       "0                Medtronic Inc.        Health Therapist  (987) 619-2695   \n",
       "1  Ames Department Stores, Inc.        Health Therapist  (356) 736-7352   \n",
       "2                     CSX Corp.     Political Scientist  (539) 246-1806   \n",
       "3        Murphy Oil Corporation  Transportation Manager  (984) 962-7494   \n",
       "4                  PETsMART Inc            Statistician  (902) 568-9748   \n",
       "\n",
       "    postal province             cc_no   cc_exp                    cc_type  \\\n",
       "0  B6V 3W3       MB  5020000000000230  05/2018                       Solo   \n",
       "1  G7M 5F3       SK  5020000000000230  07/2028                       Visa   \n",
       "2  A0Z 6P9       NS  6300000000000000  02/2023                     Switch   \n",
       "3  P9I 9H3       YT  3530000000000000  02/2028                    Maestro   \n",
       "4  S1A 6K0       ON  4030000000000000  10/2025  Diners Club International   \n",
       "\n",
       "   price(CAD) fav_color              ip    weekday ampm        date  \n",
       "0        8.36      Blue    126.23.139.2     Sunday   pm  04/05/1930  \n",
       "1       68.31     Black  106.198.76.211    Tuesday   am  12/20/1926  \n",
       "2       34.65     Black  186.150.187.29  Wednesday   pm  08/20/1931  \n",
       "3       64.59     White   80.140.57.161   Saturday   am  06/18/2001  \n",
       "4       20.83    Yellow   211.103.43.41     Friday   pm  06/14/2045  "
      ]
     },
     "execution_count": 9,
     "metadata": {},
     "output_type": "execute_result"
    }
   ],
   "source": [
    "cust.head(5)"
   ]
  },
  {
   "cell_type": "markdown",
   "id": "20efcf17",
   "metadata": {},
   "source": [
    "3) How many entries does your data have? Can you tell the # of columns in your data?"
   ]
  },
  {
   "cell_type": "code",
   "execution_count": 18,
   "id": "50a85fc8",
   "metadata": {},
   "outputs": [
    {
     "name": "stdout",
     "output_type": "stream",
     "text": [
      "<class 'pandas.core.frame.DataFrame'>\n",
      "RangeIndex: 30000 entries, 0 to 29999\n",
      "Data columns (total 20 columns):\n",
      " #   Column      Non-Null Count  Dtype  \n",
      "---  ------      --------------  -----  \n",
      " 0   prefix      30000 non-null  object \n",
      " 1   first       30000 non-null  object \n",
      " 2   last        30000 non-null  object \n",
      " 3   email       30000 non-null  object \n",
      " 4   gender      30000 non-null  object \n",
      " 5   age         30000 non-null  int64  \n",
      " 6   company     30000 non-null  object \n",
      " 7   profession  30000 non-null  object \n",
      " 8   phone       30000 non-null  object \n",
      " 9   postal      30000 non-null  object \n",
      " 10  province    30000 non-null  object \n",
      " 11  cc_no       30000 non-null  int64  \n",
      " 12  cc_exp      30000 non-null  object \n",
      " 13  cc_type     30000 non-null  object \n",
      " 14  price(CAD)  30000 non-null  float64\n",
      " 15  fav_color   30000 non-null  object \n",
      " 16  ip          30000 non-null  object \n",
      " 17  weekday     30000 non-null  object \n",
      " 18  ampm        30000 non-null  object \n",
      " 19  date        30000 non-null  object \n",
      "dtypes: float64(1), int64(2), object(17)\n",
      "memory usage: 4.6+ MB\n",
      "count:  None\n"
     ]
    }
   ],
   "source": [
    "print('count: ', cust.info())"
   ]
  },
  {
   "cell_type": "markdown",
   "id": "9ff7aed4",
   "metadata": {},
   "source": [
    "4) What are the max and min ages of your customer? Can you find the mean of your customer?"
   ]
  },
  {
   "cell_type": "code",
   "execution_count": 19,
   "id": "09fe1b68",
   "metadata": {},
   "outputs": [
    {
     "name": "stdout",
     "output_type": "stream",
     "text": [
      "Max age is  65\n",
      "Min age is  18\n",
      "Avg age is  41.550066666666666\n"
     ]
    }
   ],
   "source": [
    "print('Max age is ', cust['age'].max())\n",
    "print('Min age is ', cust['age'].min())\n",
    "print('Avg age is ', cust['age'].mean())"
   ]
  },
  {
   "cell_type": "markdown",
   "id": "699db31b",
   "metadata": {},
   "source": [
    "5) What are the three most common customer names?"
   ]
  },
  {
   "cell_type": "code",
   "execution_count": 24,
   "id": "509719ef",
   "metadata": {},
   "outputs": [
    {
     "data": {
      "text/plain": [
       "Willie     130\n",
       "Francis    124\n",
       "Eula        86\n",
       "Name: first, dtype: int64"
      ]
     },
     "execution_count": 24,
     "metadata": {},
     "output_type": "execute_result"
    }
   ],
   "source": [
    "cust['first'].value_counts().head(3)"
   ]
  },
  {
   "cell_type": "markdown",
   "id": "33a2c330",
   "metadata": {},
   "source": [
    "6) Two customers have the same phone number, can you find those customers?"
   ]
  },
  {
   "cell_type": "code",
   "execution_count": 38,
   "id": "1e270dae",
   "metadata": {},
   "outputs": [
    {
     "data": {
      "text/plain": [
       "'(263) 382-8004'"
      ]
     },
     "execution_count": 38,
     "metadata": {},
     "output_type": "execute_result"
    }
   ],
   "source": [
    "phone = cust['phone'].value_counts().head(2)\n",
    "phone.index[0]"
   ]
  },
  {
   "cell_type": "code",
   "execution_count": 39,
   "id": "7eb9e7f2",
   "metadata": {},
   "outputs": [
    {
     "data": {
      "text/html": [
       "<div>\n",
       "<style scoped>\n",
       "    .dataframe tbody tr th:only-of-type {\n",
       "        vertical-align: middle;\n",
       "    }\n",
       "\n",
       "    .dataframe tbody tr th {\n",
       "        vertical-align: top;\n",
       "    }\n",
       "\n",
       "    .dataframe thead th {\n",
       "        text-align: right;\n",
       "    }\n",
       "</style>\n",
       "<table border=\"1\" class=\"dataframe\">\n",
       "  <thead>\n",
       "    <tr style=\"text-align: right;\">\n",
       "      <th></th>\n",
       "      <th>prefix</th>\n",
       "      <th>first</th>\n",
       "      <th>last</th>\n",
       "      <th>email</th>\n",
       "      <th>gender</th>\n",
       "      <th>age</th>\n",
       "      <th>company</th>\n",
       "      <th>profession</th>\n",
       "      <th>phone</th>\n",
       "      <th>postal</th>\n",
       "      <th>province</th>\n",
       "      <th>cc_no</th>\n",
       "      <th>cc_exp</th>\n",
       "      <th>cc_type</th>\n",
       "      <th>price(CAD)</th>\n",
       "      <th>fav_color</th>\n",
       "      <th>ip</th>\n",
       "      <th>weekday</th>\n",
       "      <th>ampm</th>\n",
       "      <th>date</th>\n",
       "    </tr>\n",
       "  </thead>\n",
       "  <tbody>\n",
       "    <tr>\n",
       "      <th>15</th>\n",
       "      <td>Mrs.</td>\n",
       "      <td>Lilly</td>\n",
       "      <td>Tyler</td>\n",
       "      <td>kofadu@itohi.tf</td>\n",
       "      <td>Female</td>\n",
       "      <td>38</td>\n",
       "      <td>CSX Corp.</td>\n",
       "      <td>Structural Engineer</td>\n",
       "      <td>(263) 382-8004</td>\n",
       "      <td>V7K 1E3</td>\n",
       "      <td>ON</td>\n",
       "      <td>30000000000000</td>\n",
       "      <td>11/2022</td>\n",
       "      <td>Diners Club Carte Blanche</td>\n",
       "      <td>9.61</td>\n",
       "      <td>Yellow</td>\n",
       "      <td>74.124.37.227</td>\n",
       "      <td>Saturday</td>\n",
       "      <td>am</td>\n",
       "      <td>03/30/1985</td>\n",
       "    </tr>\n",
       "    <tr>\n",
       "      <th>16</th>\n",
       "      <td>Mrs.</td>\n",
       "      <td>Peter</td>\n",
       "      <td>Cain</td>\n",
       "      <td>megkosig@anazeor.gn</td>\n",
       "      <td>Male</td>\n",
       "      <td>27</td>\n",
       "      <td>Campbell Soup Co.</td>\n",
       "      <td>Insurance Adjuster</td>\n",
       "      <td>(263) 382-8004</td>\n",
       "      <td>E8T 2B4</td>\n",
       "      <td>YT</td>\n",
       "      <td>3530000000000000</td>\n",
       "      <td>03/2024</td>\n",
       "      <td>Solo</td>\n",
       "      <td>13.74</td>\n",
       "      <td>Black</td>\n",
       "      <td>25.207.141.135</td>\n",
       "      <td>Tuesday</td>\n",
       "      <td>am</td>\n",
       "      <td>08/05/1950</td>\n",
       "    </tr>\n",
       "  </tbody>\n",
       "</table>\n",
       "</div>"
      ],
      "text/plain": [
       "   prefix  first   last                email  gender  age            company  \\\n",
       "15   Mrs.  Lilly  Tyler      kofadu@itohi.tf  Female   38          CSX Corp.   \n",
       "16   Mrs.  Peter   Cain  megkosig@anazeor.gn    Male   27  Campbell Soup Co.   \n",
       "\n",
       "             profession           phone   postal province             cc_no  \\\n",
       "15  Structural Engineer  (263) 382-8004  V7K 1E3       ON    30000000000000   \n",
       "16   Insurance Adjuster  (263) 382-8004  E8T 2B4       YT  3530000000000000   \n",
       "\n",
       "     cc_exp                    cc_type  price(CAD) fav_color              ip  \\\n",
       "15  11/2022  Diners Club Carte Blanche        9.61    Yellow   74.124.37.227   \n",
       "16  03/2024                       Solo       13.74     Black  25.207.141.135   \n",
       "\n",
       "     weekday ampm        date  \n",
       "15  Saturday   am  03/30/1985  \n",
       "16   Tuesday   am  08/05/1950  "
      ]
     },
     "execution_count": 39,
     "metadata": {},
     "output_type": "execute_result"
    }
   ],
   "source": [
    "# now we know the phone, lets find out the other stuff\n",
    "cust[cust['phone'] == phone.index[0]]"
   ]
  },
  {
   "cell_type": "markdown",
   "id": "7eb3370f",
   "metadata": {},
   "source": [
    "7) How many customers have profession \"Structural Engineer\"?"
   ]
  },
  {
   "cell_type": "code",
   "execution_count": 42,
   "id": "b83ed945",
   "metadata": {},
   "outputs": [
    {
     "data": {
      "text/plain": [
       "prefix        87\n",
       "first         87\n",
       "last          87\n",
       "email         87\n",
       "gender        87\n",
       "age           87\n",
       "company       87\n",
       "profession    87\n",
       "phone         87\n",
       "postal        87\n",
       "province      87\n",
       "cc_no         87\n",
       "cc_exp        87\n",
       "cc_type       87\n",
       "price(CAD)    87\n",
       "fav_color     87\n",
       "ip            87\n",
       "weekday       87\n",
       "ampm          87\n",
       "date          87\n",
       "dtype: int64"
      ]
     },
     "execution_count": 42,
     "metadata": {},
     "output_type": "execute_result"
    }
   ],
   "source": [
    "cust[cust['profession'] == 'Structural Engineer'].count()"
   ]
  },
  {
   "cell_type": "markdown",
   "id": "63663736",
   "metadata": {},
   "source": [
    "8) How many male customers are 'Structural Engineer'?"
   ]
  },
  {
   "cell_type": "code",
   "execution_count": 44,
   "id": "fc02e4f4",
   "metadata": {},
   "outputs": [
    {
     "data": {
      "text/plain": [
       "prefix        43\n",
       "first         43\n",
       "last          43\n",
       "email         43\n",
       "gender        43\n",
       "age           43\n",
       "company       43\n",
       "profession    43\n",
       "phone         43\n",
       "postal        43\n",
       "province      43\n",
       "cc_no         43\n",
       "cc_exp        43\n",
       "cc_type       43\n",
       "price(CAD)    43\n",
       "fav_color     43\n",
       "ip            43\n",
       "weekday       43\n",
       "ampm          43\n",
       "date          43\n",
       "dtype: int64"
      ]
     },
     "execution_count": 44,
     "metadata": {},
     "output_type": "execute_result"
    }
   ],
   "source": [
    "bool_ser = (cust['profession'] == 'Structural Engineer') & (cust['gender'] == 'Male')\n",
    "cust[bool_ser].count()"
   ]
  },
  {
   "cell_type": "markdown",
   "id": "6d278349",
   "metadata": {},
   "source": [
    "9) Find out the female Structural Engineers from provinde Alberta (AB)?"
   ]
  },
  {
   "cell_type": "code",
   "execution_count": 45,
   "id": "dc4aa0c1",
   "metadata": {},
   "outputs": [
    {
     "data": {
      "text/html": [
       "<div>\n",
       "<style scoped>\n",
       "    .dataframe tbody tr th:only-of-type {\n",
       "        vertical-align: middle;\n",
       "    }\n",
       "\n",
       "    .dataframe tbody tr th {\n",
       "        vertical-align: top;\n",
       "    }\n",
       "\n",
       "    .dataframe thead th {\n",
       "        text-align: right;\n",
       "    }\n",
       "</style>\n",
       "<table border=\"1\" class=\"dataframe\">\n",
       "  <thead>\n",
       "    <tr style=\"text-align: right;\">\n",
       "      <th></th>\n",
       "      <th>prefix</th>\n",
       "      <th>first</th>\n",
       "      <th>last</th>\n",
       "      <th>email</th>\n",
       "      <th>gender</th>\n",
       "      <th>age</th>\n",
       "      <th>company</th>\n",
       "      <th>profession</th>\n",
       "      <th>phone</th>\n",
       "      <th>postal</th>\n",
       "      <th>province</th>\n",
       "      <th>cc_no</th>\n",
       "      <th>cc_exp</th>\n",
       "      <th>cc_type</th>\n",
       "      <th>price(CAD)</th>\n",
       "      <th>fav_color</th>\n",
       "      <th>ip</th>\n",
       "      <th>weekday</th>\n",
       "      <th>ampm</th>\n",
       "      <th>date</th>\n",
       "    </tr>\n",
       "  </thead>\n",
       "  <tbody>\n",
       "    <tr>\n",
       "      <th>8858</th>\n",
       "      <td>Dr.</td>\n",
       "      <td>Roy</td>\n",
       "      <td>Stanley</td>\n",
       "      <td>apiunvo@ehasom.ir</td>\n",
       "      <td>Female</td>\n",
       "      <td>39</td>\n",
       "      <td>Cincinnati Financial Corp.</td>\n",
       "      <td>Structural Engineer</td>\n",
       "      <td>(876) 758-2929</td>\n",
       "      <td>N5A 6L2</td>\n",
       "      <td>AB</td>\n",
       "      <td>6300000000000000</td>\n",
       "      <td>02/2022</td>\n",
       "      <td>InstaPayment</td>\n",
       "      <td>31.86</td>\n",
       "      <td>Red</td>\n",
       "      <td>165.249.159.57</td>\n",
       "      <td>Sunday</td>\n",
       "      <td>pm</td>\n",
       "      <td>12/25/1903</td>\n",
       "    </tr>\n",
       "    <tr>\n",
       "      <th>9058</th>\n",
       "      <td>Mr.</td>\n",
       "      <td>Lora</td>\n",
       "      <td>Kennedy</td>\n",
       "      <td>dennap@rabac.se</td>\n",
       "      <td>Female</td>\n",
       "      <td>51</td>\n",
       "      <td>BJ Services Company</td>\n",
       "      <td>Structural Engineer</td>\n",
       "      <td>(305) 786-6959</td>\n",
       "      <td>N3R 4B7</td>\n",
       "      <td>AB</td>\n",
       "      <td>201000000000000</td>\n",
       "      <td>06/2019</td>\n",
       "      <td>Diners Club United States &amp; Canada</td>\n",
       "      <td>53.29</td>\n",
       "      <td>Black</td>\n",
       "      <td>42.216.243.206</td>\n",
       "      <td>Thursday</td>\n",
       "      <td>pm</td>\n",
       "      <td>06/06/2028</td>\n",
       "    </tr>\n",
       "    <tr>\n",
       "      <th>24736</th>\n",
       "      <td>Mrs.</td>\n",
       "      <td>Nell</td>\n",
       "      <td>Richards</td>\n",
       "      <td>dob@me.ki</td>\n",
       "      <td>Female</td>\n",
       "      <td>18</td>\n",
       "      <td>Telephone &amp; Data Systems Inc</td>\n",
       "      <td>Structural Engineer</td>\n",
       "      <td>(262) 681-5018</td>\n",
       "      <td>N3Y 3G2</td>\n",
       "      <td>AB</td>\n",
       "      <td>347000000000000</td>\n",
       "      <td>07/2028</td>\n",
       "      <td>American Express</td>\n",
       "      <td>76.28</td>\n",
       "      <td>Blue</td>\n",
       "      <td>91.16.30.156</td>\n",
       "      <td>Wednesday</td>\n",
       "      <td>pm</td>\n",
       "      <td>07/14/1951</td>\n",
       "    </tr>\n",
       "    <tr>\n",
       "      <th>29865</th>\n",
       "      <td>Mrs.</td>\n",
       "      <td>Don</td>\n",
       "      <td>McDaniel</td>\n",
       "      <td>naf@zudu.bj</td>\n",
       "      <td>Female</td>\n",
       "      <td>37</td>\n",
       "      <td>Anadarko Petroleum Corporation</td>\n",
       "      <td>Structural Engineer</td>\n",
       "      <td>(238) 789-2825</td>\n",
       "      <td>B4A 8Q9</td>\n",
       "      <td>AB</td>\n",
       "      <td>5610000000000000</td>\n",
       "      <td>12/2022</td>\n",
       "      <td>Mastercard</td>\n",
       "      <td>62.71</td>\n",
       "      <td>Blue</td>\n",
       "      <td>162.233.117.142</td>\n",
       "      <td>Sunday</td>\n",
       "      <td>pm</td>\n",
       "      <td>11/03/1989</td>\n",
       "    </tr>\n",
       "  </tbody>\n",
       "</table>\n",
       "</div>"
      ],
      "text/plain": [
       "      prefix first      last              email  gender  age  \\\n",
       "8858     Dr.   Roy   Stanley  apiunvo@ehasom.ir  Female   39   \n",
       "9058     Mr.  Lora   Kennedy    dennap@rabac.se  Female   51   \n",
       "24736   Mrs.  Nell  Richards          dob@me.ki  Female   18   \n",
       "29865   Mrs.   Don  McDaniel        naf@zudu.bj  Female   37   \n",
       "\n",
       "                              company           profession           phone  \\\n",
       "8858       Cincinnati Financial Corp.  Structural Engineer  (876) 758-2929   \n",
       "9058              BJ Services Company  Structural Engineer  (305) 786-6959   \n",
       "24736    Telephone & Data Systems Inc  Structural Engineer  (262) 681-5018   \n",
       "29865  Anadarko Petroleum Corporation  Structural Engineer  (238) 789-2825   \n",
       "\n",
       "        postal province             cc_no   cc_exp  \\\n",
       "8858   N5A 6L2       AB  6300000000000000  02/2022   \n",
       "9058   N3R 4B7       AB   201000000000000  06/2019   \n",
       "24736  N3Y 3G2       AB   347000000000000  07/2028   \n",
       "29865  B4A 8Q9       AB  5610000000000000  12/2022   \n",
       "\n",
       "                                  cc_type  price(CAD) fav_color  \\\n",
       "8858                         InstaPayment       31.86       Red   \n",
       "9058   Diners Club United States & Canada       53.29     Black   \n",
       "24736                    American Express       76.28      Blue   \n",
       "29865                          Mastercard       62.71      Blue   \n",
       "\n",
       "                    ip    weekday ampm        date  \n",
       "8858    165.249.159.57     Sunday   pm  12/25/1903  \n",
       "9058    42.216.243.206   Thursday   pm  06/06/2028  \n",
       "24736     91.16.30.156  Wednesday   pm  07/14/1951  \n",
       "29865  162.233.117.142     Sunday   pm  11/03/1989  "
      ]
     },
     "execution_count": 45,
     "metadata": {},
     "output_type": "execute_result"
    }
   ],
   "source": [
    "bool_ser = (cust['profession'] == 'Structural Engineer') & (cust['gender'] == 'Female')\n",
    "bool_ser = bool_ser & (cust['province'] == 'AB')\n",
    "cust[bool_ser]"
   ]
  },
  {
   "cell_type": "markdown",
   "id": "cb7a8b92",
   "metadata": {},
   "source": [
    "10) What is the max, min and average spending?"
   ]
  },
  {
   "cell_type": "code",
   "execution_count": 47,
   "id": "52b72e82",
   "metadata": {},
   "outputs": [
    {
     "name": "stdout",
     "output_type": "stream",
     "text": [
      "Max spending is  100.0\n",
      "Min spending is  0.0\n",
      "Avg spending is  49.990775\n"
     ]
    }
   ],
   "source": [
    "print('Max spending is ', cust['price(CAD)'].max())\n",
    "print('Min spending is ', cust['price(CAD)'].min())\n",
    "print('Avg spending is ', cust['price(CAD)'].mean())"
   ]
  },
  {
   "cell_type": "markdown",
   "id": "a1101faa",
   "metadata": {},
   "source": [
    "11) Who did not spend anything? Company wants to send a deal to encourage the customer to buy stuff!"
   ]
  },
  {
   "cell_type": "code",
   "execution_count": 48,
   "id": "593c1b31",
   "metadata": {},
   "outputs": [
    {
     "data": {
      "text/html": [
       "<div>\n",
       "<style scoped>\n",
       "    .dataframe tbody tr th:only-of-type {\n",
       "        vertical-align: middle;\n",
       "    }\n",
       "\n",
       "    .dataframe tbody tr th {\n",
       "        vertical-align: top;\n",
       "    }\n",
       "\n",
       "    .dataframe thead th {\n",
       "        text-align: right;\n",
       "    }\n",
       "</style>\n",
       "<table border=\"1\" class=\"dataframe\">\n",
       "  <thead>\n",
       "    <tr style=\"text-align: right;\">\n",
       "      <th></th>\n",
       "      <th>prefix</th>\n",
       "      <th>first</th>\n",
       "      <th>last</th>\n",
       "      <th>email</th>\n",
       "      <th>gender</th>\n",
       "      <th>age</th>\n",
       "      <th>company</th>\n",
       "      <th>profession</th>\n",
       "      <th>phone</th>\n",
       "      <th>postal</th>\n",
       "      <th>province</th>\n",
       "      <th>cc_no</th>\n",
       "      <th>cc_exp</th>\n",
       "      <th>cc_type</th>\n",
       "      <th>price(CAD)</th>\n",
       "      <th>fav_color</th>\n",
       "      <th>ip</th>\n",
       "      <th>weekday</th>\n",
       "      <th>ampm</th>\n",
       "      <th>date</th>\n",
       "    </tr>\n",
       "  </thead>\n",
       "  <tbody>\n",
       "    <tr>\n",
       "      <th>5320</th>\n",
       "      <td>Dr.</td>\n",
       "      <td>Bruce</td>\n",
       "      <td>Bryan</td>\n",
       "      <td>ru@pubuspuh.cl</td>\n",
       "      <td>Male</td>\n",
       "      <td>59</td>\n",
       "      <td>Wal-Mart Stores Inc</td>\n",
       "      <td>Engineer Technician</td>\n",
       "      <td>(709) 446-8317</td>\n",
       "      <td>H6H 3Y0</td>\n",
       "      <td>NU</td>\n",
       "      <td>201000000000000</td>\n",
       "      <td>04/2024</td>\n",
       "      <td>Bankcard</td>\n",
       "      <td>0.0</td>\n",
       "      <td>White</td>\n",
       "      <td>82.70.62.64</td>\n",
       "      <td>Wednesday</td>\n",
       "      <td>am</td>\n",
       "      <td>12/11/1900</td>\n",
       "    </tr>\n",
       "    <tr>\n",
       "      <th>10597</th>\n",
       "      <td>Mrs.</td>\n",
       "      <td>Flora</td>\n",
       "      <td>Clark</td>\n",
       "      <td>wad@me.com</td>\n",
       "      <td>Female</td>\n",
       "      <td>27</td>\n",
       "      <td>MetLife Inc.</td>\n",
       "      <td>Cruise Director</td>\n",
       "      <td>(775) 373-6590</td>\n",
       "      <td>B2U 8K6</td>\n",
       "      <td>NB</td>\n",
       "      <td>30100000000000</td>\n",
       "      <td>05/2020</td>\n",
       "      <td>Diners Club Carte Blanche</td>\n",
       "      <td>0.0</td>\n",
       "      <td>Red</td>\n",
       "      <td>231.156.15.63</td>\n",
       "      <td>Thursday</td>\n",
       "      <td>pm</td>\n",
       "      <td>08/22/1904</td>\n",
       "    </tr>\n",
       "  </tbody>\n",
       "</table>\n",
       "</div>"
      ],
      "text/plain": [
       "      prefix  first   last           email  gender  age              company  \\\n",
       "5320     Dr.  Bruce  Bryan  ru@pubuspuh.cl    Male   59  Wal-Mart Stores Inc   \n",
       "10597   Mrs.  Flora  Clark      wad@me.com  Female   27         MetLife Inc.   \n",
       "\n",
       "                profession           phone   postal province            cc_no  \\\n",
       "5320   Engineer Technician  (709) 446-8317  H6H 3Y0       NU  201000000000000   \n",
       "10597      Cruise Director  (775) 373-6590  B2U 8K6       NB   30100000000000   \n",
       "\n",
       "        cc_exp                    cc_type  price(CAD) fav_color  \\\n",
       "5320   04/2024                   Bankcard         0.0     White   \n",
       "10597  05/2020  Diners Club Carte Blanche         0.0       Red   \n",
       "\n",
       "                  ip    weekday ampm        date  \n",
       "5320     82.70.62.64  Wednesday   am  12/11/1900  \n",
       "10597  231.156.15.63   Thursday   pm  08/22/1904  "
      ]
     },
     "execution_count": 48,
     "metadata": {},
     "output_type": "execute_result"
    }
   ],
   "source": [
    "bool_ser = cust['price(CAD)'] == 0\n",
    "cust[bool_ser]"
   ]
  },
  {
   "cell_type": "markdown",
   "id": "e1325949",
   "metadata": {},
   "source": [
    "12) As a loyalty reward, company wants to send thanks coupon to those who spent 100CAD or more, please find out the customers?"
   ]
  },
  {
   "cell_type": "code",
   "execution_count": 49,
   "id": "3b2e72e4",
   "metadata": {
    "scrolled": true
   },
   "outputs": [
    {
     "data": {
      "text/html": [
       "<div>\n",
       "<style scoped>\n",
       "    .dataframe tbody tr th:only-of-type {\n",
       "        vertical-align: middle;\n",
       "    }\n",
       "\n",
       "    .dataframe tbody tr th {\n",
       "        vertical-align: top;\n",
       "    }\n",
       "\n",
       "    .dataframe thead th {\n",
       "        text-align: right;\n",
       "    }\n",
       "</style>\n",
       "<table border=\"1\" class=\"dataframe\">\n",
       "  <thead>\n",
       "    <tr style=\"text-align: right;\">\n",
       "      <th></th>\n",
       "      <th>prefix</th>\n",
       "      <th>first</th>\n",
       "      <th>last</th>\n",
       "      <th>email</th>\n",
       "      <th>gender</th>\n",
       "      <th>age</th>\n",
       "      <th>company</th>\n",
       "      <th>profession</th>\n",
       "      <th>phone</th>\n",
       "      <th>postal</th>\n",
       "      <th>province</th>\n",
       "      <th>cc_no</th>\n",
       "      <th>cc_exp</th>\n",
       "      <th>cc_type</th>\n",
       "      <th>price(CAD)</th>\n",
       "      <th>fav_color</th>\n",
       "      <th>ip</th>\n",
       "      <th>weekday</th>\n",
       "      <th>ampm</th>\n",
       "      <th>date</th>\n",
       "    </tr>\n",
       "  </thead>\n",
       "  <tbody>\n",
       "    <tr>\n",
       "      <th>76</th>\n",
       "      <td>Mrs.</td>\n",
       "      <td>Gregory</td>\n",
       "      <td>Brown</td>\n",
       "      <td>hav@jek.gs</td>\n",
       "      <td>Female</td>\n",
       "      <td>31</td>\n",
       "      <td>E*Trade Group, Inc.</td>\n",
       "      <td>Novelist</td>\n",
       "      <td>(625) 537-8923</td>\n",
       "      <td>X3S 4Q2</td>\n",
       "      <td>PE</td>\n",
       "      <td>6010000000000000</td>\n",
       "      <td>04/2018</td>\n",
       "      <td>Visa</td>\n",
       "      <td>100.0</td>\n",
       "      <td>Green</td>\n",
       "      <td>212.100.18.95</td>\n",
       "      <td>Monday</td>\n",
       "      <td>am</td>\n",
       "      <td>10/23/2063</td>\n",
       "    </tr>\n",
       "    <tr>\n",
       "      <th>21093</th>\n",
       "      <td>Mrs.</td>\n",
       "      <td>Cody</td>\n",
       "      <td>Christensen</td>\n",
       "      <td>get@jovu.ag</td>\n",
       "      <td>Male</td>\n",
       "      <td>28</td>\n",
       "      <td>National City Corp.</td>\n",
       "      <td>Hospital Administrator</td>\n",
       "      <td>(261) 737-3292</td>\n",
       "      <td>X0S 1O5</td>\n",
       "      <td>PE</td>\n",
       "      <td>201000000000000</td>\n",
       "      <td>03/2024</td>\n",
       "      <td>JCB</td>\n",
       "      <td>100.0</td>\n",
       "      <td>Green</td>\n",
       "      <td>168.48.19.165</td>\n",
       "      <td>Wednesday</td>\n",
       "      <td>pm</td>\n",
       "      <td>03/28/1955</td>\n",
       "    </tr>\n",
       "    <tr>\n",
       "      <th>24385</th>\n",
       "      <td>Miss</td>\n",
       "      <td>Lizzie</td>\n",
       "      <td>Dixon</td>\n",
       "      <td>goh@tuwjaz.gd</td>\n",
       "      <td>Female</td>\n",
       "      <td>38</td>\n",
       "      <td>FleetBoston Financial Co.</td>\n",
       "      <td>Compensation Analyst</td>\n",
       "      <td>(989) 239-1752</td>\n",
       "      <td>V8X 9V6</td>\n",
       "      <td>NB</td>\n",
       "      <td>6300000000000000</td>\n",
       "      <td>07/2019</td>\n",
       "      <td>Bankcard</td>\n",
       "      <td>100.0</td>\n",
       "      <td>Blue</td>\n",
       "      <td>140.87.99.78</td>\n",
       "      <td>Saturday</td>\n",
       "      <td>pm</td>\n",
       "      <td>03/03/1983</td>\n",
       "    </tr>\n",
       "  </tbody>\n",
       "</table>\n",
       "</div>"
      ],
      "text/plain": [
       "      prefix    first         last          email  gender  age  \\\n",
       "76      Mrs.  Gregory        Brown     hav@jek.gs  Female   31   \n",
       "21093   Mrs.     Cody  Christensen    get@jovu.ag    Male   28   \n",
       "24385   Miss   Lizzie        Dixon  goh@tuwjaz.gd  Female   38   \n",
       "\n",
       "                         company              profession           phone  \\\n",
       "76           E*Trade Group, Inc.                Novelist  (625) 537-8923   \n",
       "21093        National City Corp.  Hospital Administrator  (261) 737-3292   \n",
       "24385  FleetBoston Financial Co.    Compensation Analyst  (989) 239-1752   \n",
       "\n",
       "        postal province             cc_no   cc_exp   cc_type  price(CAD)  \\\n",
       "76     X3S 4Q2       PE  6010000000000000  04/2018      Visa       100.0   \n",
       "21093  X0S 1O5       PE   201000000000000  03/2024       JCB       100.0   \n",
       "24385  V8X 9V6       NB  6300000000000000  07/2019  Bankcard       100.0   \n",
       "\n",
       "      fav_color             ip    weekday ampm        date  \n",
       "76        Green  212.100.18.95     Monday   am  10/23/2063  \n",
       "21093     Green  168.48.19.165  Wednesday   pm  03/28/1955  \n",
       "24385      Blue   140.87.99.78   Saturday   pm  03/03/1983  "
      ]
     },
     "execution_count": 49,
     "metadata": {},
     "output_type": "execute_result"
    }
   ],
   "source": [
    "bool_ser = cust['price(CAD)'] >= 100\n",
    "cust[bool_ser]"
   ]
  },
  {
   "cell_type": "markdown",
   "id": "242f2a31",
   "metadata": {},
   "source": [
    "13) How many emails are associated with this credit card number '5020000000000230'?"
   ]
  },
  {
   "cell_type": "code",
   "execution_count": 52,
   "id": "d0a6c982",
   "metadata": {},
   "outputs": [
    {
     "data": {
      "text/plain": [
       "0    sebvajom@kol.km\n",
       "1      acu@jatsot.ug\n",
       "Name: email, dtype: object"
      ]
     },
     "execution_count": 52,
     "metadata": {},
     "output_type": "execute_result"
    }
   ],
   "source": [
    "bool_ser = cust['cc_no'] == 5020000000000230\n",
    "cust[bool_ser].email"
   ]
  },
  {
   "cell_type": "markdown",
   "id": "d237481a",
   "metadata": {},
   "source": [
    "14) We need to send new cards to the customers well before they expire, how many cards are expiring in 2019? (Use sum() and count() and see the difference in their use)"
   ]
  },
  {
   "cell_type": "code",
   "execution_count": 62,
   "id": "acdec6ba",
   "metadata": {},
   "outputs": [
    {
     "data": {
      "text/plain": [
       "2684"
      ]
     },
     "execution_count": 62,
     "metadata": {},
     "output_type": "execute_result"
    }
   ],
   "source": [
    "# cust[cust['cc_exp'].apply(lambda x: x[5:]) == '19'].count()\n",
    "sum(cust['cc_exp'].apply(lambda x: x[5:]) == '19')"
   ]
  },
  {
   "cell_type": "markdown",
   "id": "19c641bb",
   "metadata": {},
   "source": [
    "15) How many people use Visa as their Credit card provider?"
   ]
  },
  {
   "cell_type": "code",
   "execution_count": 68,
   "id": "7a931a30",
   "metadata": {},
   "outputs": [
    {
     "data": {
      "text/plain": [
       "1721"
      ]
     },
     "execution_count": 68,
     "metadata": {},
     "output_type": "execute_result"
    }
   ],
   "source": [
    "sum(cust['cc_type'] == 'Visa')"
   ]
  },
  {
   "cell_type": "markdown",
   "id": "81880175",
   "metadata": {},
   "source": [
    "16) Can you find the customer who spend 100 CAD using Visa?"
   ]
  },
  {
   "cell_type": "code",
   "execution_count": 69,
   "id": "14c7294f",
   "metadata": {},
   "outputs": [
    {
     "data": {
      "text/html": [
       "<div>\n",
       "<style scoped>\n",
       "    .dataframe tbody tr th:only-of-type {\n",
       "        vertical-align: middle;\n",
       "    }\n",
       "\n",
       "    .dataframe tbody tr th {\n",
       "        vertical-align: top;\n",
       "    }\n",
       "\n",
       "    .dataframe thead th {\n",
       "        text-align: right;\n",
       "    }\n",
       "</style>\n",
       "<table border=\"1\" class=\"dataframe\">\n",
       "  <thead>\n",
       "    <tr style=\"text-align: right;\">\n",
       "      <th></th>\n",
       "      <th>prefix</th>\n",
       "      <th>first</th>\n",
       "      <th>last</th>\n",
       "      <th>email</th>\n",
       "      <th>gender</th>\n",
       "      <th>age</th>\n",
       "      <th>company</th>\n",
       "      <th>profession</th>\n",
       "      <th>phone</th>\n",
       "      <th>postal</th>\n",
       "      <th>province</th>\n",
       "      <th>cc_no</th>\n",
       "      <th>cc_exp</th>\n",
       "      <th>cc_type</th>\n",
       "      <th>price(CAD)</th>\n",
       "      <th>fav_color</th>\n",
       "      <th>ip</th>\n",
       "      <th>weekday</th>\n",
       "      <th>ampm</th>\n",
       "      <th>date</th>\n",
       "    </tr>\n",
       "  </thead>\n",
       "  <tbody>\n",
       "    <tr>\n",
       "      <th>76</th>\n",
       "      <td>Mrs.</td>\n",
       "      <td>Gregory</td>\n",
       "      <td>Brown</td>\n",
       "      <td>hav@jek.gs</td>\n",
       "      <td>Female</td>\n",
       "      <td>31</td>\n",
       "      <td>E*Trade Group, Inc.</td>\n",
       "      <td>Novelist</td>\n",
       "      <td>(625) 537-8923</td>\n",
       "      <td>X3S 4Q2</td>\n",
       "      <td>PE</td>\n",
       "      <td>6010000000000000</td>\n",
       "      <td>04/2018</td>\n",
       "      <td>Visa</td>\n",
       "      <td>100.0</td>\n",
       "      <td>Green</td>\n",
       "      <td>212.100.18.95</td>\n",
       "      <td>Monday</td>\n",
       "      <td>am</td>\n",
       "      <td>10/23/2063</td>\n",
       "    </tr>\n",
       "  </tbody>\n",
       "</table>\n",
       "</div>"
      ],
      "text/plain": [
       "   prefix    first   last       email  gender  age              company  \\\n",
       "76   Mrs.  Gregory  Brown  hav@jek.gs  Female   31  E*Trade Group, Inc.   \n",
       "\n",
       "   profession           phone   postal province             cc_no   cc_exp  \\\n",
       "76   Novelist  (625) 537-8923  X3S 4Q2       PE  6010000000000000  04/2018   \n",
       "\n",
       "   cc_type  price(CAD) fav_color             ip weekday ampm        date  \n",
       "76    Visa       100.0     Green  212.100.18.95  Monday   am  10/23/2063  "
      ]
     },
     "execution_count": 69,
     "metadata": {},
     "output_type": "execute_result"
    }
   ],
   "source": [
    "bool_ser = (cust['cc_type'] == 'Visa') & (cust['price(CAD)'] == 100)\n",
    "cust[bool_ser]"
   ]
  },
  {
   "cell_type": "markdown",
   "id": "555963d8",
   "metadata": {},
   "source": [
    "17) What are the two most common professions?"
   ]
  },
  {
   "cell_type": "code",
   "execution_count": 71,
   "id": "16d10199",
   "metadata": {},
   "outputs": [
    {
     "data": {
      "text/plain": [
       "Preschool Teacher       112\n",
       "Distribution Manager    107\n",
       "Name: profession, dtype: int64"
      ]
     },
     "execution_count": 71,
     "metadata": {},
     "output_type": "execute_result"
    }
   ],
   "source": [
    "cust['profession'].value_counts().head(2)"
   ]
  },
  {
   "cell_type": "markdown",
   "id": "62cb924b",
   "metadata": {},
   "source": [
    "18) Can you tell the top 5 most popular email providers?"
   ]
  },
  {
   "cell_type": "code",
   "execution_count": 74,
   "id": "7a8991c9",
   "metadata": {},
   "outputs": [
    {
     "data": {
      "text/plain": [
       "gmail.com      1687\n",
       "me.com         1676\n",
       "outlook.com    1664\n",
       "live.com       1660\n",
       "hotmail.com    1659\n",
       "Name: email, dtype: int64"
      ]
     },
     "execution_count": 74,
     "metadata": {},
     "output_type": "execute_result"
    }
   ],
   "source": [
    "cust['email'].apply(lambda email: email.split('@')[1]).value_counts().head(5)"
   ]
  },
  {
   "cell_type": "code",
   "execution_count": null,
   "id": "cfb2c74a",
   "metadata": {},
   "outputs": [],
   "source": [
    "19) Is there any customer who is using email with \"am.edu\"?"
   ]
  },
  {
   "cell_type": "code",
   "execution_count": 78,
   "id": "38c6b4fa",
   "metadata": {
    "scrolled": true
   },
   "outputs": [
    {
     "data": {
      "text/html": [
       "<div>\n",
       "<style scoped>\n",
       "    .dataframe tbody tr th:only-of-type {\n",
       "        vertical-align: middle;\n",
       "    }\n",
       "\n",
       "    .dataframe tbody tr th {\n",
       "        vertical-align: top;\n",
       "    }\n",
       "\n",
       "    .dataframe thead th {\n",
       "        text-align: right;\n",
       "    }\n",
       "</style>\n",
       "<table border=\"1\" class=\"dataframe\">\n",
       "  <thead>\n",
       "    <tr style=\"text-align: right;\">\n",
       "      <th></th>\n",
       "      <th>prefix</th>\n",
       "      <th>first</th>\n",
       "      <th>last</th>\n",
       "      <th>email</th>\n",
       "      <th>gender</th>\n",
       "      <th>age</th>\n",
       "      <th>company</th>\n",
       "      <th>profession</th>\n",
       "      <th>phone</th>\n",
       "      <th>postal</th>\n",
       "      <th>province</th>\n",
       "      <th>cc_no</th>\n",
       "      <th>cc_exp</th>\n",
       "      <th>cc_type</th>\n",
       "      <th>price(CAD)</th>\n",
       "      <th>fav_color</th>\n",
       "      <th>ip</th>\n",
       "      <th>weekday</th>\n",
       "      <th>ampm</th>\n",
       "      <th>date</th>\n",
       "    </tr>\n",
       "  </thead>\n",
       "  <tbody>\n",
       "    <tr>\n",
       "      <th>150</th>\n",
       "      <td>Miss</td>\n",
       "      <td>Loretta</td>\n",
       "      <td>Fletcher</td>\n",
       "      <td>barit@am.edu</td>\n",
       "      <td>Female</td>\n",
       "      <td>48</td>\n",
       "      <td>York International Corp</td>\n",
       "      <td>Rehabilitation Counselor</td>\n",
       "      <td>(323) 279-8038</td>\n",
       "      <td>E5X 8L0</td>\n",
       "      <td>QC</td>\n",
       "      <td>6330000000000000</td>\n",
       "      <td>05/2021</td>\n",
       "      <td>Diners Club United States &amp; Canada</td>\n",
       "      <td>97.26</td>\n",
       "      <td>White</td>\n",
       "      <td>147.57.240.225</td>\n",
       "      <td>Monday</td>\n",
       "      <td>am</td>\n",
       "      <td>11/07/2066</td>\n",
       "    </tr>\n",
       "  </tbody>\n",
       "</table>\n",
       "</div>"
      ],
      "text/plain": [
       "    prefix    first      last         email  gender  age  \\\n",
       "150   Miss  Loretta  Fletcher  barit@am.edu  Female   48   \n",
       "\n",
       "                     company                profession           phone  \\\n",
       "150  York International Corp  Rehabilitation Counselor  (323) 279-8038   \n",
       "\n",
       "      postal province             cc_no   cc_exp  \\\n",
       "150  E5X 8L0       QC  6330000000000000  05/2021   \n",
       "\n",
       "                                cc_type  price(CAD) fav_color              ip  \\\n",
       "150  Diners Club United States & Canada       97.26     White  147.57.240.225   \n",
       "\n",
       "    weekday ampm        date  \n",
       "150  Monday   am  11/07/2066  "
      ]
     },
     "execution_count": 78,
     "metadata": {},
     "output_type": "execute_result"
    }
   ],
   "source": [
    "cust[cust['email'].apply(lambda email: email.split('@')[1] == 'am.edu')]"
   ]
  },
  {
   "cell_type": "markdown",
   "id": "e9a31d6a",
   "metadata": {},
   "source": [
    "20) Which day of the week has the most customers?"
   ]
  },
  {
   "cell_type": "code",
   "execution_count": 79,
   "id": "08e94607",
   "metadata": {},
   "outputs": [
    {
     "data": {
      "text/plain": [
       "Saturday     4376\n",
       "Wednesday    4365\n",
       "Thursday     4327\n",
       "Friday       4316\n",
       "Monday       4216\n",
       "Name: weekday, dtype: int64"
      ]
     },
     "execution_count": 79,
     "metadata": {},
     "output_type": "execute_result"
    }
   ],
   "source": [
    "cust['weekday'].value_counts().head()"
   ]
  },
  {
   "cell_type": "markdown",
   "id": "f2805739",
   "metadata": {},
   "source": [
    "**Exercise 2 (Overview): Chicago Payroll data**\n"
   ]
  },
  {
   "cell_type": "markdown",
   "id": "b4559879",
   "metadata": {},
   "source": [
    "2) Read City_of_Chicago_Payroll_Data.csv as a dataframe in 'pay'"
   ]
  },
  {
   "cell_type": "code",
   "execution_count": 80,
   "id": "89ecbe79",
   "metadata": {},
   "outputs": [],
   "source": [
    "pay = pd.read_csv('.\\exercises data\\City_of_Chicago_Payroll_Data.csv')"
   ]
  },
  {
   "cell_type": "markdown",
   "id": "1611ca14",
   "metadata": {},
   "source": [
    "3) Show the first 5 records in your data"
   ]
  },
  {
   "cell_type": "code",
   "execution_count": 81,
   "id": "4334e245",
   "metadata": {},
   "outputs": [
    {
     "data": {
      "text/html": [
       "<div>\n",
       "<style scoped>\n",
       "    .dataframe tbody tr th:only-of-type {\n",
       "        vertical-align: middle;\n",
       "    }\n",
       "\n",
       "    .dataframe tbody tr th {\n",
       "        vertical-align: top;\n",
       "    }\n",
       "\n",
       "    .dataframe thead th {\n",
       "        text-align: right;\n",
       "    }\n",
       "</style>\n",
       "<table border=\"1\" class=\"dataframe\">\n",
       "  <thead>\n",
       "    <tr style=\"text-align: right;\">\n",
       "      <th></th>\n",
       "      <th>Name</th>\n",
       "      <th>Job Titles</th>\n",
       "      <th>Department</th>\n",
       "      <th>Full or Part-Time</th>\n",
       "      <th>Salary or Hourly</th>\n",
       "      <th>Typical Hours</th>\n",
       "      <th>Annual Salary</th>\n",
       "      <th>Hourly Rate</th>\n",
       "    </tr>\n",
       "  </thead>\n",
       "  <tbody>\n",
       "    <tr>\n",
       "      <th>0</th>\n",
       "      <td>ALLISON,  PAUL W</td>\n",
       "      <td>LIEUTENANT</td>\n",
       "      <td>FIRE</td>\n",
       "      <td>F</td>\n",
       "      <td>Salary</td>\n",
       "      <td>NaN</td>\n",
       "      <td>$107790.00</td>\n",
       "      <td>NaN</td>\n",
       "    </tr>\n",
       "    <tr>\n",
       "      <th>1</th>\n",
       "      <td>BRUNO,  KEVIN D</td>\n",
       "      <td>SERGEANT</td>\n",
       "      <td>POLICE</td>\n",
       "      <td>F</td>\n",
       "      <td>Salary</td>\n",
       "      <td>NaN</td>\n",
       "      <td>$104628.00</td>\n",
       "      <td>NaN</td>\n",
       "    </tr>\n",
       "    <tr>\n",
       "      <th>2</th>\n",
       "      <td>COOPER,  JOHN E</td>\n",
       "      <td>LIEUTENANT-EMT</td>\n",
       "      <td>FIRE</td>\n",
       "      <td>F</td>\n",
       "      <td>Salary</td>\n",
       "      <td>NaN</td>\n",
       "      <td>$114324.00</td>\n",
       "      <td>NaN</td>\n",
       "    </tr>\n",
       "    <tr>\n",
       "      <th>3</th>\n",
       "      <td>CRESPO,  VILMA I</td>\n",
       "      <td>STAFF ASST</td>\n",
       "      <td>LAW</td>\n",
       "      <td>F</td>\n",
       "      <td>Salary</td>\n",
       "      <td>NaN</td>\n",
       "      <td>$76932.00</td>\n",
       "      <td>NaN</td>\n",
       "    </tr>\n",
       "    <tr>\n",
       "      <th>4</th>\n",
       "      <td>DOLAN,  ROBERT J</td>\n",
       "      <td>SERGEANT</td>\n",
       "      <td>POLICE</td>\n",
       "      <td>F</td>\n",
       "      <td>Salary</td>\n",
       "      <td>NaN</td>\n",
       "      <td>$111474.00</td>\n",
       "      <td>NaN</td>\n",
       "    </tr>\n",
       "  </tbody>\n",
       "</table>\n",
       "</div>"
      ],
      "text/plain": [
       "               Name      Job Titles Department Full or Part-Time  \\\n",
       "0  ALLISON,  PAUL W      LIEUTENANT       FIRE                 F   \n",
       "1   BRUNO,  KEVIN D        SERGEANT     POLICE                 F   \n",
       "2   COOPER,  JOHN E  LIEUTENANT-EMT       FIRE                 F   \n",
       "3  CRESPO,  VILMA I      STAFF ASST        LAW                 F   \n",
       "4  DOLAN,  ROBERT J        SERGEANT     POLICE                 F   \n",
       "\n",
       "  Salary or Hourly  Typical Hours Annual Salary Hourly Rate  \n",
       "0           Salary            NaN    $107790.00         NaN  \n",
       "1           Salary            NaN    $104628.00         NaN  \n",
       "2           Salary            NaN    $114324.00         NaN  \n",
       "3           Salary            NaN     $76932.00         NaN  \n",
       "4           Salary            NaN    $111474.00         NaN  "
      ]
     },
     "execution_count": 81,
     "metadata": {},
     "output_type": "execute_result"
    }
   ],
   "source": [
    "pay.head(5)"
   ]
  },
  {
   "cell_type": "markdown",
   "id": "5db458f1",
   "metadata": {},
   "source": [
    "3) Get the overview of your data"
   ]
  },
  {
   "cell_type": "code",
   "execution_count": 82,
   "id": "76921249",
   "metadata": {},
   "outputs": [
    {
     "name": "stdout",
     "output_type": "stream",
     "text": [
      "<class 'pandas.core.frame.DataFrame'>\n",
      "RangeIndex: 32658 entries, 0 to 32657\n",
      "Data columns (total 8 columns):\n",
      " #   Column             Non-Null Count  Dtype  \n",
      "---  ------             --------------  -----  \n",
      " 0   Name               32658 non-null  object \n",
      " 1   Job Titles         32658 non-null  object \n",
      " 2   Department         32658 non-null  object \n",
      " 3   Full or Part-Time  32658 non-null  object \n",
      " 4   Salary or Hourly   32658 non-null  object \n",
      " 5   Typical Hours      7883 non-null   float64\n",
      " 6   Annual Salary      24775 non-null  object \n",
      " 7   Hourly Rate        7883 non-null   object \n",
      "dtypes: float64(1), object(7)\n",
      "memory usage: 2.0+ MB\n"
     ]
    }
   ],
   "source": [
    "pay.info()"
   ]
  },
  {
   "cell_type": "markdown",
   "id": "28db268e",
   "metadata": {},
   "source": [
    "4) How many 'NaN' you have in each column of data?"
   ]
  },
  {
   "cell_type": "code",
   "execution_count": 93,
   "id": "6f831da0",
   "metadata": {},
   "outputs": [
    {
     "data": {
      "text/plain": [
       "Name                     0\n",
       "Job Titles               0\n",
       "Department               0\n",
       "Full or Part-Time        0\n",
       "Salary or Hourly         0\n",
       "Typical Hours        24775\n",
       "Annual Salary         7883\n",
       "Hourly Rate          24775\n",
       "dtype: int64"
      ]
     },
     "execution_count": 93,
     "metadata": {},
     "output_type": "execute_result"
    }
   ],
   "source": [
    "pay.isnull().sum()"
   ]
  },
  {
   "cell_type": "markdown",
   "id": "2ed9eb51",
   "metadata": {},
   "source": [
    "5) Output the statistics for your dataset"
   ]
  },
  {
   "cell_type": "code",
   "execution_count": 95,
   "id": "a84c9be2",
   "metadata": {
    "scrolled": true
   },
   "outputs": [
    {
     "data": {
      "text/html": [
       "<div>\n",
       "<style scoped>\n",
       "    .dataframe tbody tr th:only-of-type {\n",
       "        vertical-align: middle;\n",
       "    }\n",
       "\n",
       "    .dataframe tbody tr th {\n",
       "        vertical-align: top;\n",
       "    }\n",
       "\n",
       "    .dataframe thead th {\n",
       "        text-align: right;\n",
       "    }\n",
       "</style>\n",
       "<table border=\"1\" class=\"dataframe\">\n",
       "  <thead>\n",
       "    <tr style=\"text-align: right;\">\n",
       "      <th></th>\n",
       "      <th>Name</th>\n",
       "      <th>Job Titles</th>\n",
       "      <th>Department</th>\n",
       "      <th>Full or Part-Time</th>\n",
       "      <th>Salary or Hourly</th>\n",
       "      <th>Typical Hours</th>\n",
       "      <th>Annual Salary</th>\n",
       "      <th>Hourly Rate</th>\n",
       "    </tr>\n",
       "  </thead>\n",
       "  <tbody>\n",
       "    <tr>\n",
       "      <th>count</th>\n",
       "      <td>32658</td>\n",
       "      <td>32658</td>\n",
       "      <td>32658</td>\n",
       "      <td>32658</td>\n",
       "      <td>32658</td>\n",
       "      <td>7883.000000</td>\n",
       "      <td>24775</td>\n",
       "      <td>7883</td>\n",
       "    </tr>\n",
       "    <tr>\n",
       "      <th>unique</th>\n",
       "      <td>32350</td>\n",
       "      <td>1095</td>\n",
       "      <td>36</td>\n",
       "      <td>2</td>\n",
       "      <td>2</td>\n",
       "      <td>NaN</td>\n",
       "      <td>1038</td>\n",
       "      <td>167</td>\n",
       "    </tr>\n",
       "    <tr>\n",
       "      <th>top</th>\n",
       "      <td>HERNANDEZ,  JUAN C</td>\n",
       "      <td>POLICE OFFICER</td>\n",
       "      <td>POLICE</td>\n",
       "      <td>F</td>\n",
       "      <td>Salary</td>\n",
       "      <td>NaN</td>\n",
       "      <td>$90024.00</td>\n",
       "      <td>$35.60</td>\n",
       "    </tr>\n",
       "    <tr>\n",
       "      <th>freq</th>\n",
       "      <td>5</td>\n",
       "      <td>9393</td>\n",
       "      <td>12973</td>\n",
       "      <td>30676</td>\n",
       "      <td>24775</td>\n",
       "      <td>NaN</td>\n",
       "      <td>2368</td>\n",
       "      <td>1404</td>\n",
       "    </tr>\n",
       "    <tr>\n",
       "      <th>mean</th>\n",
       "      <td>NaN</td>\n",
       "      <td>NaN</td>\n",
       "      <td>NaN</td>\n",
       "      <td>NaN</td>\n",
       "      <td>NaN</td>\n",
       "      <td>34.698719</td>\n",
       "      <td>NaN</td>\n",
       "      <td>NaN</td>\n",
       "    </tr>\n",
       "    <tr>\n",
       "      <th>std</th>\n",
       "      <td>NaN</td>\n",
       "      <td>NaN</td>\n",
       "      <td>NaN</td>\n",
       "      <td>NaN</td>\n",
       "      <td>NaN</td>\n",
       "      <td>9.145553</td>\n",
       "      <td>NaN</td>\n",
       "      <td>NaN</td>\n",
       "    </tr>\n",
       "    <tr>\n",
       "      <th>min</th>\n",
       "      <td>NaN</td>\n",
       "      <td>NaN</td>\n",
       "      <td>NaN</td>\n",
       "      <td>NaN</td>\n",
       "      <td>NaN</td>\n",
       "      <td>10.000000</td>\n",
       "      <td>NaN</td>\n",
       "      <td>NaN</td>\n",
       "    </tr>\n",
       "    <tr>\n",
       "      <th>25%</th>\n",
       "      <td>NaN</td>\n",
       "      <td>NaN</td>\n",
       "      <td>NaN</td>\n",
       "      <td>NaN</td>\n",
       "      <td>NaN</td>\n",
       "      <td>20.000000</td>\n",
       "      <td>NaN</td>\n",
       "      <td>NaN</td>\n",
       "    </tr>\n",
       "    <tr>\n",
       "      <th>50%</th>\n",
       "      <td>NaN</td>\n",
       "      <td>NaN</td>\n",
       "      <td>NaN</td>\n",
       "      <td>NaN</td>\n",
       "      <td>NaN</td>\n",
       "      <td>40.000000</td>\n",
       "      <td>NaN</td>\n",
       "      <td>NaN</td>\n",
       "    </tr>\n",
       "    <tr>\n",
       "      <th>75%</th>\n",
       "      <td>NaN</td>\n",
       "      <td>NaN</td>\n",
       "      <td>NaN</td>\n",
       "      <td>NaN</td>\n",
       "      <td>NaN</td>\n",
       "      <td>40.000000</td>\n",
       "      <td>NaN</td>\n",
       "      <td>NaN</td>\n",
       "    </tr>\n",
       "    <tr>\n",
       "      <th>max</th>\n",
       "      <td>NaN</td>\n",
       "      <td>NaN</td>\n",
       "      <td>NaN</td>\n",
       "      <td>NaN</td>\n",
       "      <td>NaN</td>\n",
       "      <td>40.000000</td>\n",
       "      <td>NaN</td>\n",
       "      <td>NaN</td>\n",
       "    </tr>\n",
       "  </tbody>\n",
       "</table>\n",
       "</div>"
      ],
      "text/plain": [
       "                      Name      Job Titles Department Full or Part-Time  \\\n",
       "count                32658           32658      32658             32658   \n",
       "unique               32350            1095         36                 2   \n",
       "top     HERNANDEZ,  JUAN C  POLICE OFFICER     POLICE                 F   \n",
       "freq                     5            9393      12973             30676   \n",
       "mean                   NaN             NaN        NaN               NaN   \n",
       "std                    NaN             NaN        NaN               NaN   \n",
       "min                    NaN             NaN        NaN               NaN   \n",
       "25%                    NaN             NaN        NaN               NaN   \n",
       "50%                    NaN             NaN        NaN               NaN   \n",
       "75%                    NaN             NaN        NaN               NaN   \n",
       "max                    NaN             NaN        NaN               NaN   \n",
       "\n",
       "       Salary or Hourly  Typical Hours Annual Salary Hourly Rate  \n",
       "count             32658    7883.000000         24775        7883  \n",
       "unique                2            NaN          1038         167  \n",
       "top              Salary            NaN     $90024.00      $35.60  \n",
       "freq              24775            NaN          2368        1404  \n",
       "mean                NaN      34.698719           NaN         NaN  \n",
       "std                 NaN       9.145553           NaN         NaN  \n",
       "min                 NaN      10.000000           NaN         NaN  \n",
       "25%                 NaN      20.000000           NaN         NaN  \n",
       "50%                 NaN      40.000000           NaN         NaN  \n",
       "75%                 NaN      40.000000           NaN         NaN  \n",
       "max                 NaN      40.000000           NaN         NaN  "
      ]
     },
     "execution_count": 95,
     "metadata": {},
     "output_type": "execute_result"
    }
   ],
   "source": [
    "pay.describe(include='all')"
   ]
  },
  {
   "cell_type": "markdown",
   "id": "81c2c298",
   "metadata": {},
   "source": [
    "6) What are the max, min, avg typical hours?"
   ]
  },
  {
   "cell_type": "code",
   "execution_count": 97,
   "id": "d120d6e7",
   "metadata": {},
   "outputs": [
    {
     "name": "stdout",
     "output_type": "stream",
     "text": [
      "Max typical hours  40.0\n",
      "Min typical hours  10.0\n",
      "Avg typical hours  34.69871876189268\n"
     ]
    }
   ],
   "source": [
    "print('Max typical hours ', pay['Typical Hours'].max())\n",
    "print('Min typical hours ', pay['Typical Hours'].min())\n",
    "print('Avg typical hours ', pay['Typical Hours'].mean())"
   ]
  },
  {
   "cell_type": "markdown",
   "id": "aaa2621b",
   "metadata": {},
   "source": [
    "7) How many employees are on salary and how many on hourly basis?"
   ]
  },
  {
   "cell_type": "code",
   "execution_count": 103,
   "id": "665e1cac",
   "metadata": {},
   "outputs": [
    {
     "data": {
      "text/plain": [
       "Salary    24775\n",
       "Hourly     7883\n",
       "Name: Salary or Hourly, dtype: int64"
      ]
     },
     "execution_count": 103,
     "metadata": {},
     "output_type": "execute_result"
    }
   ],
   "source": [
    "pay['Salary or Hourly'].value_counts()"
   ]
  },
  {
   "cell_type": "markdown",
   "id": "c814242c",
   "metadata": {},
   "source": [
    "8) Which department has maximum number of employees"
   ]
  },
  {
   "cell_type": "code",
   "execution_count": 105,
   "id": "9d57652a",
   "metadata": {},
   "outputs": [
    {
     "data": {
      "text/plain": [
       "POLICE    12973\n",
       "FIRE       4800\n",
       "Name: Department, dtype: int64"
      ]
     },
     "execution_count": 105,
     "metadata": {},
     "output_type": "execute_result"
    }
   ],
   "source": [
    "pay['Department'].value_counts().head(2)"
   ]
  },
  {
   "cell_type": "markdown",
   "id": "cc317700",
   "metadata": {},
   "source": [
    "9) How many employees are on Salary and how many are on Hourly in the Police department?"
   ]
  },
  {
   "cell_type": "code",
   "execution_count": 108,
   "id": "354343cd",
   "metadata": {},
   "outputs": [
    {
     "data": {
      "text/plain": [
       "Salary or Hourly\n",
       "Hourly       32\n",
       "Salary    12941\n",
       "Name: Department, dtype: int64"
      ]
     },
     "execution_count": 108,
     "metadata": {},
     "output_type": "execute_result"
    }
   ],
   "source": [
    "#pay[pay['Department'] == 'POLICE']['Salary or Hourly'].value_counts()\n",
    "pay[pay['Department'] == 'POLICE'].groupby('Salary or Hourly').count()['Department']"
   ]
  },
  {
   "cell_type": "markdown",
   "id": "f8380811",
   "metadata": {},
   "source": [
    "11) What are the mean, max and min salaries?\n",
    "Create a new column named 'Salaries' for this and ensure all values in it are floats"
   ]
  },
  {
   "cell_type": "code",
   "execution_count": 109,
   "id": "e411dfd9",
   "metadata": {},
   "outputs": [
    {
     "name": "stderr",
     "output_type": "stream",
     "text": [
      "C:\\Users\\asuch\\AppData\\Local\\Temp\\ipykernel_5244\\4137963263.py:1: FutureWarning: The default value of regex will change from True to False in a future version. In addition, single character regular expressions will *not* be treated as literal strings when regex=True.\n",
      "  pay['Salaries'] = pay['Annual Salary'].str.replace('$', '').astype(float)\n"
     ]
    }
   ],
   "source": [
    "pay['Salaries'] = pay['Annual Salary'].str.replace('$', '').astype(float)"
   ]
  },
  {
   "cell_type": "code",
   "execution_count": 111,
   "id": "b25bda57",
   "metadata": {},
   "outputs": [
    {
     "name": "stdout",
     "output_type": "stream",
     "text": [
      "Max salary is  300000.0\n",
      "Min salary is  0.96\n",
      "Avg salary is  87512.78024137235\n"
     ]
    }
   ],
   "source": [
    "print('Max salary is ', pay['Salaries'].max())\n",
    "print('Min salary is ', pay['Salaries'].min())\n",
    "print('Avg salary is ', pay['Salaries'].mean())"
   ]
  },
  {
   "cell_type": "markdown",
   "id": "3fb9326d",
   "metadata": {},
   "source": [
    "12) Find an employee who has the maximum salary"
   ]
  },
  {
   "cell_type": "code",
   "execution_count": 113,
   "id": "1c66f6fe",
   "metadata": {},
   "outputs": [
    {
     "data": {
      "text/html": [
       "<div>\n",
       "<style scoped>\n",
       "    .dataframe tbody tr th:only-of-type {\n",
       "        vertical-align: middle;\n",
       "    }\n",
       "\n",
       "    .dataframe tbody tr th {\n",
       "        vertical-align: top;\n",
       "    }\n",
       "\n",
       "    .dataframe thead th {\n",
       "        text-align: right;\n",
       "    }\n",
       "</style>\n",
       "<table border=\"1\" class=\"dataframe\">\n",
       "  <thead>\n",
       "    <tr style=\"text-align: right;\">\n",
       "      <th></th>\n",
       "      <th>Name</th>\n",
       "      <th>Job Titles</th>\n",
       "      <th>Department</th>\n",
       "      <th>Full or Part-Time</th>\n",
       "      <th>Salary or Hourly</th>\n",
       "      <th>Typical Hours</th>\n",
       "      <th>Annual Salary</th>\n",
       "      <th>Hourly Rate</th>\n",
       "      <th>Salaries</th>\n",
       "    </tr>\n",
       "  </thead>\n",
       "  <tbody>\n",
       "    <tr>\n",
       "      <th>8310</th>\n",
       "      <td>EVANS,  GINGER S</td>\n",
       "      <td>COMMISSIONER OF AVIATION</td>\n",
       "      <td>AVIATION</td>\n",
       "      <td>F</td>\n",
       "      <td>Salary</td>\n",
       "      <td>NaN</td>\n",
       "      <td>$300000.00</td>\n",
       "      <td>NaN</td>\n",
       "      <td>300000.0</td>\n",
       "    </tr>\n",
       "  </tbody>\n",
       "</table>\n",
       "</div>"
      ],
      "text/plain": [
       "                  Name                Job Titles Department Full or Part-Time  \\\n",
       "8310  EVANS,  GINGER S  COMMISSIONER OF AVIATION   AVIATION                 F   \n",
       "\n",
       "     Salary or Hourly  Typical Hours Annual Salary Hourly Rate  Salaries  \n",
       "8310           Salary            NaN    $300000.00         NaN  300000.0  "
      ]
     },
     "execution_count": 113,
     "metadata": {},
     "output_type": "execute_result"
    }
   ],
   "source": [
    "pay[pay['Salaries'] == pay['Salaries'].max()]"
   ]
  },
  {
   "cell_type": "markdown",
   "id": "a20c83ce",
   "metadata": {},
   "source": [
    "20) What is the average salary of the employees in each department?"
   ]
  },
  {
   "cell_type": "code",
   "execution_count": 114,
   "id": "55b75b90",
   "metadata": {},
   "outputs": [
    {
     "data": {
      "text/plain": [
       "Department\n",
       "ADMIN HEARNG             78912.947368\n",
       "ANIMAL CONTRL            66089.684211\n",
       "AVIATION                 76140.018777\n",
       "BOARD OF ELECTION        56051.142857\n",
       "BOARD OF ETHICS          94552.500000\n",
       "BUDGET & MGMT            93925.395349\n",
       "BUILDINGS                98864.833534\n",
       "BUSINESS AFFAIRS         80446.425000\n",
       "CITY CLERK               69762.439024\n",
       "CITY COUNCIL             63577.172069\n",
       "COMMUNITY DEVELOPMENT    88363.257143\n",
       "COPA                     98784.705882\n",
       "CULTURAL AFFAIRS         87048.909091\n",
       "DISABILITIES             82431.724138\n",
       "DoIT                     99681.029703\n",
       "FAMILY & SUPPORT         79013.588785\n",
       "FINANCE                  73276.364662\n",
       "FIRE                     97762.348662\n",
       "GENERAL SERVICES         83095.528390\n",
       "HEALTH                   85488.210938\n",
       "HUMAN RELATIONS          93778.588235\n",
       "HUMAN RESOURCES          79851.761194\n",
       "INSPECTOR GEN            84030.666667\n",
       "IPRA                     94429.285714\n",
       "LAW                      84582.814404\n",
       "LICENSE APPL COMM        80568.000000\n",
       "MAYOR'S OFFICE           96165.512308\n",
       "OEMC                     73153.778221\n",
       "POLICE                   87836.025349\n",
       "POLICE BOARD             86136.000000\n",
       "PROCUREMENT              83278.243902\n",
       "PUBLIC LIBRARY           71273.288136\n",
       "STREETS & SAN            84347.775701\n",
       "TRANSPORTN               89976.896061\n",
       "TREASURER                88062.652174\n",
       "WATER MGMNT              89894.111803\n",
       "Name: Salaries, dtype: float64"
      ]
     },
     "execution_count": 114,
     "metadata": {},
     "output_type": "execute_result"
    }
   ],
   "source": [
    "pay.groupby('Department')['Salaries'].mean()"
   ]
  }
 ],
 "metadata": {
  "kernelspec": {
   "display_name": "Python 3 (ipykernel)",
   "language": "python",
   "name": "python3"
  },
  "language_info": {
   "codemirror_mode": {
    "name": "ipython",
    "version": 3
   },
   "file_extension": ".py",
   "mimetype": "text/x-python",
   "name": "python",
   "nbconvert_exporter": "python",
   "pygments_lexer": "ipython3",
   "version": "3.10.8"
  }
 },
 "nbformat": 4,
 "nbformat_minor": 5
}
