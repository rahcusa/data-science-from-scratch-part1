{
 "cells": [
  {
   "cell_type": "markdown",
   "id": "8bce31cf",
   "metadata": {},
   "source": [
    "1) How to compute a power of a number in Python, try 5 to the power of 3?"
   ]
  },
  {
   "cell_type": "code",
   "execution_count": 1,
   "id": "ca6e675a",
   "metadata": {},
   "outputs": [
    {
     "data": {
      "text/plain": [
       "125"
      ]
     },
     "execution_count": 1,
     "metadata": {},
     "output_type": "execute_result"
    }
   ],
   "source": [
    "5 ** 3"
   ]
  },
  {
   "cell_type": "code",
   "execution_count": null,
   "id": "3a243a7e",
   "metadata": {},
   "outputs": [],
   "source": [
    "2) Write a code to compute remainder if 9 is divided by 2"
   ]
  },
  {
   "cell_type": "code",
   "execution_count": 2,
   "id": "2ab27192",
   "metadata": {},
   "outputs": [
    {
     "data": {
      "text/plain": [
       "1"
      ]
     },
     "execution_count": 2,
     "metadata": {},
     "output_type": "execute_result"
    }
   ],
   "source": [
    "9 % 2"
   ]
  },
  {
   "cell_type": "markdown",
   "id": "84eb4046",
   "metadata": {},
   "source": [
    "3) Convert string s = 'i am in Alberta' to upper case"
   ]
  },
  {
   "cell_type": "code",
   "execution_count": 3,
   "id": "b6fa8125",
   "metadata": {},
   "outputs": [
    {
     "data": {
      "text/plain": [
       "'I AM IN ALBERTA'"
      ]
     },
     "execution_count": 3,
     "metadata": {},
     "output_type": "execute_result"
    }
   ],
   "source": [
    "s = 'i am in Alberta'\n",
    "s.upper()"
   ]
  },
  {
   "cell_type": "markdown",
   "id": "9caf7930",
   "metadata": {},
   "source": [
    "4) Convert the string s = 'My name is #Amandeep' into lower case and split at # into a list"
   ]
  },
  {
   "cell_type": "code",
   "execution_count": 4,
   "id": "61987815",
   "metadata": {},
   "outputs": [
    {
     "data": {
      "text/plain": [
       "['my name is ', 'amandeep']"
      ]
     },
     "execution_count": 4,
     "metadata": {},
     "output_type": "execute_result"
    }
   ],
   "source": [
    "s = 'My name is #Amandeep'\n",
    "s.lower().split('#')"
   ]
  },
  {
   "cell_type": "markdown",
   "id": "9145d811",
   "metadata": {},
   "source": [
    "5) Given \n",
    "province = 'Alberta'\n",
    "population = 4.1\n",
    "format a string to say 'The total population of Alberta is 4.1 million'"
   ]
  },
  {
   "cell_type": "code",
   "execution_count": 7,
   "id": "5ec1ca4c",
   "metadata": {},
   "outputs": [
    {
     "data": {
      "text/plain": [
       "'The total population of Alberta is 4.1'"
      ]
     },
     "execution_count": 7,
     "metadata": {},
     "output_type": "execute_result"
    }
   ],
   "source": [
    "province = 'Alberta'\n",
    "population = 4.1\n",
    "'The total population of {pr} is {pop}'.format(pr=province, pop=population)"
   ]
  },
  {
   "cell_type": "markdown",
   "id": "b3edbb7b",
   "metadata": {},
   "source": [
    "6) Grab 'Canada' from the given nested list using indexing"
   ]
  },
  {
   "cell_type": "code",
   "execution_count": 8,
   "id": "fe095541",
   "metadata": {},
   "outputs": [
    {
     "data": {
      "text/plain": [
       "'Canada'"
      ]
     },
     "execution_count": 8,
     "metadata": {},
     "output_type": "execute_result"
    }
   ],
   "source": [
    "a = ['Alberta', 2, [3, 4], [5, ['Canada']]]\n",
    "a[3][1][0]"
   ]
  },
  {
   "cell_type": "markdown",
   "id": "8644f978",
   "metadata": {},
   "source": [
    "7) Create a list of the names of provinces from the dictionary given below\n",
    "d = {'BC':'Victoria', 'AB': 'Edmonton', 'ON': 'Toronto', 'QC': 'Quebec City'}"
   ]
  },
  {
   "cell_type": "code",
   "execution_count": 10,
   "id": "374d6dcf",
   "metadata": {},
   "outputs": [
    {
     "data": {
      "text/plain": [
       "['BC', 'AB', 'ON', 'QC']"
      ]
     },
     "execution_count": 10,
     "metadata": {},
     "output_type": "execute_result"
    }
   ],
   "source": [
    "d = {'BC':'Victoria', 'AB': 'Edmonton', 'ON': 'Toronto', 'QC': 'Quebec City'}\n",
    "list(d.keys())"
   ]
  },
  {
   "cell_type": "markdown",
   "id": "de912793",
   "metadata": {},
   "source": [
    "8) From the given list grab 'Montreal'\n",
    "d = {'k1': 'AB', 'k2': [1, {'BC': ['SK', 'ON', 'Vancouver', {'Calgary': [1, 2, 3, 'Montreal']}]}]}"
   ]
  },
  {
   "cell_type": "code",
   "execution_count": 12,
   "id": "2ddbec5d",
   "metadata": {},
   "outputs": [
    {
     "data": {
      "text/plain": [
       "'Montreal'"
      ]
     },
     "execution_count": 12,
     "metadata": {},
     "output_type": "execute_result"
    }
   ],
   "source": [
    "d = {'k1': 'AB', 'k2': [1, {'BC': ['SK', 'ON', 'Vancouver', {'Calgary': [1, 2, 3, 'Montreal']}]}]}\n",
    "d['k2'][1]['BC'][3]['Calgary'][3]"
   ]
  },
  {
   "cell_type": "code",
   "execution_count": null,
   "id": "c2f11cc1",
   "metadata": {},
   "outputs": [],
   "source": [
    "9) What is the main difference between a tuple and a list?"
   ]
  },
  {
   "cell_type": "code",
   "execution_count": null,
   "id": "9aa352d9",
   "metadata": {},
   "outputs": [],
   "source": [
    "# A list is a sequence thats mutable, a tuple is a list thats immutable"
   ]
  },
  {
   "cell_type": "markdown",
   "id": "0b5ffa6d",
   "metadata": {},
   "source": [
    "10) An element can appear multiple times in a set?"
   ]
  },
  {
   "cell_type": "code",
   "execution_count": null,
   "id": "c387e1ba",
   "metadata": {},
   "outputs": [],
   "source": [
    "False"
   ]
  },
  {
   "cell_type": "markdown",
   "id": "6e6c3726",
   "metadata": {},
   "source": [
    "11) Write a function to separate domains from email addresses"
   ]
  },
  {
   "cell_type": "code",
   "execution_count": 15,
   "id": "d18973c0",
   "metadata": {},
   "outputs": [
    {
     "data": {
      "text/plain": [
       "'some_domain.ca'"
      ]
     },
     "execution_count": 15,
     "metadata": {},
     "output_type": "execute_result"
    }
   ],
   "source": [
    "def get_domain(address):\n",
    "    return address.split('@')[1];\n",
    "get_domain('user_name@some_domain.ca')"
   ]
  },
  {
   "cell_type": "markdown",
   "id": "d9a32ec3",
   "metadata": {},
   "source": [
    "12) write a function 'find_city' that tells you if there is a word 'Calgary' in a given string? How to deal if the word 'city' is capitalized?"
   ]
  },
  {
   "cell_type": "code",
   "execution_count": 18,
   "id": "c4bc836e",
   "metadata": {},
   "outputs": [
    {
     "name": "stdout",
     "output_type": "stream",
     "text": [
      "True\n",
      "False\n"
     ]
    }
   ],
   "source": [
    "def find_city(str):\n",
    "    return 'Calgary'.lower() in str.lower()\n",
    "print(find_city('Calgary is a city in Alberta'))\n",
    "print(find_city('Vancouver is a city in British Columbia'))"
   ]
  },
  {
   "cell_type": "markdown",
   "id": "544afd17",
   "metadata": {},
   "source": [
    "13) Write a function to return square of numbers from 1 to 5, use range() method"
   ]
  },
  {
   "cell_type": "code",
   "execution_count": 20,
   "id": "05bae3ca",
   "metadata": {},
   "outputs": [
    {
     "data": {
      "text/plain": [
       "[1, 4, 9, 16, 25]"
      ]
     },
     "execution_count": 20,
     "metadata": {},
     "output_type": "execute_result"
    }
   ],
   "source": [
    "def square(list):\n",
    "    return [num ** 2 for num in list]\n",
    "square(range(1, 6))"
   ]
  },
  {
   "cell_type": "markdown",
   "id": "e1cc718d",
   "metadata": {},
   "source": [
    "14) Write a lambda expression for the function in 13, use map() and range()"
   ]
  },
  {
   "cell_type": "code",
   "execution_count": 22,
   "id": "fee6e5d6",
   "metadata": {},
   "outputs": [
    {
     "data": {
      "text/plain": [
       "[1, 4, 9, 16, 25]"
      ]
     },
     "execution_count": 22,
     "metadata": {},
     "output_type": "execute_result"
    }
   ],
   "source": [
    "list(map(lambda num: num ** 2, range(1, 6)))"
   ]
  },
  {
   "cell_type": "markdown",
   "id": "c560f99f",
   "metadata": {},
   "source": [
    "15) Filter all the words from the given veg_list that start with 'c'"
   ]
  },
  {
   "cell_type": "code",
   "execution_count": 24,
   "id": "fa75c161",
   "metadata": {},
   "outputs": [
    {
     "data": {
      "text/plain": [
       "['tomato', 'meat', 'goat']"
      ]
     },
     "execution_count": 24,
     "metadata": {},
     "output_type": "execute_result"
    }
   ],
   "source": [
    "veg_list = ['tomato', 'cabbage', 'meat', 'chicken', 'goat']\n",
    "list(filter(lambda str: str[0] != 'c', veg_list))"
   ]
  },
  {
   "cell_type": "code",
   "execution_count": null,
   "id": "c4c52c32",
   "metadata": {},
   "outputs": [],
   "source": []
  }
 ],
 "metadata": {
  "kernelspec": {
   "display_name": "Python 3 (ipykernel)",
   "language": "python",
   "name": "python3"
  },
  "language_info": {
   "codemirror_mode": {
    "name": "ipython",
    "version": 3
   },
   "file_extension": ".py",
   "mimetype": "text/x-python",
   "name": "python",
   "nbconvert_exporter": "python",
   "pygments_lexer": "ipython3",
   "version": "3.10.8"
  }
 },
 "nbformat": 4,
 "nbformat_minor": 5
}
