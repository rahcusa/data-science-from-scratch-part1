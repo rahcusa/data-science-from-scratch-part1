{
 "cells": [
  {
   "cell_type": "markdown",
   "id": "c7d2567b",
   "metadata": {},
   "source": [
    "NumPy is a linear algebra library. It is powerful and extremely fast and integrates with C/C++."
   ]
  },
  {
   "cell_type": "code",
   "execution_count": 4,
   "id": "a761c0bc",
   "metadata": {},
   "outputs": [
    {
     "data": {
      "text/plain": [
       "'1.23.5'"
      ]
     },
     "execution_count": 4,
     "metadata": {},
     "output_type": "execute_result"
    }
   ],
   "source": [
    "import numpy as np\n",
    "np.__version__"
   ]
  },
  {
   "cell_type": "markdown",
   "id": "669d65e6",
   "metadata": {},
   "source": [
    "**1) NumPy Arrays"
   ]
  },
  {
   "cell_type": "markdown",
   "id": "926e4d49",
   "metadata": {},
   "source": [
    "NumPy Arrays can be used to form vectors and matrices"
   ]
  },
  {
   "cell_type": "code",
   "execution_count": 5,
   "id": "26747e64",
   "metadata": {},
   "outputs": [
    {
     "data": {
      "text/plain": [
       "([-1, 0, 1], list)"
      ]
     },
     "execution_count": 5,
     "metadata": {},
     "output_type": "execute_result"
    }
   ],
   "source": [
    "my_list = [-1, 0, 1]\n",
    "my_list, type(my_list)"
   ]
  },
  {
   "cell_type": "code",
   "execution_count": 6,
   "id": "5f248e43",
   "metadata": {},
   "outputs": [
    {
     "data": {
      "text/plain": [
       "(array([-1,  0,  1]), numpy.ndarray)"
      ]
     },
     "execution_count": 6,
     "metadata": {},
     "output_type": "execute_result"
    }
   ],
   "source": [
    "my_array = np.array(my_list)\n",
    "my_array, type(my_array)"
   ]
  },
  {
   "cell_type": "code",
   "execution_count": 7,
   "id": "4c0805f1",
   "metadata": {},
   "outputs": [
    {
     "data": {
      "text/plain": [
       "(array([[1, 2, 3],\n",
       "        [4, 5, 6],\n",
       "        [7, 8, 9]]),\n",
       " numpy.ndarray)"
      ]
     },
     "execution_count": 7,
     "metadata": {},
     "output_type": "execute_result"
    }
   ],
   "source": [
    "# lets create a 2d array\n",
    "my_2d_array = np.array([[1, 2, 3], [4, 5, 6], [7, 8, 9]])\n",
    "my_2d_array, type(my_2d_array)"
   ]
  },
  {
   "cell_type": "code",
   "execution_count": 8,
   "id": "726a26bd",
   "metadata": {},
   "outputs": [
    {
     "data": {
      "text/plain": [
       "(array([[1, 2, 3],\n",
       "        [4, 5, 6],\n",
       "        [7, 8, 9]]),\n",
       " numpy.ndarray)"
      ]
     },
     "execution_count": 8,
     "metadata": {},
     "output_type": "execute_result"
    }
   ],
   "source": [
    "# lets create a matrix from the 2d array\n",
    "my_matrix = np.array(my_2d_array)\n",
    "my_matrix, type(my_matrix)"
   ]
  },
  {
   "cell_type": "markdown",
   "id": "7eb9f5de",
   "metadata": {},
   "source": [
    "**1.2) NumPy Arrays from Tuples"
   ]
  },
  {
   "cell_type": "code",
   "execution_count": 9,
   "id": "fd5ea3f4",
   "metadata": {},
   "outputs": [
    {
     "data": {
      "text/plain": [
       "array([1, 2, 3])"
      ]
     },
     "execution_count": 9,
     "metadata": {},
     "output_type": "execute_result"
    }
   ],
   "source": [
    "my_list = np.array((1, 2, 3))\n",
    "my_list"
   ]
  },
  {
   "cell_type": "markdown",
   "id": "6a0dcbed",
   "metadata": {},
   "source": [
    "**1.3) NumPy Array built-in methods**\n",
    "Its common to create NumPy arrays using its own built-in methods.\n",
    "They are much simpler and faster"
   ]
  },
  {
   "cell_type": "markdown",
   "id": "76300c7c",
   "metadata": {},
   "source": [
    "**1.3.1) arange()**\n",
    "arange is similar to range().\n",
    "- used to generate evenly-spaced values in an interval\n",
    "- syntax: arange([start ,] stop[, step,] dtype=None)"
   ]
  },
  {
   "cell_type": "code",
   "execution_count": 10,
   "id": "bcfdb070",
   "metadata": {},
   "outputs": [
    {
     "data": {
      "text/plain": [
       "array([0, 1, 2, 3, 4, 5, 6, 7, 8, 9])"
      ]
     },
     "execution_count": 10,
     "metadata": {},
     "output_type": "execute_result"
    }
   ],
   "source": [
    "np.arange(0, 10)"
   ]
  },
  {
   "cell_type": "code",
   "execution_count": 11,
   "id": "86718a99",
   "metadata": {},
   "outputs": [
    {
     "data": {
      "text/plain": [
       "array([ 0,  2,  4,  6,  8, 10])"
      ]
     },
     "execution_count": 11,
     "metadata": {},
     "output_type": "execute_result"
    }
   ],
   "source": [
    "np.arange(0, 11, 2)"
   ]
  },
  {
   "cell_type": "code",
   "execution_count": 12,
   "id": "4d43ca04",
   "metadata": {},
   "outputs": [
    {
     "data": {
      "text/plain": [
       "array([0., 2., 4., 6., 8.])"
      ]
     },
     "execution_count": 12,
     "metadata": {},
     "output_type": "execute_result"
    }
   ],
   "source": [
    "np.arange(0, 10, 2, float)"
   ]
  },
  {
   "cell_type": "markdown",
   "id": "9ac09e60",
   "metadata": {},
   "source": [
    "**1.3.2) linspace()**\n",
    "similar to arange(), but the third argument for linspace is the number of points we want (instead of the step size)"
   ]
  },
  {
   "cell_type": "code",
   "execution_count": 13,
   "id": "e77cc8f9",
   "metadata": {},
   "outputs": [
    {
     "data": {
      "text/plain": [
       "array([ 1.        ,  5.66666667, 10.33333333, 15.        ])"
      ]
     },
     "execution_count": 13,
     "metadata": {},
     "output_type": "execute_result"
    }
   ],
   "source": [
    "np.linspace(1, 15, 4)"
   ]
  },
  {
   "cell_type": "code",
   "execution_count": 14,
   "id": "7279ee76",
   "metadata": {},
   "outputs": [
    {
     "name": "stdout",
     "output_type": "stream",
     "text": [
      "array is [ 1.  8. 15.]\n",
      "step size is 7.0\n"
     ]
    }
   ],
   "source": [
    "# a 4th optional argument returns the calculated step size alongside the array\n",
    "my_linspace = np.linspace(1, 15, 3, retstep=True)\n",
    "print('array is {arr}'.format(arr=my_linspace[0]))\n",
    "print('step size is {step}'.format(step=my_linspace[1]))"
   ]
  },
  {
   "cell_type": "markdown",
   "id": "fae5b309",
   "metadata": {},
   "source": [
    "**1.3.3) zeros()**\n",
    "Used to create an array or matrix with all zeroes"
   ]
  },
  {
   "cell_type": "code",
   "execution_count": 15,
   "id": "df972593",
   "metadata": {},
   "outputs": [
    {
     "data": {
      "text/plain": [
       "array([0., 0., 0.])"
      ]
     },
     "execution_count": 15,
     "metadata": {},
     "output_type": "execute_result"
    }
   ],
   "source": [
    "np.zeros(3)"
   ]
  },
  {
   "cell_type": "code",
   "execution_count": 16,
   "id": "6d48eda6",
   "metadata": {},
   "outputs": [
    {
     "data": {
      "text/plain": [
       "array([[0., 0., 0.],\n",
       "       [0., 0., 0.]])"
      ]
     },
     "execution_count": 16,
     "metadata": {},
     "output_type": "execute_result"
    }
   ],
   "source": [
    "np.zeros((2, 3)) # row x col is passed in a tuple"
   ]
  },
  {
   "cell_type": "markdown",
   "id": "ac24429b",
   "metadata": {},
   "source": [
    "**1.3.4) ones()**\n",
    "Used to create an array or matrix of ones (similar to zeros)"
   ]
  },
  {
   "cell_type": "code",
   "execution_count": 17,
   "id": "23dd7b07",
   "metadata": {},
   "outputs": [
    {
     "data": {
      "text/plain": [
       "array([1., 1., 1.])"
      ]
     },
     "execution_count": 17,
     "metadata": {},
     "output_type": "execute_result"
    }
   ],
   "source": [
    "np.ones(3)"
   ]
  },
  {
   "cell_type": "code",
   "execution_count": 18,
   "id": "8016a0c7",
   "metadata": {},
   "outputs": [
    {
     "data": {
      "text/plain": [
       "array([[1., 1., 1.],\n",
       "       [1., 1., 1.]])"
      ]
     },
     "execution_count": 18,
     "metadata": {},
     "output_type": "execute_result"
    }
   ],
   "source": [
    "np.ones((2, 3)) # row x col is passed in a tuple"
   ]
  },
  {
   "cell_type": "markdown",
   "id": "9d32f26d",
   "metadata": {},
   "source": [
    "**1.3.5) eye()**\n",
    "Identity matrix, only one param is needed because its always a square matrix"
   ]
  },
  {
   "cell_type": "code",
   "execution_count": 19,
   "id": "4da0882c",
   "metadata": {},
   "outputs": [
    {
     "data": {
      "text/plain": [
       "array([[1., 0., 0., 0.],\n",
       "       [0., 1., 0., 0.],\n",
       "       [0., 0., 1., 0.],\n",
       "       [0., 0., 0., 1.]])"
      ]
     },
     "execution_count": 19,
     "metadata": {},
     "output_type": "execute_result"
    }
   ],
   "source": [
    "np.eye(4)"
   ]
  },
  {
   "cell_type": "markdown",
   "id": "3c6755f6",
   "metadata": {},
   "source": [
    "**1.3.6) rand()**\n",
    "Create an array of a given shape and pick values over a uniform distribution"
   ]
  },
  {
   "cell_type": "code",
   "execution_count": 20,
   "id": "f8c7c403",
   "metadata": {},
   "outputs": [
    {
     "data": {
      "text/plain": [
       "array([0.12868455, 0.48269446, 0.56206895])"
      ]
     },
     "execution_count": 20,
     "metadata": {},
     "output_type": "execute_result"
    }
   ],
   "source": [
    "np.random.rand(3)"
   ]
  },
  {
   "cell_type": "code",
   "execution_count": 21,
   "id": "29f47d0b",
   "metadata": {},
   "outputs": [
    {
     "data": {
      "text/plain": [
       "array([[0.60890083, 0.36357831, 0.80453322],\n",
       "       [0.85805344, 0.35978607, 0.62719152]])"
      ]
     },
     "execution_count": 21,
     "metadata": {},
     "output_type": "execute_result"
    }
   ],
   "source": [
    "np.random.rand(2, 3) # row x col, no tuple this time"
   ]
  },
  {
   "cell_type": "markdown",
   "id": "2d0852a1",
   "metadata": {},
   "source": [
    "**1.3.7) randn()**\n",
    "Create an array of a given shape and pick values over a normal/Gaussian distribution"
   ]
  },
  {
   "cell_type": "code",
   "execution_count": 22,
   "id": "32dc940c",
   "metadata": {},
   "outputs": [
    {
     "data": {
      "text/plain": [
       "array([-1.23323834, -0.53074765,  1.30287217])"
      ]
     },
     "execution_count": 22,
     "metadata": {},
     "output_type": "execute_result"
    }
   ],
   "source": [
    "np.random.randn(3)"
   ]
  },
  {
   "cell_type": "code",
   "execution_count": 23,
   "id": "a3eaf949",
   "metadata": {},
   "outputs": [
    {
     "data": {
      "text/plain": [
       "array([[-0.04508046,  1.58042715, -0.93174633],\n",
       "       [-0.53430189, -1.08752184, -0.8033654 ]])"
      ]
     },
     "execution_count": 23,
     "metadata": {},
     "output_type": "execute_result"
    }
   ],
   "source": [
    "np.random.randn(2, 3)"
   ]
  },
  {
   "cell_type": "markdown",
   "id": "1e02bc42",
   "metadata": {},
   "source": [
    "**1.3.8) randint()**\n",
    "Create an array of random ints from low (inclusive) to high (exclusive)"
   ]
  },
  {
   "cell_type": "code",
   "execution_count": 24,
   "id": "c3b1927e",
   "metadata": {},
   "outputs": [
    {
     "data": {
      "text/plain": [
       "22"
      ]
     },
     "execution_count": 24,
     "metadata": {},
     "output_type": "execute_result"
    }
   ],
   "source": [
    "np.random.randint(1, 100)"
   ]
  },
  {
   "cell_type": "code",
   "execution_count": 25,
   "id": "333d7a0f",
   "metadata": {},
   "outputs": [
    {
     "data": {
      "text/plain": [
       "array([64, 32, 39, 96, 25, 64,  3, 88, 62, 79])"
      ]
     },
     "execution_count": 25,
     "metadata": {},
     "output_type": "execute_result"
    }
   ],
   "source": [
    "# a third optional argument generates an array of random ints if provided\n",
    "np.random.randint(1, 100, 10)"
   ]
  },
  {
   "cell_type": "markdown",
   "id": "73107dd8",
   "metadata": {},
   "source": [
    "**2) Array methods and attributes**\n",
    "reshape() -  can be used to convert an n element array into a x b array such that a x b = n\n",
    "max() - find max value in array\n",
    "min() - find min value in array\n",
    "argmax() - find index of max value in array\n",
    "argmin() - find index of min value in array"
   ]
  },
  {
   "cell_type": "code",
   "execution_count": 26,
   "id": "d8d53211",
   "metadata": {},
   "outputs": [
    {
     "data": {
      "text/plain": [
       "array([ 0,  1,  2,  3,  4,  5,  6,  7,  8,  9, 10, 11, 12, 13, 14, 15])"
      ]
     },
     "execution_count": 26,
     "metadata": {},
     "output_type": "execute_result"
    }
   ],
   "source": [
    "arr = np.arange(16)\n",
    "arr"
   ]
  },
  {
   "cell_type": "code",
   "execution_count": 27,
   "id": "22434b00",
   "metadata": {},
   "outputs": [
    {
     "data": {
      "text/plain": [
       "array([[ 0,  1,  2,  3],\n",
       "       [ 4,  5,  6,  7],\n",
       "       [ 8,  9, 10, 11],\n",
       "       [12, 13, 14, 15]])"
      ]
     },
     "execution_count": 27,
     "metadata": {},
     "output_type": "execute_result"
    }
   ],
   "source": [
    "arr.reshape(4, 4)"
   ]
  },
  {
   "cell_type": "code",
   "execution_count": 28,
   "id": "23a71893",
   "metadata": {},
   "outputs": [
    {
     "data": {
      "text/plain": [
       "array([ 0,  1,  2,  3,  4,  5,  6,  7,  8,  9, 10])"
      ]
     },
     "execution_count": 28,
     "metadata": {},
     "output_type": "execute_result"
    }
   ],
   "source": [
    "arr2 = np.arange(11)\n",
    "arr2"
   ]
  },
  {
   "cell_type": "code",
   "execution_count": 29,
   "id": "4529dc73",
   "metadata": {},
   "outputs": [
    {
     "data": {
      "text/plain": [
       "array([[ 0],\n",
       "       [ 1],\n",
       "       [ 2],\n",
       "       [ 3],\n",
       "       [ 4],\n",
       "       [ 5],\n",
       "       [ 6],\n",
       "       [ 7],\n",
       "       [ 8],\n",
       "       [ 9],\n",
       "       [10]])"
      ]
     },
     "execution_count": 29,
     "metadata": {},
     "output_type": "execute_result"
    }
   ],
   "source": [
    "arr2.reshape(11, 1)"
   ]
  },
  {
   "cell_type": "code",
   "execution_count": 30,
   "id": "86e3c611",
   "metadata": {},
   "outputs": [
    {
     "data": {
      "text/plain": [
       "array([ 8, 83, 20, 47, 29, 95, 79,  6, 47, 48])"
      ]
     },
     "execution_count": 30,
     "metadata": {},
     "output_type": "execute_result"
    }
   ],
   "source": [
    "arr3 = np.random.randint(1, 100, 10)\n",
    "arr3"
   ]
  },
  {
   "cell_type": "code",
   "execution_count": 31,
   "id": "4c826509",
   "metadata": {},
   "outputs": [
    {
     "data": {
      "text/plain": [
       "95"
      ]
     },
     "execution_count": 31,
     "metadata": {},
     "output_type": "execute_result"
    }
   ],
   "source": [
    "arr3.max()"
   ]
  },
  {
   "cell_type": "code",
   "execution_count": 32,
   "id": "16c0ebda",
   "metadata": {},
   "outputs": [
    {
     "data": {
      "text/plain": [
       "5"
      ]
     },
     "execution_count": 32,
     "metadata": {},
     "output_type": "execute_result"
    }
   ],
   "source": [
    "arr3.argmax()"
   ]
  },
  {
   "cell_type": "markdown",
   "id": "d7a3a098",
   "metadata": {},
   "source": [
    "**3) Indexing & slicing"
   ]
  },
  {
   "cell_type": "markdown",
   "id": "91eb6e90",
   "metadata": {},
   "source": [
    "**3.1) 1-D arrays (vectors)"
   ]
  },
  {
   "cell_type": "code",
   "execution_count": 35,
   "id": "6ba47bd3",
   "metadata": {},
   "outputs": [
    {
     "data": {
      "text/plain": [
       "array([-10,  -2,   0,   2,  17, 106, 200])"
      ]
     },
     "execution_count": 35,
     "metadata": {},
     "output_type": "execute_result"
    }
   ],
   "source": [
    "array_1d = np.array([-10, -2, 0, 2, 17, 106, 200])\n",
    "array_1d"
   ]
  },
  {
   "cell_type": "code",
   "execution_count": 36,
   "id": "bacda3b6",
   "metadata": {},
   "outputs": [
    {
     "name": "stdout",
     "output_type": "stream",
     "text": [
      "the value at index 0:  -10\n",
      "the value at index -2:  106\n"
     ]
    }
   ],
   "source": [
    "# indexing\n",
    "print('the value at index 0: ', array_1d[0])\n",
    "print('the value at index -2: ', array_1d[-2])"
   ]
  },
  {
   "cell_type": "code",
   "execution_count": 37,
   "id": "45ae3c87",
   "metadata": {},
   "outputs": [
    {
     "name": "stdout",
     "output_type": "stream",
     "text": [
      "our original array is:  [-10  -2   0   2  17 106 200]\n",
      "our selected slice of the array is:  [-10  -2   0]\n"
     ]
    }
   ],
   "source": [
    "# grabbing a range\n",
    "print('our original array is: ', array_1d)\n",
    "print('our selected slice of the array is: ', array_1d[0:3])"
   ]
  },
  {
   "cell_type": "code",
   "execution_count": 39,
   "id": "6f3f31cb",
   "metadata": {},
   "outputs": [
    {
     "name": "stdout",
     "output_type": "stream",
     "text": [
      "our selected slice of the array is  [-2  0  2 17]\n"
     ]
    }
   ],
   "source": [
    "# this is weird, \n",
    "# but if you think of the end value as index (not direction)\n",
    "# it makes sense\n",
    "# -2 is same as index 4,\n",
    "# so values from 1-4 are fetched, not 1, 0, -1, -2\n",
    "print('our selected slice of the array is ', array_1d[1:-2])"
   ]
  },
  {
   "cell_type": "code",
   "execution_count": 40,
   "id": "22307b72",
   "metadata": {},
   "outputs": [
    {
     "name": "stdout",
     "output_type": "stream",
     "text": [
      "[-10  -2]\n",
      "[  0   2  17 106 200]\n"
     ]
    }
   ],
   "source": [
    "# we dont need to give start and end indices\n",
    "print(array_1d[:2])\n",
    "print(array_1d[2:])"
   ]
  },
  {
   "cell_type": "code",
   "execution_count": null,
   "id": "d278c8a7",
   "metadata": {},
   "outputs": [],
   "source": [
    "# indices out of range cause index error\n",
    "# array_id[305] # will cause an IndexError"
   ]
  },
  {
   "cell_type": "markdown",
   "id": "da71a0e6",
   "metadata": {},
   "source": [
    "**3.2) 2-D arrays (matrices)"
   ]
  },
  {
   "cell_type": "code",
   "execution_count": 41,
   "id": "c18ef7a7",
   "metadata": {},
   "outputs": [
    {
     "data": {
      "text/plain": [
       "array([[ 0,  1,  2,  3],\n",
       "       [ 4,  5,  6,  7],\n",
       "       [ 8,  9, 10, 11],\n",
       "       [12, 13, 14, 15],\n",
       "       [16, 17, 18, 19],\n",
       "       [20, 21, 22, 23]])"
      ]
     },
     "execution_count": 41,
     "metadata": {},
     "output_type": "execute_result"
    }
   ],
   "source": [
    "array_2d = np.arange(24)\n",
    "array_2d.shape = (6,4)\n",
    "array_2d"
   ]
  },
  {
   "cell_type": "code",
   "execution_count": 42,
   "id": "63cdfbef",
   "metadata": {},
   "outputs": [
    {
     "data": {
      "text/plain": [
       "array([ 8,  9, 10, 11])"
      ]
     },
     "execution_count": 42,
     "metadata": {},
     "output_type": "execute_result"
    }
   ],
   "source": [
    "# we can grab a row by passing a row number\n",
    "array_2d[2]"
   ]
  },
  {
   "cell_type": "code",
   "execution_count": 43,
   "id": "fcbf3d31",
   "metadata": {},
   "outputs": [
    {
     "data": {
      "text/plain": [
       "array([ 8,  9, 10, 11])"
      ]
     },
     "execution_count": 43,
     "metadata": {},
     "output_type": "execute_result"
    }
   ],
   "source": [
    "# the same indexing works as with 1-D arrays\n",
    "array_2d[-4]"
   ]
  },
  {
   "cell_type": "code",
   "execution_count": 44,
   "id": "ed15ec7c",
   "metadata": {},
   "outputs": [
    {
     "data": {
      "text/plain": [
       "11"
      ]
     },
     "execution_count": 44,
     "metadata": {},
     "output_type": "execute_result"
    }
   ],
   "source": [
    "# to get a single element specify array_2d[row][col]\n",
    "array_2d[2, 3]"
   ]
  },
  {
   "cell_type": "code",
   "execution_count": 46,
   "id": "f7c399ff",
   "metadata": {},
   "outputs": [
    {
     "data": {
      "text/plain": [
       "array([[0, 1],\n",
       "       [4, 5]])"
      ]
     },
     "execution_count": 46,
     "metadata": {},
     "output_type": "execute_result"
    }
   ],
   "source": [
    "# to get a slice, \n",
    "# do array_2d[from_row:to_row_not_includes, from_col:to_col_not_includes]\n",
    "array_2d[:2,:2] #gives a 2x2 matrix of first 2 cols and rows"
   ]
  },
  {
   "cell_type": "markdown",
   "id": "c756b3c5",
   "metadata": {},
   "source": [
    "**4) Broadcasting"
   ]
  },
  {
   "cell_type": "code",
   "execution_count": 47,
   "id": "d8634941",
   "metadata": {},
   "outputs": [
    {
     "data": {
      "text/plain": [
       "array([0, 1, 2, 3, 4, 5, 6, 7, 8, 9])"
      ]
     },
     "execution_count": 47,
     "metadata": {},
     "output_type": "execute_result"
    }
   ],
   "source": [
    "# numpy arrays are different from python lists\n",
    "# because of their ability to broadcast\n",
    "array_1d = np.arange(0, 10)\n",
    "array_1d"
   ]
  },
  {
   "cell_type": "code",
   "execution_count": 53,
   "id": "c54ce845",
   "metadata": {},
   "outputs": [
    {
     "name": "stdout",
     "output_type": "stream",
     "text": [
      "[300 300 300 300 300   5   6   7   8   9]\n"
     ]
    }
   ],
   "source": [
    "# lets broadcast 300 to the first five elements of array_1d\n",
    "array_1d[0:5] = 300\n",
    "print(array_1d)"
   ]
  },
  {
   "cell_type": "code",
   "execution_count": 55,
   "id": "1f0ea884",
   "metadata": {},
   "outputs": [
    {
     "data": {
      "text/plain": [
       "array([[1., 1., 1., 1.],\n",
       "       [1., 1., 1., 1.],\n",
       "       [1., 1., 1., 1.],\n",
       "       [1., 1., 1., 1.]])"
      ]
     },
     "execution_count": 55,
     "metadata": {},
     "output_type": "execute_result"
    }
   ],
   "source": [
    "# lets create a 2D matrix with ones\n",
    "array_2d = np.ones((4, 4))\n",
    "array_2d"
   ]
  },
  {
   "cell_type": "code",
   "execution_count": 56,
   "id": "1425f674",
   "metadata": {},
   "outputs": [
    {
     "data": {
      "text/plain": [
       "array([[300., 300., 300., 300.],\n",
       "       [  1.,   1.,   1.,   1.],\n",
       "       [  1.,   1.,   1.,   1.],\n",
       "       [  1.,   1.,   1.,   1.]])"
      ]
     },
     "execution_count": 56,
     "metadata": {},
     "output_type": "execute_result"
    }
   ],
   "source": [
    "# lets broadcast 300 to the first row of array_2d\n",
    "array_2d[0] = 300\n",
    "array_2d"
   ]
  },
  {
   "cell_type": "code",
   "execution_count": 57,
   "id": "80b16820",
   "metadata": {},
   "outputs": [
    {
     "data": {
      "text/plain": [
       "array([[300., 301., 302., 303.],\n",
       "       [  1.,   2.,   3.,   4.],\n",
       "       [  1.,   2.,   3.,   4.],\n",
       "       [  1.,   2.,   3.,   4.]])"
      ]
     },
     "execution_count": 57,
     "metadata": {},
     "output_type": "execute_result"
    }
   ],
   "source": [
    "# lets create a simple 1-D array and broadcast to array_2d\n",
    "array_2d + np.arange(0, 4)"
   ]
  },
  {
   "cell_type": "code",
   "execution_count": 58,
   "id": "72f6b0d6",
   "metadata": {},
   "outputs": [
    {
     "ename": "ValueError",
     "evalue": "operands could not be broadcast together with shapes (4,4) (3,) ",
     "output_type": "error",
     "traceback": [
      "\u001b[1;31m---------------------------------------------------------------------------\u001b[0m",
      "\u001b[1;31mValueError\u001b[0m                                Traceback (most recent call last)",
      "Cell \u001b[1;32mIn[58], line 2\u001b[0m\n\u001b[0;32m      1\u001b[0m \u001b[38;5;66;03m# this wont work\u001b[39;00m\n\u001b[1;32m----> 2\u001b[0m \u001b[43marray_2d\u001b[49m\u001b[43m \u001b[49m\u001b[38;5;241;43m+\u001b[39;49m\u001b[43m \u001b[49m\u001b[43mnp\u001b[49m\u001b[38;5;241;43m.\u001b[39;49m\u001b[43marange\u001b[49m\u001b[43m(\u001b[49m\u001b[38;5;241;43m0\u001b[39;49m\u001b[43m,\u001b[49m\u001b[43m \u001b[49m\u001b[38;5;241;43m3\u001b[39;49m\u001b[43m)\u001b[49m\n",
      "\u001b[1;31mValueError\u001b[0m: operands could not be broadcast together with shapes (4,4) (3,) "
     ]
    }
   ],
   "source": [
    "# this wont work\n",
    "array_2d + np.arange(0, 3)"
   ]
  },
  {
   "cell_type": "code",
   "execution_count": 59,
   "id": "6e7a4f31",
   "metadata": {},
   "outputs": [
    {
     "data": {
      "text/plain": [
       "array([[600., 600., 600., 600.],\n",
       "       [301., 301., 301., 301.],\n",
       "       [301., 301., 301., 301.],\n",
       "       [301., 301., 301., 301.]])"
      ]
     },
     "execution_count": 59,
     "metadata": {},
     "output_type": "execute_result"
    }
   ],
   "source": [
    "array_2d + 300"
   ]
  },
  {
   "cell_type": "code",
   "execution_count": 60,
   "id": "e49e844b",
   "metadata": {},
   "outputs": [
    {
     "ename": "ValueError",
     "evalue": "operands could not be broadcast together with shapes (4,4) (2,) ",
     "output_type": "error",
     "traceback": [
      "\u001b[1;31m---------------------------------------------------------------------------\u001b[0m",
      "\u001b[1;31mValueError\u001b[0m                                Traceback (most recent call last)",
      "Cell \u001b[1;32mIn[60], line 1\u001b[0m\n\u001b[1;32m----> 1\u001b[0m \u001b[43marray_2d\u001b[49m\u001b[43m \u001b[49m\u001b[38;5;241;43m+\u001b[39;49m\u001b[43m \u001b[49m\u001b[43m[\u001b[49m\u001b[38;5;241;43m300\u001b[39;49m\u001b[43m,\u001b[49m\u001b[43m \u001b[49m\u001b[38;5;241;43m2\u001b[39;49m\u001b[43m]\u001b[49m\n",
      "\u001b[1;31mValueError\u001b[0m: operands could not be broadcast together with shapes (4,4) (2,) "
     ]
    }
   ],
   "source": [
    "array_2d + [300, 2]"
   ]
  },
  {
   "cell_type": "code",
   "execution_count": 62,
   "id": "95c81daa",
   "metadata": {},
   "outputs": [
    {
     "name": "stdout",
     "output_type": "stream",
     "text": [
      "[1 2 3]\n",
      "Shape of the array is (3,), this is 1-D array\n"
     ]
    }
   ],
   "source": [
    "array_1 = np.arange(1, 4)\n",
    "array_2 = np.arange(1, 4)[:, np.newaxis]\n",
    "print(array_1)\n",
    "print(\"Shape of the array is {}, this is {}-D array\".format(array_1.shape, len(array_1.shape)))"
   ]
  },
  {
   "cell_type": "code",
   "execution_count": 63,
   "id": "6a836c97",
   "metadata": {},
   "outputs": [
    {
     "name": "stdout",
     "output_type": "stream",
     "text": [
      "[[1]\n",
      " [2]\n",
      " [3]]\n",
      "Shape of the array is (3, 1), this is 2-D array\n"
     ]
    }
   ],
   "source": [
    "print(array_2)\n",
    "print(\"Shape of the array is {}, this is {}-D array\".format(array_2.shape, len(array_2.shape)))"
   ]
  },
  {
   "cell_type": "code",
   "execution_count": 64,
   "id": "58d976d8",
   "metadata": {},
   "outputs": [
    {
     "data": {
      "text/plain": [
       "array([[2, 3, 4],\n",
       "       [3, 4, 5],\n",
       "       [4, 5, 6]])"
      ]
     },
     "execution_count": 64,
     "metadata": {},
     "output_type": "execute_result"
    }
   ],
   "source": [
    "# Broadcasting arrays\n",
    "array_1 + array_2"
   ]
  },
  {
   "cell_type": "code",
   "execution_count": 65,
   "id": "80d77370",
   "metadata": {},
   "outputs": [
    {
     "data": {
      "text/plain": [
       "array([2, 3, 4])"
      ]
     },
     "execution_count": 65,
     "metadata": {},
     "output_type": "execute_result"
    }
   ],
   "source": [
    "# lets try to break down whats happening\n",
    "np.array([1, 2, 3]) + np.array([1])"
   ]
  },
  {
   "cell_type": "code",
   "execution_count": 66,
   "id": "8704a762",
   "metadata": {
    "scrolled": true
   },
   "outputs": [
    {
     "data": {
      "text/plain": [
       "array([[2., 3., 4.],\n",
       "       [2., 3., 4.],\n",
       "       [2., 3., 4.]])"
      ]
     },
     "execution_count": 66,
     "metadata": {},
     "output_type": "execute_result"
    }
   ],
   "source": [
    "# lets try broadcasting a 1x3 array to 3x3 array\n",
    "np.ones([3, 3]) + np.array([1, 2, 3])\n",
    "# check figure of page 46 of pdf for visualization of broadcasting\n",
    "# this is not the same as matrix + vector addition\n",
    "# the right operand basically assumes the shape of the left\n",
    "# and then does addition"
   ]
  },
  {
   "cell_type": "code",
   "execution_count": 67,
   "id": "f5e58448",
   "metadata": {},
   "outputs": [
    {
     "data": {
      "text/plain": [
       "array([[2., 3., 4.],\n",
       "       [2., 3., 4.],\n",
       "       [2., 3., 4.]])"
      ]
     },
     "execution_count": 67,
     "metadata": {},
     "output_type": "execute_result"
    }
   ],
   "source": [
    "# consider broadcasting a 3x1 array to a 1x3 array\n",
    "np.ones([3, 1]) + np.arange(1, 4) \n",
    "# they both will fill to form a 3x3 array"
   ]
  },
  {
   "cell_type": "markdown",
   "id": "c02dde30",
   "metadata": {},
   "source": [
    "**Fancy Indexing**\n",
    "Fancy indexing allows use to select entire rows or columns out of order\n",
    "Do you remember, zeros(), range(), shape and broadcasting?\n",
    "Lets revise these concepts :)"
   ]
  },
  {
   "cell_type": "code",
   "execution_count": 68,
   "id": "ab7cc311",
   "metadata": {},
   "outputs": [
    {
     "name": "stdout",
     "output_type": "stream",
     "text": [
      "[[0. 0. 0. 0. 0.]\n",
      " [1. 1. 1. 1. 1.]\n",
      " [2. 2. 2. 2. 2.]\n",
      " [3. 3. 3. 3. 3.]\n",
      " [4. 4. 4. 4. 4.]]\n"
     ]
    }
   ],
   "source": [
    "array_2d = np.zeros((5, 5))\n",
    "array_2d[1] = 1 # broadcasting 1 to second row at index 1\n",
    "array_2d[2] = 2 # broadcasting 2 to third row at index 2\n",
    "array_2d[3] = 3 # broadcasting 3 to fourth row at index 3\n",
    "array_2d[4] = 4 # broadcasting 4 to fifth row at index 4\n",
    "print(array_2d)"
   ]
  },
  {
   "cell_type": "markdown",
   "id": "82191376",
   "metadata": {},
   "source": [
    "The above process is tedious, lets try using a for-loop"
   ]
  },
  {
   "cell_type": "code",
   "execution_count": 69,
   "id": "0cc1a527",
   "metadata": {},
   "outputs": [
    {
     "data": {
      "text/plain": [
       "5"
      ]
     },
     "execution_count": 69,
     "metadata": {},
     "output_type": "execute_result"
    }
   ],
   "source": [
    "array_2d = np.zeros((5, 5))\n",
    "array_2d.shape[1]"
   ]
  },
  {
   "cell_type": "code",
   "execution_count": 70,
   "id": "d6dc9992",
   "metadata": {},
   "outputs": [
    {
     "data": {
      "text/plain": [
       "array([[0., 0., 0., 0., 0.],\n",
       "       [1., 1., 1., 1., 1.],\n",
       "       [2., 2., 2., 2., 2.],\n",
       "       [3., 3., 3., 3., 3.],\n",
       "       [4., 4., 4., 4., 4.]])"
      ]
     },
     "execution_count": 70,
     "metadata": {},
     "output_type": "execute_result"
    }
   ],
   "source": [
    "for i in range(array_2d.shape[1]):\n",
    "    array_2d[i] = i\n",
    "array_2d"
   ]
  },
  {
   "cell_type": "markdown",
   "id": "f8b11921",
   "metadata": {},
   "source": [
    "Fancy indexing allows us to grab any row using its index\n",
    "Lets grab row 1, 2 and 3"
   ]
  },
  {
   "cell_type": "code",
   "execution_count": 71,
   "id": "6963a3c9",
   "metadata": {},
   "outputs": [
    {
     "data": {
      "text/plain": [
       "array([[1., 1., 1., 1., 1.],\n",
       "       [2., 2., 2., 2., 2.],\n",
       "       [3., 3., 3., 3., 3.]])"
      ]
     },
     "execution_count": 71,
     "metadata": {},
     "output_type": "execute_result"
    }
   ],
   "source": [
    "array_2d[[1, 2, 3]]"
   ]
  },
  {
   "cell_type": "code",
   "execution_count": 72,
   "id": "e2bf49b7",
   "metadata": {},
   "outputs": [
    {
     "data": {
      "text/plain": [
       "array([[3., 3., 3., 3., 3.],\n",
       "       [0., 0., 0., 0., 0.],\n",
       "       [4., 4., 4., 4., 4.]])"
      ]
     },
     "execution_count": 72,
     "metadata": {},
     "output_type": "execute_result"
    }
   ],
   "source": [
    "# order isnt important\n",
    "array_2d[[3, 0, 4]]"
   ]
  },
  {
   "cell_type": "code",
   "execution_count": 76,
   "id": "513d0b09",
   "metadata": {},
   "outputs": [
    {
     "data": {
      "text/plain": [
       "array([[ 0,  1,  2,  3],\n",
       "       [ 4,  5,  6,  7],\n",
       "       [ 8,  9, 10, 11],\n",
       "       [12, 13, 14, 15],\n",
       "       [16, 17, 18, 19],\n",
       "       [20, 21, 22, 23]])"
      ]
     },
     "execution_count": 76,
     "metadata": {},
     "output_type": "execute_result"
    }
   ],
   "source": [
    "# lets try fancy indexing with another example\n",
    "array_2d = np.arange(24) # creating array using arange()\n",
    "array_2d.shape = (6, 4)\n",
    "array_2d"
   ]
  },
  {
   "cell_type": "code",
   "execution_count": 77,
   "id": "04944306",
   "metadata": {},
   "outputs": [
    {
     "data": {
      "text/plain": [
       "array([[ 8,  9, 10, 11],\n",
       "       [16, 17, 18, 19]])"
      ]
     },
     "execution_count": 77,
     "metadata": {},
     "output_type": "execute_result"
    }
   ],
   "source": [
    "# we can grab any random row, try 3 and 4\n",
    "array_2d[[2, 4]]"
   ]
  },
  {
   "cell_type": "code",
   "execution_count": 80,
   "id": "6d5e8734",
   "metadata": {},
   "outputs": [
    {
     "data": {
      "text/plain": [
       "array([[ 3,  2],\n",
       "       [ 7,  6],\n",
       "       [11, 10],\n",
       "       [15, 14],\n",
       "       [19, 18],\n",
       "       [23, 22]])"
      ]
     },
     "execution_count": 80,
     "metadata": {},
     "output_type": "execute_result"
    }
   ],
   "source": [
    "# we can grab the columns as well\n",
    "array_2d[:,[3, 2]] # grabs columns 3 and 2 in every row"
   ]
  },
  {
   "cell_type": "markdown",
   "id": "0f43e359",
   "metadata": {},
   "source": [
    "**5) Boolean masking**\n",
    "5.1 Boolean mask arrays\n",
    "Boolean mask is handy when counting, modifying, extracting or manipulating values in an array based on a certain condition/criteria\n",
    "E.g. We want to count all the values greater than a certain value\n",
    "We set a threshold and want to get-rid of outliers in the data"
   ]
  },
  {
   "cell_type": "code",
   "execution_count": 82,
   "id": "97ba1c95",
   "metadata": {},
   "outputs": [
    {
     "data": {
      "text/plain": [
       "array([ 1,  2,  3,  4,  5,  6,  7,  8,  9, 10])"
      ]
     },
     "execution_count": 82,
     "metadata": {},
     "output_type": "execute_result"
    }
   ],
   "source": [
    "# Create a simple array using arange()\n",
    "array_1d = np.arange(1, 11)\n",
    "array_1d"
   ]
  },
  {
   "cell_type": "code",
   "execution_count": 83,
   "id": "7ceddd74",
   "metadata": {},
   "outputs": [
    {
     "data": {
      "text/plain": [
       "array([False, False, False,  True,  True,  True,  True,  True,  True,\n",
       "        True])"
      ]
     },
     "execution_count": 83,
     "metadata": {},
     "output_type": "execute_result"
    }
   ],
   "source": [
    "# we can apply condition such as >, <, == etc\n",
    "# lets create a bool array for some condition, say array_1d > 3\n",
    "bool_array = array_1d > 3\n",
    "bool_array"
   ]
  },
  {
   "cell_type": "code",
   "execution_count": 85,
   "id": "0c9e49b1",
   "metadata": {},
   "outputs": [
    {
     "data": {
      "text/plain": [
       "array([False,  True, False,  True, False,  True, False,  True, False,\n",
       "        True])"
      ]
     },
     "execution_count": 85,
     "metadata": {},
     "output_type": "execute_result"
    }
   ],
   "source": [
    "# we can create a mask to filter out the even numbers in \"array_1d\"\n",
    "mod_2_mask_id = (array_1d % 2) == 0\n",
    "mod_2_mask_id"
   ]
  },
  {
   "cell_type": "markdown",
   "id": "fd4d6fe9",
   "metadata": {},
   "source": [
    "**5.2) Masking operation**\n",
    "In masking operation, we simply index on the boolean array, that will return a 1D array filled with all the values that meet the condition\n",
    "i.e. all the values in position at which the mask array, mod_2_mask_id is True"
   ]
  },
  {
   "cell_type": "code",
   "execution_count": 87,
   "id": "d7a2d9b4",
   "metadata": {},
   "outputs": [
    {
     "data": {
      "text/plain": [
       "array([ 2,  4,  6,  8, 10])"
      ]
     },
     "execution_count": 87,
     "metadata": {},
     "output_type": "execute_result"
    }
   ],
   "source": [
    "even_values = array_1d[mod_2_mask_id]\n",
    "even_values"
   ]
  },
  {
   "cell_type": "code",
   "execution_count": 88,
   "id": "8f308641",
   "metadata": {},
   "outputs": [
    {
     "name": "stdout",
     "output_type": "stream",
     "text": [
      "[[ 0  1  2  3]\n",
      " [ 4  5  6  7]\n",
      " [ 8  9 10 11]\n",
      " [12 13 14 15]\n",
      " [16 17 18 19]\n",
      " [20 21 22 23]]\n",
      "[[ True False  True False]\n",
      " [ True False  True False]\n",
      " [ True False  True False]\n",
      " [ True False  True False]\n",
      " [ True False  True False]\n",
      " [ True False  True False]]\n"
     ]
    }
   ],
   "source": [
    "# lets check with our array_2d\n",
    "array_2d = np.arange(24)\n",
    "array_2d.shape = (6, 4)\n",
    "mask_mod_2_2d = (array_2d % 2) == 0 # masking\n",
    "print(array_2d)\n",
    "print(mask_mod_2_2d)"
   ]
  },
  {
   "cell_type": "code",
   "execution_count": 89,
   "id": "7ae9c767",
   "metadata": {},
   "outputs": [
    {
     "data": {
      "text/plain": [
       "array([ 0,  2,  4,  6,  8, 10, 12, 14, 16, 18, 20, 22])"
      ]
     },
     "execution_count": 89,
     "metadata": {},
     "output_type": "execute_result"
    }
   ],
   "source": [
    "even_values_2d = array_2d[mask_mod_2_2d]\n",
    "even_values_2d"
   ]
  },
  {
   "cell_type": "markdown",
   "id": "182daf9a",
   "metadata": {},
   "source": [
    "**6) Arithmetic operations**\n",
    "We can perform arithmetic operations with NumPy arrays"
   ]
  },
  {
   "cell_type": "code",
   "execution_count": 91,
   "id": "199bede2",
   "metadata": {},
   "outputs": [
    {
     "data": {
      "text/plain": [
       "array([0, 1, 2, 3, 4])"
      ]
     },
     "execution_count": 91,
     "metadata": {},
     "output_type": "execute_result"
    }
   ],
   "source": [
    "# generate an array\n",
    "arr = np.arange(0, 5)\n",
    "arr"
   ]
  },
  {
   "cell_type": "code",
   "execution_count": 92,
   "id": "ce964a3a",
   "metadata": {},
   "outputs": [
    {
     "data": {
      "text/plain": [
       "array([0, 2, 4, 6, 8])"
      ]
     },
     "execution_count": 92,
     "metadata": {},
     "output_type": "execute_result"
    }
   ],
   "source": [
    "arr + arr"
   ]
  },
  {
   "cell_type": "code",
   "execution_count": 93,
   "id": "a263334f",
   "metadata": {},
   "outputs": [
    {
     "data": {
      "text/plain": [
       "array([0, 0, 0, 0, 0])"
      ]
     },
     "execution_count": 93,
     "metadata": {},
     "output_type": "execute_result"
    }
   ],
   "source": [
    "arr - arr"
   ]
  },
  {
   "cell_type": "code",
   "execution_count": 94,
   "id": "dc00087b",
   "metadata": {},
   "outputs": [
    {
     "data": {
      "text/plain": [
       "array([ 0,  1,  4,  9, 16])"
      ]
     },
     "execution_count": 94,
     "metadata": {},
     "output_type": "execute_result"
    }
   ],
   "source": [
    "arr * arr"
   ]
  },
  {
   "cell_type": "code",
   "execution_count": 95,
   "id": "0dc765ac",
   "metadata": {},
   "outputs": [
    {
     "name": "stderr",
     "output_type": "stream",
     "text": [
      "C:\\Users\\asuch\\AppData\\Local\\Temp\\ipykernel_22764\\4110895369.py:1: RuntimeWarning: invalid value encountered in divide\n",
      "  arr / arr # warning 0/0 is replaced with nan\n"
     ]
    },
    {
     "data": {
      "text/plain": [
       "array([nan,  1.,  1.,  1.,  1.])"
      ]
     },
     "execution_count": 95,
     "metadata": {},
     "output_type": "execute_result"
    }
   ],
   "source": [
    "arr / arr # warning 0/0 is replaced with nan"
   ]
  },
  {
   "cell_type": "code",
   "execution_count": 96,
   "id": "4a48c190",
   "metadata": {},
   "outputs": [
    {
     "name": "stderr",
     "output_type": "stream",
     "text": [
      "C:\\Users\\asuch\\AppData\\Local\\Temp\\ipykernel_22764\\1149331970.py:1: RuntimeWarning: divide by zero encountered in divide\n",
      "  1 / arr # warning 1/0 is replaced with inf\n"
     ]
    },
    {
     "data": {
      "text/plain": [
       "array([       inf, 1.        , 0.5       , 0.33333333, 0.25      ])"
      ]
     },
     "execution_count": 96,
     "metadata": {},
     "output_type": "execute_result"
    }
   ],
   "source": [
    "1 / arr # warning 1/0 is replaced with inf"
   ]
  },
  {
   "cell_type": "code",
   "execution_count": 97,
   "id": "ca7382ae",
   "metadata": {},
   "outputs": [
    {
     "data": {
      "text/plain": [
       "array([ 0,  1,  4,  9, 16])"
      ]
     },
     "execution_count": 97,
     "metadata": {},
     "output_type": "execute_result"
    }
   ],
   "source": [
    "arr ** 2"
   ]
  },
  {
   "cell_type": "code",
   "execution_count": 98,
   "id": "33510a29",
   "metadata": {},
   "outputs": [
    {
     "data": {
      "text/plain": [
       "array([0, 2, 4, 6, 8])"
      ]
     },
     "execution_count": 98,
     "metadata": {},
     "output_type": "execute_result"
    }
   ],
   "source": [
    "2 * arr"
   ]
  },
  {
   "cell_type": "markdown",
   "id": "c8bdde15",
   "metadata": {},
   "source": [
    "**7) Universal functions**\n",
    "NumPy have a range of built-in universal functions\n",
    "They are essentially just mathematical operations\n",
    "We can use them with NumPy arrays"
   ]
  },
  {
   "cell_type": "code",
   "execution_count": 99,
   "id": "0c78090d",
   "metadata": {},
   "outputs": [
    {
     "data": {
      "text/plain": [
       "array([0.        , 1.        , 1.41421356, 1.73205081, 2.        ])"
      ]
     },
     "execution_count": 99,
     "metadata": {},
     "output_type": "execute_result"
    }
   ],
   "source": [
    "np.sqrt(arr)"
   ]
  },
  {
   "cell_type": "code",
   "execution_count": 100,
   "id": "858d2af8",
   "metadata": {},
   "outputs": [
    {
     "data": {
      "text/plain": [
       "(4, 0)"
      ]
     },
     "execution_count": 100,
     "metadata": {},
     "output_type": "execute_result"
    }
   ],
   "source": [
    "np.max(arr), np.min(arr)"
   ]
  },
  {
   "cell_type": "code",
   "execution_count": 101,
   "id": "142b352e",
   "metadata": {},
   "outputs": [
    {
     "data": {
      "text/plain": [
       "array([ 0.        ,  0.84147098,  0.90929743,  0.14112001, -0.7568025 ])"
      ]
     },
     "execution_count": 101,
     "metadata": {},
     "output_type": "execute_result"
    }
   ],
   "source": [
    "np.sin(arr)"
   ]
  },
  {
   "cell_type": "code",
   "execution_count": 102,
   "id": "8b49a7da",
   "metadata": {},
   "outputs": [
    {
     "data": {
      "text/plain": [
       "array([ 1.        ,  2.71828183,  7.3890561 , 20.08553692, 54.59815003])"
      ]
     },
     "execution_count": 102,
     "metadata": {},
     "output_type": "execute_result"
    }
   ],
   "source": [
    "np.exp(arr) # calculate the exponential (e^) of all elements in arr"
   ]
  },
  {
   "cell_type": "code",
   "execution_count": 103,
   "id": "b3b79fc2",
   "metadata": {},
   "outputs": [
    {
     "name": "stderr",
     "output_type": "stream",
     "text": [
      "C:\\Users\\asuch\\AppData\\Local\\Temp\\ipykernel_22764\\3120950136.py:1: RuntimeWarning: divide by zero encountered in log\n",
      "  np.log(arr)\n"
     ]
    },
    {
     "data": {
      "text/plain": [
       "array([      -inf, 0.        , 0.69314718, 1.09861229, 1.38629436])"
      ]
     },
     "execution_count": 103,
     "metadata": {},
     "output_type": "execute_result"
    }
   ],
   "source": [
    "np.log(arr)"
   ]
  },
  {
   "cell_type": "code",
   "execution_count": 104,
   "id": "22e372f1",
   "metadata": {},
   "outputs": [
    {
     "data": {
      "text/plain": [
       "array([0.        , 0.01745329, 0.03490659, 0.05235988, 0.06981317])"
      ]
     },
     "execution_count": 104,
     "metadata": {},
     "output_type": "execute_result"
    }
   ],
   "source": [
    "np.deg2rad(arr) # convert angles from degrees to radians"
   ]
  },
  {
   "cell_type": "code",
   "execution_count": 105,
   "id": "e5676f5e",
   "metadata": {},
   "outputs": [
    {
     "data": {
      "text/plain": [
       "array([0., 1., 2., 3., 4.])"
      ]
     },
     "execution_count": 105,
     "metadata": {},
     "output_type": "execute_result"
    }
   ],
   "source": [
    "np.rad2deg(np.deg2rad(arr))"
   ]
  }
 ],
 "metadata": {
  "kernelspec": {
   "display_name": "Python 3 (ipykernel)",
   "language": "python",
   "name": "python3"
  },
  "language_info": {
   "codemirror_mode": {
    "name": "ipython",
    "version": 3
   },
   "file_extension": ".py",
   "mimetype": "text/x-python",
   "name": "python",
   "nbconvert_exporter": "python",
   "pygments_lexer": "ipython3",
   "version": "3.10.8"
  }
 },
 "nbformat": 4,
 "nbformat_minor": 5
}
