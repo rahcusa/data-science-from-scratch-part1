{
 "cells": [
  {
   "cell_type": "markdown",
   "id": "c7d2567b",
   "metadata": {},
   "source": [
    "NumPy is a linear algebra library. It is powerful and extremely fast and integrates with C/C++."
   ]
  },
  {
   "cell_type": "code",
   "execution_count": 2,
   "id": "a761c0bc",
   "metadata": {},
   "outputs": [
    {
     "data": {
      "text/plain": [
       "'1.23.5'"
      ]
     },
     "execution_count": 2,
     "metadata": {},
     "output_type": "execute_result"
    }
   ],
   "source": [
    "import numpy as np\n",
    "np.__version__"
   ]
  },
  {
   "cell_type": "markdown",
   "id": "669d65e6",
   "metadata": {},
   "source": [
    "**1) NumPy Arrays"
   ]
  },
  {
   "cell_type": "markdown",
   "id": "926e4d49",
   "metadata": {},
   "source": [
    "NumPy Arrays can be used to form vectors and matrices"
   ]
  },
  {
   "cell_type": "code",
   "execution_count": 3,
   "id": "26747e64",
   "metadata": {},
   "outputs": [
    {
     "data": {
      "text/plain": [
       "([-1, 0, 1], list)"
      ]
     },
     "execution_count": 3,
     "metadata": {},
     "output_type": "execute_result"
    }
   ],
   "source": [
    "my_list = [-1, 0, 1]\n",
    "my_list, type(my_list)"
   ]
  },
  {
   "cell_type": "code",
   "execution_count": 4,
   "id": "5f248e43",
   "metadata": {},
   "outputs": [
    {
     "data": {
      "text/plain": [
       "(array([-1,  0,  1]), numpy.ndarray)"
      ]
     },
     "execution_count": 4,
     "metadata": {},
     "output_type": "execute_result"
    }
   ],
   "source": [
    "my_array = np.array(my_list)\n",
    "my_array, type(my_array)"
   ]
  },
  {
   "cell_type": "code",
   "execution_count": 5,
   "id": "4c0805f1",
   "metadata": {},
   "outputs": [
    {
     "data": {
      "text/plain": [
       "(array([[1, 2, 3],\n",
       "        [4, 5, 6],\n",
       "        [7, 8, 9]]),\n",
       " numpy.ndarray)"
      ]
     },
     "execution_count": 5,
     "metadata": {},
     "output_type": "execute_result"
    }
   ],
   "source": [
    "# lets create a 2d array\n",
    "my_2d_array = np.array([[1, 2, 3], [4, 5, 6], [7, 8, 9]])\n",
    "my_2d_array, type(my_2d_array)"
   ]
  },
  {
   "cell_type": "code",
   "execution_count": 6,
   "id": "726a26bd",
   "metadata": {},
   "outputs": [
    {
     "data": {
      "text/plain": [
       "(array([[1, 2, 3],\n",
       "        [4, 5, 6],\n",
       "        [7, 8, 9]]),\n",
       " numpy.ndarray)"
      ]
     },
     "execution_count": 6,
     "metadata": {},
     "output_type": "execute_result"
    }
   ],
   "source": [
    "# lets create a matrix from the 2d array\n",
    "my_matrix = np.array(my_2d_array)\n",
    "my_matrix, type(my_matrix)"
   ]
  },
  {
   "cell_type": "markdown",
   "id": "7eb9f5de",
   "metadata": {},
   "source": [
    "**1.2) NumPy Arrays from Tuples"
   ]
  },
  {
   "cell_type": "code",
   "execution_count": 9,
   "id": "fd5ea3f4",
   "metadata": {},
   "outputs": [
    {
     "data": {
      "text/plain": [
       "array([1, 2, 3])"
      ]
     },
     "execution_count": 9,
     "metadata": {},
     "output_type": "execute_result"
    }
   ],
   "source": [
    "my_list = np.array((1, 2, 3))\n",
    "my_list"
   ]
  },
  {
   "cell_type": "markdown",
   "id": "6a0dcbed",
   "metadata": {},
   "source": [
    "**1.3) NumPy Array built-in methods**\n",
    "Its common to create NumPy arrays using its own built-in methods.\n",
    "They are much simpler and faster"
   ]
  },
  {
   "cell_type": "markdown",
   "id": "76300c7c",
   "metadata": {},
   "source": [
    "**1.3.1) arange()**\n",
    "arange is similar to range().\n",
    "- used to generate evenly-spaced values in an interval\n",
    "- syntax: arange([start ,] stop[, step,] dtype=None)"
   ]
  },
  {
   "cell_type": "code",
   "execution_count": 10,
   "id": "bcfdb070",
   "metadata": {},
   "outputs": [
    {
     "data": {
      "text/plain": [
       "array([0, 1, 2, 3, 4, 5, 6, 7, 8, 9])"
      ]
     },
     "execution_count": 10,
     "metadata": {},
     "output_type": "execute_result"
    }
   ],
   "source": [
    "np.arange(0, 10)"
   ]
  },
  {
   "cell_type": "code",
   "execution_count": 11,
   "id": "86718a99",
   "metadata": {},
   "outputs": [
    {
     "data": {
      "text/plain": [
       "array([ 0,  2,  4,  6,  8, 10])"
      ]
     },
     "execution_count": 11,
     "metadata": {},
     "output_type": "execute_result"
    }
   ],
   "source": [
    "np.arange(0, 11, 2)"
   ]
  },
  {
   "cell_type": "code",
   "execution_count": 12,
   "id": "4d43ca04",
   "metadata": {},
   "outputs": [
    {
     "data": {
      "text/plain": [
       "array([0., 2., 4., 6., 8.])"
      ]
     },
     "execution_count": 12,
     "metadata": {},
     "output_type": "execute_result"
    }
   ],
   "source": [
    "np.arange(0, 10, 2, float)"
   ]
  },
  {
   "cell_type": "markdown",
   "id": "9ac09e60",
   "metadata": {},
   "source": [
    "**1.3.2) linspace()**\n",
    "similar to arange(), but the third argument for linspace is the number of points we want (instead of the step size)"
   ]
  },
  {
   "cell_type": "code",
   "execution_count": 16,
   "id": "e77cc8f9",
   "metadata": {},
   "outputs": [
    {
     "data": {
      "text/plain": [
       "array([ 1.        ,  5.66666667, 10.33333333, 15.        ])"
      ]
     },
     "execution_count": 16,
     "metadata": {},
     "output_type": "execute_result"
    }
   ],
   "source": [
    "np.linspace(1, 15, 4)"
   ]
  },
  {
   "cell_type": "code",
   "execution_count": 21,
   "id": "7279ee76",
   "metadata": {},
   "outputs": [
    {
     "name": "stdout",
     "output_type": "stream",
     "text": [
      "array is [ 1.  8. 15.]\n",
      "step size is 7.0\n"
     ]
    }
   ],
   "source": [
    "# a 4th optional argument returns the calculated step size alongside the array\n",
    "my_linspace = np.linspace(1, 15, 3, retstep=True)\n",
    "print('array is {arr}'.format(arr=my_linspace[0]))\n",
    "print('step size is {step}'.format(step=my_linspace[1]))"
   ]
  },
  {
   "cell_type": "markdown",
   "id": "fae5b309",
   "metadata": {},
   "source": [
    "**1.3.3) zeros()**\n",
    "Used to create an array or matrix with all zeroes"
   ]
  },
  {
   "cell_type": "code",
   "execution_count": 22,
   "id": "df972593",
   "metadata": {},
   "outputs": [
    {
     "data": {
      "text/plain": [
       "array([0., 0., 0.])"
      ]
     },
     "execution_count": 22,
     "metadata": {},
     "output_type": "execute_result"
    }
   ],
   "source": [
    "np.zeros(3)"
   ]
  },
  {
   "cell_type": "code",
   "execution_count": 24,
   "id": "6d48eda6",
   "metadata": {},
   "outputs": [
    {
     "data": {
      "text/plain": [
       "array([[0., 0., 0.],\n",
       "       [0., 0., 0.]])"
      ]
     },
     "execution_count": 24,
     "metadata": {},
     "output_type": "execute_result"
    }
   ],
   "source": [
    "np.zeros((2, 3)) # row x col is passed in a tuple"
   ]
  },
  {
   "cell_type": "markdown",
   "id": "ac24429b",
   "metadata": {},
   "source": [
    "**1.3.4) ones()**\n",
    "Used to create an array or matrix of ones (similar to zeros)"
   ]
  },
  {
   "cell_type": "code",
   "execution_count": 25,
   "id": "23dd7b07",
   "metadata": {},
   "outputs": [
    {
     "data": {
      "text/plain": [
       "array([1., 1., 1.])"
      ]
     },
     "execution_count": 25,
     "metadata": {},
     "output_type": "execute_result"
    }
   ],
   "source": [
    "np.ones(3)"
   ]
  },
  {
   "cell_type": "code",
   "execution_count": 26,
   "id": "8016a0c7",
   "metadata": {},
   "outputs": [
    {
     "data": {
      "text/plain": [
       "array([[1., 1., 1.],\n",
       "       [1., 1., 1.]])"
      ]
     },
     "execution_count": 26,
     "metadata": {},
     "output_type": "execute_result"
    }
   ],
   "source": [
    "np.ones((2, 3)) # row x col is passed in a tuple"
   ]
  },
  {
   "cell_type": "markdown",
   "id": "9d32f26d",
   "metadata": {},
   "source": [
    "**1.3.5) eye()**\n",
    "Identity matrix, only one param is needed because its always a square matrix"
   ]
  },
  {
   "cell_type": "code",
   "execution_count": 27,
   "id": "4da0882c",
   "metadata": {},
   "outputs": [
    {
     "data": {
      "text/plain": [
       "array([[1., 0., 0., 0.],\n",
       "       [0., 1., 0., 0.],\n",
       "       [0., 0., 1., 0.],\n",
       "       [0., 0., 0., 1.]])"
      ]
     },
     "execution_count": 27,
     "metadata": {},
     "output_type": "execute_result"
    }
   ],
   "source": [
    "np.eye(4)"
   ]
  },
  {
   "cell_type": "markdown",
   "id": "3c6755f6",
   "metadata": {},
   "source": [
    "**1.3.6) rand()**\n",
    "Create an array of a given shape and pick values over a uniform distribution"
   ]
  },
  {
   "cell_type": "code",
   "execution_count": 28,
   "id": "f8c7c403",
   "metadata": {},
   "outputs": [
    {
     "data": {
      "text/plain": [
       "array([0.58023145, 0.97584486, 0.44892061])"
      ]
     },
     "execution_count": 28,
     "metadata": {},
     "output_type": "execute_result"
    }
   ],
   "source": [
    "np.random.rand(3)"
   ]
  },
  {
   "cell_type": "code",
   "execution_count": 29,
   "id": "29f47d0b",
   "metadata": {},
   "outputs": [
    {
     "data": {
      "text/plain": [
       "array([[0.02507535, 0.57262793, 0.43538384],\n",
       "       [0.9526066 , 0.93865468, 0.41688845]])"
      ]
     },
     "execution_count": 29,
     "metadata": {},
     "output_type": "execute_result"
    }
   ],
   "source": [
    "np.random.rand(2, 3) # row x col, no tuple this time"
   ]
  },
  {
   "cell_type": "markdown",
   "id": "2d0852a1",
   "metadata": {},
   "source": [
    "**1.3.7) randn()**\n",
    "Create an array of a given shape and pick values over a normal/Gaussian distribution"
   ]
  },
  {
   "cell_type": "code",
   "execution_count": 30,
   "id": "32dc940c",
   "metadata": {},
   "outputs": [
    {
     "data": {
      "text/plain": [
       "array([-1.68798546,  0.1475801 ,  0.92383748])"
      ]
     },
     "execution_count": 30,
     "metadata": {},
     "output_type": "execute_result"
    }
   ],
   "source": [
    "np.random.randn(3)"
   ]
  },
  {
   "cell_type": "code",
   "execution_count": 31,
   "id": "a3eaf949",
   "metadata": {},
   "outputs": [
    {
     "data": {
      "text/plain": [
       "array([[ 1.03714604,  1.43054483,  1.09180385],\n",
       "       [ 0.03612585, -1.1193925 , -1.58284574]])"
      ]
     },
     "execution_count": 31,
     "metadata": {},
     "output_type": "execute_result"
    }
   ],
   "source": [
    "np.random.randn(2, 3)"
   ]
  },
  {
   "cell_type": "markdown",
   "id": "1e02bc42",
   "metadata": {},
   "source": [
    "**1.3.8) randint()**\n",
    "Create an array of random ints from low (inclusive) to high (exclusive)"
   ]
  },
  {
   "cell_type": "code",
   "execution_count": 34,
   "id": "c3b1927e",
   "metadata": {},
   "outputs": [
    {
     "data": {
      "text/plain": [
       "78"
      ]
     },
     "execution_count": 34,
     "metadata": {},
     "output_type": "execute_result"
    }
   ],
   "source": [
    "np.random.randint(1, 100)"
   ]
  },
  {
   "cell_type": "code",
   "execution_count": 35,
   "id": "333d7a0f",
   "metadata": {},
   "outputs": [
    {
     "data": {
      "text/plain": [
       "array([97, 39, 20, 36, 86,  9, 31, 34, 12, 25])"
      ]
     },
     "execution_count": 35,
     "metadata": {},
     "output_type": "execute_result"
    }
   ],
   "source": [
    "# a third optional argument generates an array of random ints if provided\n",
    "np.random.randint(1, 100, 10)"
   ]
  },
  {
   "cell_type": "markdown",
   "id": "73107dd8",
   "metadata": {},
   "source": [
    "**2) Array methods and attributes**\n",
    "reshape() -  can be used to convert an n element array into a x b array such that a x b = n\n",
    "max() - find max value in array\n",
    "min() - find min value in array\n",
    "argmax() - find index of max value in array\n",
    "argmin() - find index of min value in array"
   ]
  },
  {
   "cell_type": "code",
   "execution_count": 37,
   "id": "d8d53211",
   "metadata": {},
   "outputs": [
    {
     "data": {
      "text/plain": [
       "array([ 0,  1,  2,  3,  4,  5,  6,  7,  8,  9, 10, 11, 12, 13, 14, 15])"
      ]
     },
     "execution_count": 37,
     "metadata": {},
     "output_type": "execute_result"
    }
   ],
   "source": [
    "arr = np.arange(16)\n",
    "arr"
   ]
  },
  {
   "cell_type": "code",
   "execution_count": 39,
   "id": "22434b00",
   "metadata": {},
   "outputs": [
    {
     "data": {
      "text/plain": [
       "array([[ 0,  1,  2,  3],\n",
       "       [ 4,  5,  6,  7],\n",
       "       [ 8,  9, 10, 11],\n",
       "       [12, 13, 14, 15]])"
      ]
     },
     "execution_count": 39,
     "metadata": {},
     "output_type": "execute_result"
    }
   ],
   "source": [
    "arr.reshape(4, 4)"
   ]
  },
  {
   "cell_type": "code",
   "execution_count": 46,
   "id": "23a71893",
   "metadata": {},
   "outputs": [
    {
     "data": {
      "text/plain": [
       "array([ 0,  1,  2,  3,  4,  5,  6,  7,  8,  9, 10])"
      ]
     },
     "execution_count": 46,
     "metadata": {},
     "output_type": "execute_result"
    }
   ],
   "source": [
    "arr2 = np.arange(11)\n",
    "arr2"
   ]
  },
  {
   "cell_type": "code",
   "execution_count": 50,
   "id": "4529dc73",
   "metadata": {},
   "outputs": [
    {
     "data": {
      "text/plain": [
       "array([[ 0],\n",
       "       [ 1],\n",
       "       [ 2],\n",
       "       [ 3],\n",
       "       [ 4],\n",
       "       [ 5],\n",
       "       [ 6],\n",
       "       [ 7],\n",
       "       [ 8],\n",
       "       [ 9],\n",
       "       [10]])"
      ]
     },
     "execution_count": 50,
     "metadata": {},
     "output_type": "execute_result"
    }
   ],
   "source": [
    "arr2.reshape(11, 1)"
   ]
  },
  {
   "cell_type": "code",
   "execution_count": 58,
   "id": "86e3c611",
   "metadata": {},
   "outputs": [
    {
     "data": {
      "text/plain": [
       "array([14, 17, 92, 73, 94, 20, 27, 97,  1, 24])"
      ]
     },
     "execution_count": 58,
     "metadata": {},
     "output_type": "execute_result"
    }
   ],
   "source": [
    "arr3 = np.random.randint(1, 100, 10)\n",
    "arr3"
   ]
  },
  {
   "cell_type": "code",
   "execution_count": 59,
   "id": "4c826509",
   "metadata": {},
   "outputs": [
    {
     "data": {
      "text/plain": [
       "97"
      ]
     },
     "execution_count": 59,
     "metadata": {},
     "output_type": "execute_result"
    }
   ],
   "source": [
    "arr3.max()"
   ]
  },
  {
   "cell_type": "code",
   "execution_count": 61,
   "id": "16c0ebda",
   "metadata": {},
   "outputs": [
    {
     "data": {
      "text/plain": [
       "7"
      ]
     },
     "execution_count": 61,
     "metadata": {},
     "output_type": "execute_result"
    }
   ],
   "source": [
    "arr3.argmax()"
   ]
  }
 ],
 "metadata": {
  "kernelspec": {
   "display_name": "Python 3 (ipykernel)",
   "language": "python",
   "name": "python3"
  },
  "language_info": {
   "codemirror_mode": {
    "name": "ipython",
    "version": 3
   },
   "file_extension": ".py",
   "mimetype": "text/x-python",
   "name": "python",
   "nbconvert_exporter": "python",
   "pygments_lexer": "ipython3",
   "version": "3.10.8"
  }
 },
 "nbformat": 4,
 "nbformat_minor": 5
}
