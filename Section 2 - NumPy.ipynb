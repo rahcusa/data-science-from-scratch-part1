{
 "cells": [
  {
   "cell_type": "markdown",
   "id": "f73074f9",
   "metadata": {},
   "source": [
    "NumPy is a linear algebra library. It is powerful and extremely fast and integrates with C/C++."
   ]
  },
  {
   "cell_type": "code",
   "execution_count": 2,
   "id": "b3aa5829",
   "metadata": {},
   "outputs": [
    {
     "data": {
      "text/plain": [
       "'1.23.5'"
      ]
     },
     "execution_count": 2,
     "metadata": {},
     "output_type": "execute_result"
    }
   ],
   "source": [
    "import numpy as np\n",
    "np.__version__"
   ]
  },
  {
   "cell_type": "markdown",
   "id": "77455eae",
   "metadata": {},
   "source": [
    "**1) NumPy Arrays"
   ]
  },
  {
   "cell_type": "markdown",
   "id": "a8ffd3b0",
   "metadata": {},
   "source": [
    "NumPy Arrays can be used to form vectors and matrices"
   ]
  },
  {
   "cell_type": "code",
   "execution_count": 3,
   "id": "99da601b",
   "metadata": {},
   "outputs": [
    {
     "data": {
      "text/plain": [
       "([-1, 0, 1], list)"
      ]
     },
     "execution_count": 3,
     "metadata": {},
     "output_type": "execute_result"
    }
   ],
   "source": [
    "my_list = [-1, 0, 1]\n",
    "my_list, type(my_list)"
   ]
  },
  {
   "cell_type": "code",
   "execution_count": 4,
   "id": "324059b4",
   "metadata": {},
   "outputs": [
    {
     "data": {
      "text/plain": [
       "(array([-1,  0,  1]), numpy.ndarray)"
      ]
     },
     "execution_count": 4,
     "metadata": {},
     "output_type": "execute_result"
    }
   ],
   "source": [
    "my_array = np.array(my_list)\n",
    "my_array, type(my_array)"
   ]
  },
  {
   "cell_type": "code",
   "execution_count": 5,
   "id": "2d427378",
   "metadata": {},
   "outputs": [
    {
     "data": {
      "text/plain": [
       "(array([[1, 2, 3],\n",
       "        [4, 5, 6],\n",
       "        [7, 8, 9]]),\n",
       " numpy.ndarray)"
      ]
     },
     "execution_count": 5,
     "metadata": {},
     "output_type": "execute_result"
    }
   ],
   "source": [
    "# lets create a 2d array\n",
    "my_2d_array = np.array([[1, 2, 3], [4, 5, 6], [7, 8, 9]])\n",
    "my_2d_array, type(my_2d_array)"
   ]
  },
  {
   "cell_type": "code",
   "execution_count": 6,
   "id": "bceb1cad",
   "metadata": {},
   "outputs": [
    {
     "data": {
      "text/plain": [
       "(array([[1, 2, 3],\n",
       "        [4, 5, 6],\n",
       "        [7, 8, 9]]),\n",
       " numpy.ndarray)"
      ]
     },
     "execution_count": 6,
     "metadata": {},
     "output_type": "execute_result"
    }
   ],
   "source": [
    "# lets create a matrix from the 2d array\n",
    "my_matrix = np.array(my_2d_array)\n",
    "my_matrix, type(my_matrix)"
   ]
  },
  {
   "cell_type": "markdown",
   "id": "379dab02",
   "metadata": {},
   "source": [
    "**1.2) NumPy Arrays from Tuples"
   ]
  },
  {
   "cell_type": "code",
   "execution_count": 9,
   "id": "fcafd336",
   "metadata": {},
   "outputs": [
    {
     "data": {
      "text/plain": [
       "array([1, 2, 3])"
      ]
     },
     "execution_count": 9,
     "metadata": {},
     "output_type": "execute_result"
    }
   ],
   "source": [
    "my_list = np.array((1, 2, 3))\n",
    "my_list"
   ]
  },
  {
   "cell_type": "markdown",
   "id": "87e6d5cb",
   "metadata": {},
   "source": [
    "**1.3) NumPy Array built-in methods**\n",
    "Its common to create NumPy arrays using its own built-in methods.\n",
    "They are much simpler and faster"
   ]
  },
  {
   "cell_type": "markdown",
   "id": "ccb99ffa",
   "metadata": {},
   "source": [
    "**1.3.1) arange()**\n",
    "arange is similar to range().\n",
    "- used to generate evenly-spaced values in an interval\n",
    "- syntax: arange([start ,] stop[, step,] dtype=None)"
   ]
  },
  {
   "cell_type": "code",
   "execution_count": 10,
   "id": "2e5a4f10",
   "metadata": {},
   "outputs": [
    {
     "data": {
      "text/plain": [
       "array([0, 1, 2, 3, 4, 5, 6, 7, 8, 9])"
      ]
     },
     "execution_count": 10,
     "metadata": {},
     "output_type": "execute_result"
    }
   ],
   "source": [
    "np.arange(0, 10)"
   ]
  },
  {
   "cell_type": "code",
   "execution_count": 11,
   "id": "082d50ef",
   "metadata": {},
   "outputs": [
    {
     "data": {
      "text/plain": [
       "array([ 0,  2,  4,  6,  8, 10])"
      ]
     },
     "execution_count": 11,
     "metadata": {},
     "output_type": "execute_result"
    }
   ],
   "source": [
    "np.arange(0, 11, 2)"
   ]
  },
  {
   "cell_type": "code",
   "execution_count": 12,
   "id": "76b7ce8e",
   "metadata": {},
   "outputs": [
    {
     "data": {
      "text/plain": [
       "array([0., 2., 4., 6., 8.])"
      ]
     },
     "execution_count": 12,
     "metadata": {},
     "output_type": "execute_result"
    }
   ],
   "source": [
    "np.arange(0, 10, 2, float)"
   ]
  },
  {
   "cell_type": "markdown",
   "id": "1c72da6a",
   "metadata": {},
   "source": [
    "**1.3.2) linspace()**\n",
    "similar to arange(), but the third argument for linspace is the number of points we want (instead of the step size)"
   ]
  },
  {
   "cell_type": "code",
   "execution_count": 16,
   "id": "dbd3c29b",
   "metadata": {},
   "outputs": [
    {
     "data": {
      "text/plain": [
       "array([ 1.        ,  5.66666667, 10.33333333, 15.        ])"
      ]
     },
     "execution_count": 16,
     "metadata": {},
     "output_type": "execute_result"
    }
   ],
   "source": [
    "np.linspace(1, 15, 4)"
   ]
  },
  {
   "cell_type": "code",
   "execution_count": 21,
   "id": "55a39d4c",
   "metadata": {},
   "outputs": [
    {
     "name": "stdout",
     "output_type": "stream",
     "text": [
      "array is [ 1.  8. 15.]\n",
      "step size is 7.0\n"
     ]
    }
   ],
   "source": [
    "# a 4th optional argument returns the calculated step size alongside the array\n",
    "my_linspace = np.linspace(1, 15, 3, retstep=True)\n",
    "print('array is {arr}'.format(arr=my_linspace[0]))\n",
    "print('step size is {step}'.format(step=my_linspace[1]))"
   ]
  },
  {
   "cell_type": "markdown",
   "id": "7cf0fa21",
   "metadata": {},
   "source": [
    "**1.3.3) zeros()**\n",
    "Used to create an array or matrix with all zeroes"
   ]
  },
  {
   "cell_type": "code",
   "execution_count": 22,
   "id": "aaadb72a",
   "metadata": {},
   "outputs": [
    {
     "data": {
      "text/plain": [
       "array([0., 0., 0.])"
      ]
     },
     "execution_count": 22,
     "metadata": {},
     "output_type": "execute_result"
    }
   ],
   "source": [
    "np.zeros(3)"
   ]
  },
  {
   "cell_type": "code",
   "execution_count": 24,
   "id": "0f6fd835",
   "metadata": {},
   "outputs": [
    {
     "data": {
      "text/plain": [
       "array([[0., 0., 0.],\n",
       "       [0., 0., 0.]])"
      ]
     },
     "execution_count": 24,
     "metadata": {},
     "output_type": "execute_result"
    }
   ],
   "source": [
    "np.zeros((2, 3)) # row x col is passed in a tuple"
   ]
  },
  {
   "cell_type": "markdown",
   "id": "f3e7d709",
   "metadata": {},
   "source": [
    "**1.3.4) ones()**\n",
    "Used to create an array or matrix of ones (similar to zeros)"
   ]
  },
  {
   "cell_type": "code",
   "execution_count": 25,
   "id": "6ddf5342",
   "metadata": {},
   "outputs": [
    {
     "data": {
      "text/plain": [
       "array([1., 1., 1.])"
      ]
     },
     "execution_count": 25,
     "metadata": {},
     "output_type": "execute_result"
    }
   ],
   "source": [
    "np.ones(3)"
   ]
  },
  {
   "cell_type": "code",
   "execution_count": 26,
   "id": "5cd66ccf",
   "metadata": {},
   "outputs": [
    {
     "data": {
      "text/plain": [
       "array([[1., 1., 1.],\n",
       "       [1., 1., 1.]])"
      ]
     },
     "execution_count": 26,
     "metadata": {},
     "output_type": "execute_result"
    }
   ],
   "source": [
    "np.ones((2, 3)) # row x col is passed in a tuple"
   ]
  },
  {
   "cell_type": "markdown",
   "id": "f06943a2",
   "metadata": {},
   "source": [
    "**1.3.5) eye()**\n",
    "Identity matrix, only one param is needed because its always a square matrix"
   ]
  },
  {
   "cell_type": "code",
   "execution_count": 27,
   "id": "5aefd5e7",
   "metadata": {},
   "outputs": [
    {
     "data": {
      "text/plain": [
       "array([[1., 0., 0., 0.],\n",
       "       [0., 1., 0., 0.],\n",
       "       [0., 0., 1., 0.],\n",
       "       [0., 0., 0., 1.]])"
      ]
     },
     "execution_count": 27,
     "metadata": {},
     "output_type": "execute_result"
    }
   ],
   "source": [
    "np.eye(4)"
   ]
  },
  {
   "cell_type": "markdown",
   "id": "9cb24c57",
   "metadata": {},
   "source": [
    "**1.3.6) rand()**\n",
    "Create an array of a given shape and pick values over a uniform distribution"
   ]
  },
  {
   "cell_type": "code",
   "execution_count": 28,
   "id": "140466bf",
   "metadata": {},
   "outputs": [
    {
     "data": {
      "text/plain": [
       "array([0.58023145, 0.97584486, 0.44892061])"
      ]
     },
     "execution_count": 28,
     "metadata": {},
     "output_type": "execute_result"
    }
   ],
   "source": [
    "np.random.rand(3)"
   ]
  },
  {
   "cell_type": "code",
   "execution_count": 29,
   "id": "0bd02f1c",
   "metadata": {},
   "outputs": [
    {
     "data": {
      "text/plain": [
       "array([[0.02507535, 0.57262793, 0.43538384],\n",
       "       [0.9526066 , 0.93865468, 0.41688845]])"
      ]
     },
     "execution_count": 29,
     "metadata": {},
     "output_type": "execute_result"
    }
   ],
   "source": [
    "np.random.rand(2, 3) # row x col, no tuple this time"
   ]
  },
  {
   "cell_type": "markdown",
   "id": "f6f9c372",
   "metadata": {},
   "source": [
    "**1.3.7) randn()**\n",
    "Create an array of a given shape and pick values over a normal/Gaussian distribution"
   ]
  },
  {
   "cell_type": "code",
   "execution_count": 30,
   "id": "fbff00f1",
   "metadata": {},
   "outputs": [
    {
     "data": {
      "text/plain": [
       "array([-1.68798546,  0.1475801 ,  0.92383748])"
      ]
     },
     "execution_count": 30,
     "metadata": {},
     "output_type": "execute_result"
    }
   ],
   "source": [
    "np.random.randn(3)"
   ]
  },
  {
   "cell_type": "code",
   "execution_count": 31,
   "id": "eff2fcab",
   "metadata": {},
   "outputs": [
    {
     "data": {
      "text/plain": [
       "array([[ 1.03714604,  1.43054483,  1.09180385],\n",
       "       [ 0.03612585, -1.1193925 , -1.58284574]])"
      ]
     },
     "execution_count": 31,
     "metadata": {},
     "output_type": "execute_result"
    }
   ],
   "source": [
    "np.random.randn(2, 3)"
   ]
  },
  {
   "cell_type": "markdown",
   "id": "993a481b",
   "metadata": {},
   "source": [
    "**1.3.8) randint()**\n",
    "Create an array of random ints from low (inclusive) to high (exclusive)"
   ]
  },
  {
   "cell_type": "code",
   "execution_count": 34,
   "id": "c577abe0",
   "metadata": {},
   "outputs": [
    {
     "data": {
      "text/plain": [
       "78"
      ]
     },
     "execution_count": 34,
     "metadata": {},
     "output_type": "execute_result"
    }
   ],
   "source": [
    "np.random.randint(1, 100)"
   ]
  },
  {
   "cell_type": "code",
   "execution_count": 35,
   "id": "18938b88",
   "metadata": {},
   "outputs": [
    {
     "data": {
      "text/plain": [
       "array([97, 39, 20, 36, 86,  9, 31, 34, 12, 25])"
      ]
     },
     "execution_count": 35,
     "metadata": {},
     "output_type": "execute_result"
    }
   ],
   "source": [
    "# a third optional argument generates an array of random ints if provided\n",
    "np.random.randint(1, 100, 10)"
   ]
  }
 ],
 "metadata": {
  "kernelspec": {
   "display_name": "Python 3 (ipykernel)",
   "language": "python",
   "name": "python3"
  },
  "language_info": {
   "codemirror_mode": {
    "name": "ipython",
    "version": 3
   },
   "file_extension": ".py",
   "mimetype": "text/x-python",
   "name": "python",
   "nbconvert_exporter": "python",
   "pygments_lexer": "ipython3",
   "version": "3.10.8"
  }
 },
 "nbformat": 4,
 "nbformat_minor": 5
}
