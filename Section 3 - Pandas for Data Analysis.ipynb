{
 "cells": [
  {
   "cell_type": "markdown",
   "id": "3cfe17fa",
   "metadata": {},
   "source": [
    "Pandas provides high-performance, easy-to-use data structures and data analysis tools for Python.\n",
    "Think of it as an extremely powerful version of Excel with a lot more features."
   ]
  },
  {
   "cell_type": "markdown",
   "id": "f94f8ac6",
   "metadata": {},
   "source": [
    "**1) pandas Data structures**\n",
    "\n",
    "Series and DataFrame are two main data structures in pandas"
   ]
  },
  {
   "cell_type": "markdown",
   "id": "2f450955",
   "metadata": {},
   "source": [
    "1.1) Series"
   ]
  },
  {
   "cell_type": "code",
   "execution_count": 1,
   "id": "52ce7622",
   "metadata": {},
   "outputs": [],
   "source": [
    "import numpy as np\n",
    "import pandas as pd"
   ]
  },
  {
   "cell_type": "code",
   "execution_count": 2,
   "id": "67145358",
   "metadata": {},
   "outputs": [
    {
     "name": "stdout",
     "output_type": "stream",
     "text": [
      "numpy version:  1.23.5\n",
      "pandas version:  1.5.2\n"
     ]
    }
   ],
   "source": [
    "print('numpy version: ', np.__version__)\n",
    "print('pandas version: ', pd.__version__)"
   ]
  },
  {
   "cell_type": "code",
   "execution_count": null,
   "id": "3e9e4b0f",
   "metadata": {},
   "outputs": [],
   "source": []
  }
 ],
 "metadata": {
  "kernelspec": {
   "display_name": "Python 3 (ipykernel)",
   "language": "python",
   "name": "python3"
  },
  "language_info": {
   "codemirror_mode": {
    "name": "ipython",
    "version": 3
   },
   "file_extension": ".py",
   "mimetype": "text/x-python",
   "name": "python",
   "nbconvert_exporter": "python",
   "pygments_lexer": "ipython3",
   "version": "3.10.8"
  }
 },
 "nbformat": 4,
 "nbformat_minor": 5
}
