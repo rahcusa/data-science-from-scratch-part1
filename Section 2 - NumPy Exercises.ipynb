{
 "cells": [
  {
   "cell_type": "markdown",
   "id": "56b38354",
   "metadata": {},
   "source": [
    "1) What is the major difference between \"Vector\" and \"Matrix\"?"
   ]
  },
  {
   "cell_type": "markdown",
   "id": "137c3998",
   "metadata": {},
   "source": [
    "A vector is 1-D array of numbers\n",
    "A matrix is 2-D array of numbers"
   ]
  },
  {
   "cell_type": "markdown",
   "id": "9435ba00",
   "metadata": {},
   "source": [
    "2) How to import NumPy library?"
   ]
  },
  {
   "cell_type": "code",
   "execution_count": 3,
   "id": "90527dac",
   "metadata": {},
   "outputs": [
    {
     "data": {
      "text/plain": [
       "'1.23.5'"
      ]
     },
     "execution_count": 3,
     "metadata": {},
     "output_type": "execute_result"
    }
   ],
   "source": [
    "import numpy as np\n",
    "np.__version__"
   ]
  },
  {
   "cell_type": "markdown",
   "id": "e12de7ec",
   "metadata": {},
   "source": [
    "3) Convert the given Python list into NumPy array and check is data type."
   ]
  },
  {
   "cell_type": "code",
   "execution_count": 13,
   "id": "1206317c",
   "metadata": {},
   "outputs": [
    {
     "data": {
      "text/plain": [
       "([1, 2, 3, 4, 5], list)"
      ]
     },
     "execution_count": 13,
     "metadata": {},
     "output_type": "execute_result"
    }
   ],
   "source": [
    "list_1 = [1, 2, 3, 4, 5]\n",
    "list_1, type(list_1)"
   ]
  },
  {
   "cell_type": "code",
   "execution_count": 16,
   "id": "c390ec18",
   "metadata": {},
   "outputs": [
    {
     "data": {
      "text/plain": [
       "(array([1, 2, 3, 4, 5]), numpy.ndarray)"
      ]
     },
     "execution_count": 16,
     "metadata": {},
     "output_type": "execute_result"
    }
   ],
   "source": [
    "list_2 = np.array(list_1)\n",
    "np.array(list_2), type(np.array(list_2))"
   ]
  },
  {
   "cell_type": "markdown",
   "id": "738c71a9",
   "metadata": {},
   "source": [
    "4) Generate array [0,1,2,3,4,5] using arange()"
   ]
  },
  {
   "cell_type": "code",
   "execution_count": 17,
   "id": "1b275c3c",
   "metadata": {},
   "outputs": [
    {
     "data": {
      "text/plain": [
       "array([0, 1, 2, 3, 4, 5])"
      ]
     },
     "execution_count": 17,
     "metadata": {},
     "output_type": "execute_result"
    }
   ],
   "source": [
    "np.arange(0, 6)"
   ]
  },
  {
   "cell_type": "markdown",
   "id": "6b7ecb7c",
   "metadata": {},
   "source": [
    "5) Generate an array of 5 zeros"
   ]
  },
  {
   "cell_type": "code",
   "execution_count": 18,
   "id": "65de4984",
   "metadata": {},
   "outputs": [
    {
     "data": {
      "text/plain": [
       "array([0., 0., 0., 0., 0.])"
      ]
     },
     "execution_count": 18,
     "metadata": {},
     "output_type": "execute_result"
    }
   ],
   "source": [
    "np.zeros(5)"
   ]
  },
  {
   "cell_type": "code",
   "execution_count": null,
   "id": "abca7ba0",
   "metadata": {},
   "outputs": [],
   "source": [
    "6) Generate a 4x4 matrix of zeros"
   ]
  },
  {
   "cell_type": "code",
   "execution_count": 20,
   "id": "5421131e",
   "metadata": {},
   "outputs": [
    {
     "data": {
      "text/plain": [
       "array([[0., 0., 0., 0.],\n",
       "       [0., 0., 0., 0.],\n",
       "       [0., 0., 0., 0.],\n",
       "       [0., 0., 0., 0.]])"
      ]
     },
     "execution_count": 20,
     "metadata": {},
     "output_type": "execute_result"
    }
   ],
   "source": [
    "np.zeros((4, 4))"
   ]
  },
  {
   "cell_type": "markdown",
   "id": "6ec4dedd",
   "metadata": {},
   "source": [
    "7) Generate [1., 1., 1., 1., 1.]"
   ]
  },
  {
   "cell_type": "code",
   "execution_count": 25,
   "id": "5e2783b9",
   "metadata": {},
   "outputs": [
    {
     "data": {
      "text/plain": [
       "array([1., 1., 1., 1., 1.])"
      ]
     },
     "execution_count": 25,
     "metadata": {},
     "output_type": "execute_result"
    }
   ],
   "source": [
    "np.ones(5)"
   ]
  },
  {
   "cell_type": "markdown",
   "id": "2571afe1",
   "metadata": {},
   "source": [
    "8) Generate an array of \"5\" tens"
   ]
  },
  {
   "cell_type": "code",
   "execution_count": 26,
   "id": "9fb4cfce",
   "metadata": {},
   "outputs": [
    {
     "data": {
      "text/plain": [
       "array([10., 10., 10., 10., 10.])"
      ]
     },
     "execution_count": 26,
     "metadata": {},
     "output_type": "execute_result"
    }
   ],
   "source": [
    "np.ones(5) + 9"
   ]
  },
  {
   "cell_type": "markdown",
   "id": "82bb45a7",
   "metadata": {},
   "source": [
    "9) Use arange() to generate an array of even numbers between (50, 100)"
   ]
  },
  {
   "cell_type": "code",
   "execution_count": 29,
   "id": "96cf4c98",
   "metadata": {},
   "outputs": [
    {
     "data": {
      "text/plain": [
       "array([52, 54, 56, 58, 60, 62, 64, 66, 68, 70, 72, 74, 76, 78, 80, 82, 84,\n",
       "       86, 88, 90, 92, 94, 96, 98])"
      ]
     },
     "execution_count": 29,
     "metadata": {},
     "output_type": "execute_result"
    }
   ],
   "source": [
    "np.arange(52, 100, 2)"
   ]
  },
  {
   "cell_type": "markdown",
   "id": "e7e3b71c",
   "metadata": {},
   "source": [
    "10) Generate an array of 10 linearly spaced points between 0 and 1. Output the step size as well"
   ]
  },
  {
   "cell_type": "code",
   "execution_count": 30,
   "id": "99bd8747",
   "metadata": {},
   "outputs": [
    {
     "data": {
      "text/plain": [
       "(array([0.        , 0.11111111, 0.22222222, 0.33333333, 0.44444444,\n",
       "        0.55555556, 0.66666667, 0.77777778, 0.88888889, 1.        ]),\n",
       " 0.1111111111111111)"
      ]
     },
     "execution_count": 30,
     "metadata": {},
     "output_type": "execute_result"
    }
   ],
   "source": [
    "arr = np.linspace(0, 1, 10, retstep=True)\n",
    "arr"
   ]
  },
  {
   "cell_type": "markdown",
   "id": "b174a968",
   "metadata": {},
   "source": [
    "11) Perform the following tasks:\n",
    "- Generate a vector array of 25 numbers using arange()\n",
    "- Convert the vector array into 2D matrix using reshape\n",
    "- Can we use shape instead of reshape as well?"
   ]
  },
  {
   "cell_type": "code",
   "execution_count": 37,
   "id": "90302c0d",
   "metadata": {},
   "outputs": [
    {
     "data": {
      "text/plain": [
       "array([[ 0,  1,  2,  3,  4],\n",
       "       [ 5,  6,  7,  8,  9],\n",
       "       [10, 11, 12, 13, 14],\n",
       "       [15, 16, 17, 18, 19],\n",
       "       [20, 21, 22, 23, 24]])"
      ]
     },
     "execution_count": 37,
     "metadata": {},
     "output_type": "execute_result"
    }
   ],
   "source": [
    "vector = np.arange(25)\n",
    "vector\n",
    "#vector.reshape(5, 5) # works\n",
    "vector.shape = (5, 5) # works\n",
    "vector"
   ]
  },
  {
   "cell_type": "markdown",
   "id": "2f7fc3ef",
   "metadata": {},
   "source": [
    "12) Generate a 5x5 matrix containing numbers from 0.1 to 2.5"
   ]
  },
  {
   "cell_type": "code",
   "execution_count": 40,
   "id": "c9947083",
   "metadata": {},
   "outputs": [
    {
     "data": {
      "text/plain": [
       "array([[0.1, 0.2, 0.3, 0.4, 0.5],\n",
       "       [0.6, 0.7, 0.8, 0.9, 1. ],\n",
       "       [1.1, 1.2, 1.3, 1.4, 1.5],\n",
       "       [1.6, 1.7, 1.8, 1.9, 2. ],\n",
       "       [2.1, 2.2, 2.3, 2.4, 2.5]])"
      ]
     },
     "execution_count": 40,
     "metadata": {},
     "output_type": "execute_result"
    }
   ],
   "source": [
    "matrix = np.linspace(0.1, 2.5, 25).reshape(5, 5)\n",
    "matrix"
   ]
  },
  {
   "cell_type": "markdown",
   "id": "6fa1b543",
   "metadata": {},
   "source": [
    "13) Generate a 5x5 matrix container numbers from 0 to 24. Print the step size"
   ]
  },
  {
   "cell_type": "code",
   "execution_count": 50,
   "id": "228d7dae",
   "metadata": {},
   "outputs": [
    {
     "name": "stdout",
     "output_type": "stream",
     "text": [
      "[[ 0.  1.  2.  3.  4.]\n",
      " [ 5.  6.  7.  8.  9.]\n",
      " [10. 11. 12. 13. 14.]\n",
      " [15. 16. 17. 18. 19.]\n",
      " [20. 21. 22. 23. 24.]]\n",
      "Step size is  1.0\n"
     ]
    }
   ],
   "source": [
    "arr = np.linspace(0, 24, 25, retstep=True)\n",
    "print(arr[0].reshape(5, 5))\n",
    "print('Step size is ', arr[1])"
   ]
  },
  {
   "cell_type": "markdown",
   "id": "339f7fad",
   "metadata": {},
   "source": [
    "14) What is the main difference between linspace() and arange()?\n",
    "- arange takes third argument as step size\n",
    "- linspace takes third arguments as number of points we want"
   ]
  },
  {
   "cell_type": "markdown",
   "id": "bf0006d0",
   "metadata": {},
   "source": [
    "15) How to generate a single random number using NumPy built in function()"
   ]
  },
  {
   "cell_type": "code",
   "execution_count": 53,
   "id": "66face23",
   "metadata": {},
   "outputs": [
    {
     "data": {
      "text/plain": [
       "array([0.90430072])"
      ]
     },
     "execution_count": 53,
     "metadata": {},
     "output_type": "execute_result"
    }
   ],
   "source": [
    "np.random.rand(1)"
   ]
  },
  {
   "cell_type": "markdown",
   "id": "71b886bf",
   "metadata": {},
   "source": [
    "16) Generate a 7x5 matrix of 35 random numbers"
   ]
  },
  {
   "cell_type": "code",
   "execution_count": 57,
   "id": "fa393c25",
   "metadata": {},
   "outputs": [
    {
     "data": {
      "text/plain": [
       "array([[0.60459132, 0.49631172, 0.63658508, 0.53493018, 0.37346977],\n",
       "       [0.65923259, 0.8887218 , 0.21851662, 0.95782234, 0.93488718],\n",
       "       [0.5447538 , 0.10437195, 0.65062038, 0.97977896, 0.68558444],\n",
       "       [0.95642025, 0.28886883, 0.77865217, 0.91755889, 0.40334901],\n",
       "       [0.69080035, 0.40508768, 0.46158221, 0.18091505, 0.39338416],\n",
       "       [0.44253653, 0.67554998, 0.93970704, 0.4039177 , 0.03230396],\n",
       "       [0.28429157, 0.9350722 , 0.62210499, 0.37262486, 0.22336125]])"
      ]
     },
     "execution_count": 57,
     "metadata": {},
     "output_type": "execute_result"
    }
   ],
   "source": [
    "np.random.rand(7, 5)"
   ]
  },
  {
   "cell_type": "markdown",
   "id": "cfaeb035",
   "metadata": {},
   "source": [
    "17) Generate the identity matrix and times it by 5"
   ]
  },
  {
   "cell_type": "code",
   "execution_count": 61,
   "id": "2ace5c63",
   "metadata": {},
   "outputs": [
    {
     "data": {
      "text/plain": [
       "array([[5., 0., 0., 0., 0.],\n",
       "       [0., 5., 0., 0., 0.],\n",
       "       [0., 0., 5., 0., 0.],\n",
       "       [0., 0., 0., 5., 0.],\n",
       "       [0., 0., 0., 0., 5.]])"
      ]
     },
     "execution_count": 61,
     "metadata": {},
     "output_type": "execute_result"
    }
   ],
   "source": [
    "np.eye(5) * 5"
   ]
  },
  {
   "cell_type": "markdown",
   "id": "581a94eb",
   "metadata": {},
   "source": [
    "18) Generate a 6x5 matrix containing numbers from 0 to 29"
   ]
  },
  {
   "cell_type": "code",
   "execution_count": 63,
   "id": "50dd2be4",
   "metadata": {},
   "outputs": [
    {
     "data": {
      "text/plain": [
       "array([[ 0,  1,  2,  3,  4],\n",
       "       [ 5,  6,  7,  8,  9],\n",
       "       [10, 11, 12, 13, 14],\n",
       "       [15, 16, 17, 18, 19],\n",
       "       [20, 21, 22, 23, 24],\n",
       "       [25, 26, 27, 28, 29]])"
      ]
     },
     "execution_count": 63,
     "metadata": {},
     "output_type": "execute_result"
    }
   ],
   "source": [
    "arr = np.arange(0, 30).reshape(6, 5)\n",
    "arr"
   ]
  },
  {
   "cell_type": "code",
   "execution_count": 66,
   "id": "1449fb92",
   "metadata": {},
   "outputs": [
    {
     "data": {
      "text/plain": [
       "array([[17, 18, 19],\n",
       "       [22, 23, 24],\n",
       "       [27, 28, 29]])"
      ]
     },
     "execution_count": 66,
     "metadata": {},
     "output_type": "execute_result"
    }
   ],
   "source": [
    "# slice a 3x3 matrix from bottom right\n",
    "arr[3:,2:]"
   ]
  },
  {
   "cell_type": "code",
   "execution_count": 67,
   "id": "a8587004",
   "metadata": {},
   "outputs": [
    {
     "data": {
      "text/plain": [
       "29"
      ]
     },
     "execution_count": 67,
     "metadata": {},
     "output_type": "execute_result"
    }
   ],
   "source": [
    "# get number 29\n",
    "arr[3:,2:][2, 2]"
   ]
  },
  {
   "cell_type": "code",
   "execution_count": 72,
   "id": "b05bb64b",
   "metadata": {},
   "outputs": [
    {
     "data": {
      "text/plain": [
       "array([[ 1],\n",
       "       [ 6],\n",
       "       [11]])"
      ]
     },
     "execution_count": 72,
     "metadata": {},
     "output_type": "execute_result"
    }
   ],
   "source": [
    "# get a 3x1 vector from container 1, 6, 11\n",
    "arr[0:3, 1].reshape(3, 1)"
   ]
  },
  {
   "cell_type": "code",
   "execution_count": 73,
   "id": "4cdad085",
   "metadata": {},
   "outputs": [
    {
     "data": {
      "text/plain": [
       "array([10, 11, 12, 13, 14])"
      ]
     },
     "execution_count": 73,
     "metadata": {},
     "output_type": "execute_result"
    }
   ],
   "source": [
    "# get the third row\n",
    "arr[2]"
   ]
  },
  {
   "cell_type": "code",
   "execution_count": 74,
   "id": "12944786",
   "metadata": {},
   "outputs": [
    {
     "data": {
      "text/plain": [
       "array([[10, 11, 12, 13, 14],\n",
       "       [15, 16, 17, 18, 19]])"
      ]
     },
     "execution_count": 74,
     "metadata": {},
     "output_type": "execute_result"
    }
   ],
   "source": [
    "# get the third and fourth rows\n",
    "arr[[2, 3]]"
   ]
  },
  {
   "cell_type": "markdown",
   "id": "d77ab0a5",
   "metadata": {},
   "source": [
    "19) Can u calculate the sum of all the numbers in the above array?"
   ]
  },
  {
   "cell_type": "code",
   "execution_count": 101,
   "id": "bb3b9276",
   "metadata": {},
   "outputs": [
    {
     "name": "stdout",
     "output_type": "stream",
     "text": [
      "435\n",
      "435\n"
     ]
    }
   ],
   "source": [
    "total = 0\n",
    "shape = arr.shape\n",
    "for i in range(shape[0]):\n",
    "    for j in range(shape[1]):\n",
    "        total += arr[i][j]\n",
    "print(total)\n",
    "print(arr.sum())"
   ]
  },
  {
   "cell_type": "markdown",
   "id": "4701d498",
   "metadata": {},
   "source": [
    "20) Calculate the sum of all the rows and columns in above array"
   ]
  },
  {
   "cell_type": "code",
   "execution_count": 98,
   "id": "66cef52d",
   "metadata": {},
   "outputs": [
    {
     "name": "stdout",
     "output_type": "stream",
     "text": [
      "Row sum:  [ 10  35  60  85 110 135]\n",
      "Col sum:  [75 81 87 93 99]\n"
     ]
    }
   ],
   "source": [
    "print('Row sum: ', arr.sum(axis=1))\n",
    "print('Col sum: ', arr.sum(axis=0))"
   ]
  },
  {
   "cell_type": "markdown",
   "id": "6ce59b55",
   "metadata": {},
   "source": [
    "21) Calculate the standard deviation of the values in above array"
   ]
  },
  {
   "cell_type": "code",
   "execution_count": 100,
   "id": "874f21b4",
   "metadata": {},
   "outputs": [
    {
     "data": {
      "text/plain": [
       "8.65544144839919"
      ]
     },
     "execution_count": 100,
     "metadata": {},
     "output_type": "execute_result"
    }
   ],
   "source": [
    "arr.std()"
   ]
  },
  {
   "cell_type": "markdown",
   "id": "22c61f24",
   "metadata": {},
   "source": [
    "22) Create a boolean mask and list out the numbers that are not divisible by 3 in above array"
   ]
  },
  {
   "cell_type": "code",
   "execution_count": 102,
   "id": "1b1f5ab4",
   "metadata": {},
   "outputs": [
    {
     "data": {
      "text/plain": [
       "array([ 1,  2,  4,  5,  7,  8, 10, 11, 13, 14, 16, 17, 19, 20, 22, 23, 25,\n",
       "       26, 28, 29])"
      ]
     },
     "execution_count": 102,
     "metadata": {},
     "output_type": "execute_result"
    }
   ],
   "source": [
    "mask = (arr % 3) != 0\n",
    "arr[mask]"
   ]
  }
 ],
 "metadata": {
  "kernelspec": {
   "display_name": "Python 3 (ipykernel)",
   "language": "python",
   "name": "python3"
  },
  "language_info": {
   "codemirror_mode": {
    "name": "ipython",
    "version": 3
   },
   "file_extension": ".py",
   "mimetype": "text/x-python",
   "name": "python",
   "nbconvert_exporter": "python",
   "pygments_lexer": "ipython3",
   "version": "3.10.8"
  }
 },
 "nbformat": 4,
 "nbformat_minor": 5
}
